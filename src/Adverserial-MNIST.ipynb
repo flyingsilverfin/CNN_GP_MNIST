{
 "cells": [
  {
   "cell_type": "code",
   "execution_count": 1,
   "metadata": {},
   "outputs": [
    {
     "name": "stderr",
     "output_type": "stream",
     "text": [
      "Using TensorFlow backend.\n"
     ]
    }
   ],
   "source": [
    "import gpflow\n",
    "import tensorflow as tf\n",
    "import matplotlib\n",
    "import numpy as np\n",
    "import matplotlib.pyplot as plt\n",
    "import scipy.io\n",
    "plt.style.use('ggplot')\n",
    "%matplotlib inline\n",
    "\n",
    "import os\n",
    "os.environ[\"CUDA_VISIBLE_DEVICES\"] = '0'\n",
    "\n",
    "import keras\n",
    "from keras.datasets import mnist\n",
    "from keras import backend as K\n",
    " \n",
    "\n",
    "\n",
    "xs_train_full = np.genfromtxt(\"../data/mnist_train_features.csv\", delimiter=\",\")\n",
    "xs_test_full = np.genfromtxt(\"../data/mnist_test_features.csv\", delimiter=\",\")\n",
    "\n",
    "def get_mnist_classes():\n",
    "    (x_train, y_train), (x_test, y_test) = mnist.load_data()\n",
    "    # convert class vectors to binary class matrices\n",
    "    y_train = keras.utils.to_categorical(y_train, 10)\n",
    "    y_test = keras.utils.to_categorical(y_test, 10)\n",
    "    return ((x_train, x_test), (y_train, y_test))\n",
    "\n",
    "((mnist_train_full, mnist_test_full), (ys_train_full, ys_test_full)) = get_mnist_classes()\n"
   ]
  },
  {
   "cell_type": "code",
   "execution_count": 2,
   "metadata": {},
   "outputs": [
    {
     "name": "stdout",
     "output_type": "stream",
     "text": [
      "Using 128 features, predicting 10 classes\n"
     ]
    }
   ],
   "source": [
    "# fitting entirety of model on base MNIST data\n",
    "\n",
    "num_features = xs_train_full.shape[-1]\n",
    "num_classes = 10\n",
    "print(\"Using\", num_features, \"features, predicting\", num_classes, \"classes\")\n",
    "\n",
    "ys = np.argmax(ys_train_full, axis=1)\n",
    "\n",
    "gp_model = gpflow.models.SVGP(\n",
    "    xs_train_full, ys, kern=gpflow.kernels.Matern32(input_dim=num_features) + gpflow.kernels.White(input_dim=num_features, variance=0.1),\n",
    "    likelihood=gpflow.likelihoods.MultiClass(num_classes),\n",
    "    Z=xs_train_full[::20].copy(), \n",
    "    num_latent=num_classes, \n",
    "    whiten=True, \n",
    "    q_diag=True,\n",
    "    minibatch_size=8000)\n",
    "gp_model.kern.white.variance.trainable = False\n",
    "#gp_model.feature.trainable = False"
   ]
  },
  {
   "cell_type": "code",
   "execution_count": 3,
   "metadata": {},
   "outputs": [
    {
     "name": "stdout",
     "output_type": "stream",
     "text": [
      "INFO:tensorflow:Optimization terminated with:\n",
      "  Message: b'CONVERGENCE: REL_REDUCTION_OF_F_<=_FACTR*EPSMCH'\n",
      "  Objective function value: 6100.389939\n",
      "  Number of iterations: 18\n",
      "  Number of functions evaluations: 34\n"
     ]
    }
   ],
   "source": [
    "opt = gpflow.train.ScipyOptimizer()\n",
    "opt.minimize(gp_model)"
   ]
  },
  {
   "cell_type": "code",
   "execution_count": 4,
   "metadata": {},
   "outputs": [],
   "source": [
    "(mu, var) = gp_model.predict_y(xs_test_full)\n",
    "gp_predicted_classes = np.argmax(mu, axis=1)"
   ]
  },
  {
   "cell_type": "code",
   "execution_count": 5,
   "metadata": {},
   "outputs": [],
   "source": [
    "correct_classes = np.argmax(ys_test_full, axis=1)"
   ]
  },
  {
   "cell_type": "code",
   "execution_count": 6,
   "metadata": {},
   "outputs": [
    {
     "name": "stdout",
     "output_type": "stream",
     "text": [
      "Num GP incorrect:  92\n"
     ]
    }
   ],
   "source": [
    "print(\"Num GP incorrect: \", np.count_nonzero(gp_predicted_classes != correct_classes))"
   ]
  },
  {
   "cell_type": "code",
   "execution_count": 7,
   "metadata": {},
   "outputs": [],
   "source": [
    "img_rows, img_cols = 28, 28\n",
    "if K.image_data_format() == 'channels_first':\n",
    "    mnist_test_full_reshape = mnist_test_full.reshape(xs_test_full.shape[0], 1, img_rows, img_cols)\n",
    "    input_shape = (1, img_rows, img_cols)\n",
    "else:\n",
    "    mnist_test_full_reshape = mnist_test_full.reshape(xs_test_full.shape[0], img_rows, img_cols, 1)\n",
    "    input_shape = (img_rows, img_cols, 1)\n",
    "    \n",
    "\n",
    "mnist_test_full_reshape = mnist_test_full_reshape.astype('float32')\n",
    "mnist_test_full_reshape /= 255"
   ]
  },
  {
   "cell_type": "code",
   "execution_count": 9,
   "metadata": {},
   "outputs": [
    {
     "name": "stdout",
     "output_type": "stream",
     "text": [
      "Num CNN incorrect: 89\n"
     ]
    }
   ],
   "source": [
    "K.get_session().close() # just to be sure\n",
    "\n",
    "# Keras approach!\n",
    "\n",
    "# release graph resources when done otherwise inconsistent results\n",
    "with tf.Graph().as_default():\n",
    "    with tf.Session().as_default() as sess:\n",
    "        K.set_session(sess)\n",
    "        mnist_cnn = keras.models.load_model('../models/mnist_cnn.h5')\n",
    "        cnn_test_probs = mnist_cnn.predict_on_batch(mnist_test_full_reshape)\n",
    "        cnn_predicted_classes = np.argmax(cnn_test_probs, axis=1)\n",
    "        print(\"Num CNN incorrect:\", np.count_nonzero(cnn_predicted_classes != correct_classes))\n",
    "        K.get_session().close()\n",
    "  "
   ]
  },
  {
   "cell_type": "code",
   "execution_count": 10,
   "metadata": {},
   "outputs": [
    {
     "name": "stdout",
     "output_type": "stream",
     "text": [
      "Num CNN incorrect: 89\n"
     ]
    }
   ],
   "source": [
    "# TF approach!\n",
    "\n",
    "with tf.Graph().as_default():\n",
    "    with tf.Session() as sess:\n",
    "        K.set_learning_phase(0) #set learning phase to test!\n",
    "        # get the full CNN\n",
    "        mnist_cnn = keras.models.load_model('../models/mnist_cnn.h5')\n",
    "        \n",
    "        x = tf.placeholder(tf.float32, shape=(None, 28, 28, 1))\n",
    "        cnn_preds_placeholder = mnist_cnn(x)\n",
    "\n",
    "        cnn_test_probs = cnn_preds_placeholder.eval(feed_dict={x: mnist_test_full_reshape})\n",
    "        \n",
    "        cnn_predicted_classes = np.argmax(cnn_test_probs, axis=1)\n",
    "        print(\"Num CNN incorrect:\", np.count_nonzero(cnn_predicted_classes != correct_classes))\n",
    "        sess.close()"
   ]
  },
  {
   "cell_type": "code",
   "execution_count": 11,
   "metadata": {},
   "outputs": [],
   "source": [
    "# Combined model\n",
    "\n",
    "\"\"\"\n",
    "params:\n",
    "    cnn_path: trained mnist CNN file path\n",
    "    gp: trained gaussian process for multiclass classification\n",
    "    verbose: printing on/off \n",
    "    accept_cnn_stddev: if CNN predicted class has higher prob than GP's, this is number of stddevs the CNN prediction needs to be within from the GP prediction to acccept it\n",
    "        ie. higher = more likely to revert to CNN!\n",
    "\"\"\"\n",
    "def combined_predict(cnn_path, gp, images, verbose=False, accept_cnn_stddev=1):\n",
    "    # so my CNN can only predict on batches of 4 or greater...\n",
    "    if images.shape[0] < 4:\n",
    "        print(\"Can only predict with >= 4 images at a time\")\n",
    "        return\n",
    "    batch = images\n",
    "    \n",
    "    cnn_probs_batch = None\n",
    "    features = None\n",
    "    \n",
    "    with tf.Graph().as_default():\n",
    "        with tf.Session().as_default():\n",
    "            mnist_cnn = keras.models.load_model(cnn_path)\n",
    "            cnn_probs_batch = mnist_cnn.predict_on_batch(mnist_test_full_reshape)\n",
    "    \n",
    "            # need to get output of second to last layer in CNN to feed into GP\n",
    "\n",
    "            if verbose:\n",
    "                print(\"Extracting features from second to last layer of CNN\")\n",
    "            feature_extractor = K.function([mnist_cnn.layers[0].input, K.learning_phase()],\n",
    "                                           [mnist_cnn.layers[-2].output])\n",
    "            features = feature_extractor([images, 0])[0]\n",
    "    \n",
    "    gp_mu, gp_var = gp.predict_y(features)\n",
    "\n",
    "    \n",
    "    decisions = []\n",
    "    decision_probs = []\n",
    "    decision_vars = []\n",
    "    for (mu, var, cnn_probs) in zip(gp_mu, gp_var, cnn_probs_batch):\n",
    "        cnn_class = np.argmax(cnn_probs)\n",
    "        gp_class = np.argmax(mu)\n",
    "        \n",
    "        gp_pred_prob = mu[gp_class]\n",
    "        gp_pred_var = var[gp_class]\n",
    "        \n",
    "        cnn_pred_prob = cnn_probs[cnn_class]\n",
    "        \n",
    "        # both classes agree\n",
    "        if gp_class == cnn_class:\n",
    "            # we may have to accept the wrong decision but can't do anything about it\n",
    "            #if verbose:\n",
    "            #    print(\"Models agree on predicted class\")\n",
    "            decisions.append([0, gp_class, gp_pred_prob, gp_pred_var])\n",
    "            decision_probs.append(mu)\n",
    "            decision_vars.append(var)\n",
    "\n",
    "        else:\n",
    "            # disagreement! This is additional information\n",
    "            # From prior experiments we suspect that NN is more likely to be correct [non-adverserial examples tested]\n",
    "            # So, if we take the CNN prediction and check if it's the same as the _second_ highest GP prediction\n",
    "            # try using that?\n",
    "\n",
    "            # Revised:\n",
    "            #  Take the CNN prediction IF it's probability is within 1 stddev of the corresponding GP class probability\n",
    "\n",
    "            # core idea: if CNN is _too_ sure then we revert to GP prediction -- might be adverserial...?\n",
    "\n",
    "            gp_prob_for_cnn_pred = mu[cnn_class]\n",
    "            gp_stddev_for_cnn_pred = np.sqrt(var[cnn_class])\n",
    "\n",
    "            if verbose:\n",
    "                print(\"Models disagree on predicted class\")\n",
    "\n",
    "            if cnn_pred_prob < (gp_prob_for_cnn_pred + accept_cnn_stddev*gp_stddev_for_cnn_pred):\n",
    "                if verbose:\n",
    "                    print(\"  Taking CNN prediction, probability is within\", accept_cnn_stddev, \"stddev of GP probability\")\n",
    "                decisions.append([1, cnn_class, cnn_pred_prob, -1])\n",
    "                decision_probs.append(cnn_probs)\n",
    "                decision_vars.append([-1 for x in range(mu.shape[-1])])\n",
    "\n",
    "            else:\n",
    "                if verbose:\n",
    "                    print(\"  Taking GP prediction\")\n",
    "                decisions.append([0, gp_class, gp_pred_prob, gp_pred_var])\n",
    "                decision_probs.append(mu)\n",
    "                decision_vars.append(var)\n",
    "    return (np.array(decisions), np.array(decision_probs), np.array(decision_vars))\n"
   ]
  },
  {
   "cell_type": "code",
   "execution_count": 12,
   "metadata": {},
   "outputs": [
    {
     "name": "stdout",
     "output_type": "stream",
     "text": [
      "Num Combined incorrect:  90\n"
     ]
    }
   ],
   "source": [
    "combined_pred, combined_mus, combined_vars = combined_predict(cnn_path=\"../models/mnist_cnn.h5\", gp=gp_model, images=mnist_test_full_reshape, accept_cnn_stddev=1.0)\n",
    "combined_pred_classes = combined_pred[:, 1]\n",
    "combined_incorrect = combined_pred_classes != correct_classes\n",
    "print(\"Num Combined incorrect: \", np.count_nonzero(combined_incorrect))"
   ]
  },
  {
   "cell_type": "code",
   "execution_count": 13,
   "metadata": {},
   "outputs": [],
   "source": [
    "# have all 3 models available now\n"
   ]
  },
  {
   "cell_type": "code",
   "execution_count": 28,
   "metadata": {},
   "outputs": [],
   "source": [
    "from cleverhans.utils_mnist import data_mnist\n",
    "from cleverhans.utils_tf import model_train, model_eval\n",
    "from cleverhans.attacks import FastGradientMethod\n",
    "from cleverhans.utils import AccuracyReport\n",
    "from cleverhans.utils_keras import cnn_model\n",
    "from cleverhans.utils_keras import KerasModelWrapper\n",
    "\n",
    "\n",
    "adv_predictions = None\n",
    "perturbed = None\n",
    "with tf.Graph().as_default() as graph:\n",
    "    with tf.Session().as_default() as sess:\n",
    "        K.set_learning_phase(0) #set learning phase\n",
    "\n",
    "        #make a fresh copy to not modify other graph\n",
    "        model = keras.models.load_model('../models/mnist_cnn.h5')\n",
    "            \n",
    "        x = tf.placeholder(tf.float32, shape=(None, 28, 28, 1))\n",
    "        y = tf.placeholder(tf.float32, shape=(None, 10))\n",
    "\n",
    "        # Initialize the Fast Gradient Sign Method (FGSM) attack object and graph\n",
    "        wrap = KerasModelWrapper(model)\n",
    "        fgsm = FastGradientMethod(wrap, sess=sess)\n",
    "        fgsm_params = {'eps': 0.10,\n",
    "                       'clip_min': 0.,\n",
    "                       'clip_max': 1.}\n",
    "        adv_x = fgsm.generate(x, **fgsm_params)\n",
    "        # Consider the attack to be constant\n",
    "        adv_x = tf.stop_gradient(adv_x)\n",
    "        preds_adv = model(adv_x)\n",
    "\n",
    "        adv_predictions = sess.run(preds_adv, {x: mnist_test_full_reshape})\n",
    "        perturbed = sess.run(adv_x, {x: mnist_test_full_reshape})\n",
    "        \n"
   ]
  },
  {
   "cell_type": "code",
   "execution_count": 29,
   "metadata": {},
   "outputs": [
    {
     "name": "stdout",
     "output_type": "stream",
     "text": [
      "(10000, 28, 28, 1)\n",
      "Incorrect:  809\n"
     ]
    },
    {
     "data": {
      "image/png": "[encoded data removed]",
      "text/plain": [
       "<matplotlib.figure.Figure at 0x7f40afe07cf8>"
      ]
     },
     "metadata": {},
     "output_type": "display_data"
    }
   ],
   "source": [
    "\n",
    "print(perturbed.shape)\n",
    "plt.imshow(perturbed[3].reshape((28,28)), cmap=plt.get_cmap('gray'))\n",
    "print(\"Incorrect: \", np.count_nonzero(correct_classes != np.argmax(adv_predictions, axis=1)))\n"
   ]
  },
  {
   "cell_type": "code",
   "execution_count": 30,
   "metadata": {},
   "outputs": [],
   "source": [
    "def preprocess_mnist(xs, ys, one_hot_encode=-1):\n",
    "    img_rows, img_cols = 28, 28    \n",
    "    # reshape to inputs to correct shape\n",
    "    if K.image_data_format() == 'channels_first':\n",
    "        xs = xs.reshape(xs.shape[0], 1, img_rows, img_cols)\n",
    "        input_shape = (1, img_rows, img_cols)\n",
    "    else:\n",
    "        xs = xs.reshape(xs.shape[0], img_rows, img_cols, 1)\n",
    "        input_shape = (img_rows, img_cols, 1)\n",
    "    xs = xs.astype('float32')\n",
    "    xs /= 255\n",
    "    \n",
    "    if one_hot_encode != -1:\n",
    "        ys = keras.utils.to_categorical(ys, one_hot_encode) # one_hot_encode is the number of classes\n",
    "    \n",
    "    return (xs, ys)\n"
   ]
  },
  {
   "cell_type": "code",
   "execution_count": 31,
   "metadata": {},
   "outputs": [],
   "source": [
    "adv_fsgm_features = None\n",
    "with tf.Graph().as_default():\n",
    "    with tf.Session().as_default() as sess:\n",
    "        K.set_session(sess)\n",
    "        K.set_learning_phase(0) #set learning phase\n",
    "\n",
    "        #make a fresh copy to not modify other graph\n",
    "        model = keras.models.load_model('../models/mnist_cnn.h5')\n",
    "        feature_extractor = K.function([model.layers[0].input, K.learning_phase()],\n",
    "                                       [model.layers[6].output])\n",
    "        pert, ys = preprocess_mnist(perturbed, ys_test_full)\n",
    "        adv_fsgm_features = feature_extractor([pert])[0]"
   ]
  },
  {
   "cell_type": "code",
   "execution_count": 32,
   "metadata": {},
   "outputs": [
    {
     "data": {
      "text/plain": [
       "array([[ 0.,  0.,  0., ...,  0.,  0.,  0.],\n",
       "       [ 0.,  0.,  0., ...,  0.,  0.,  0.],\n",
       "       [ 0.,  0.,  0., ...,  0.,  0.,  0.],\n",
       "       ..., \n",
       "       [ 0.,  0.,  0., ...,  0.,  0.,  0.],\n",
       "       [ 0.,  0.,  0., ...,  0.,  0.,  0.],\n",
       "       [ 0.,  0.,  0., ...,  0.,  0.,  0.]], dtype=float32)"
      ]
     },
     "execution_count": 32,
     "metadata": {},
     "output_type": "execute_result"
    }
   ],
   "source": [
    "adv_fsgm_features"
   ]
  },
  {
   "cell_type": "code",
   "execution_count": 39,
   "metadata": {},
   "outputs": [
    {
     "name": "stdout",
     "output_type": "stream",
     "text": [
      "GP fsgm adversarial incorrect:  8865\n"
     ]
    }
   ],
   "source": [
    "with gpflow.session_manager.get_session().as_default():\n",
    "    (adv_mu, adv_var) = gp_model.predict_y(adv_fsgm_features)\n",
    "    adv_gp_preds = np.argmax(adv_mu, axis=1)\n",
    "    print(\"GP fsgm adversarial incorrect: \", np.count_nonzero(correct_classes != adv_gp_preds))\n"
   ]
  },
  {
   "cell_type": "code",
   "execution_count": 38,
   "metadata": {},
   "outputs": [
    {
     "data": {
      "text/plain": [
       "tensorflow.python.client.session.Session"
      ]
     },
     "execution_count": 38,
     "metadata": {},
     "output_type": "execute_result"
    }
   ],
   "source": []
  },
  {
   "cell_type": "code",
   "execution_count": 34,
   "metadata": {},
   "outputs": [
    {
     "name": "stdout",
     "output_type": "stream",
     "text": [
      "Num Combined incorrect:  802\n"
     ]
    }
   ],
   "source": [
    "adv_combined_pred, adv_combined_mus, adv_combined_vars = combined_predict(cnn_path=\"../models/mnist_cnn.h5\", gp=gp_model, images=perturbed, accept_cnn_stddev=0.5)\n",
    "adv_combined_pred_classes = adv_combined_pred[:, 1]\n",
    "adv_combined_incorrect = adv_combined_pred_classes != correct_classes\n",
    "print(\"Num Combined incorrect: \", np.count_nonzero(adv_combined_incorrect))"
   ]
  },
  {
   "cell_type": "code",
   "execution_count": null,
   "metadata": {},
   "outputs": [],
   "source": []
  }
 ],
 "metadata": {
  "kernelspec": {
   "display_name": "py_36_env",
   "language": "python",
   "name": "py_36_env"
  },
  "language_info": {
   "codemirror_mode": {
    "name": "ipython",
    "version": 3
   },
   "file_extension": ".py",
   "mimetype": "text/x-python",
   "name": "python",
   "nbconvert_exporter": "python",
   "pygments_lexer": "ipython3",
   "version": "3.5.2"
  }
 },
 "nbformat": 4,
 "nbformat_minor": 2
}
