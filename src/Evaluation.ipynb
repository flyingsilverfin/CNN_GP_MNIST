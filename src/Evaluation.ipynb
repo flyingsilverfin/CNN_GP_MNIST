{
 "cells": [
  {
   "cell_type": "code",
   "execution_count": 2,
   "metadata": {},
   "outputs": [
    {
     "name": "stderr",
     "output_type": "stream",
     "text": [
      "Using TensorFlow backend.\n"
     ]
    }
   ],
   "source": [
    "%load_ext autoreload \n",
    "%autoreload 2\n",
    "\n",
    "import os\n",
    "import gpflow\n",
    "import numpy as np\n",
    "import scipy.io\n",
    "import tensorflow as tf\n",
    "\n",
    "import matplotlib.pyplot as plt\n",
    "import matplotlib as mpl\n",
    "from matplotlib_venn import venn2\n",
    "plt.style.use('ggplot')\n",
    "mpl.rcParams['pgf.rcfonts'] = False\n",
    "\n",
    "os.environ[\"CUDA_VISIBLE_DEVICES\"] = ''\n",
    "\n",
    "# this doesn't work for some reason...\n",
    "# remove the default one just in case\n",
    "# gpflow.get_session().close()\n",
    "\n",
    "# gpu_options = tf.GPUOptions(per_process_gpu_memory_fraction=0.25)\n",
    "# config = config=tf.ConfigProto(gpu_options=gpu_options)\n",
    "# config.gpu_options.allow_growth=True\n",
    "# sess = gpflow.session_manager.tf.Session(config=config)\n",
    "# sess.as_default()\n",
    "# print(sess)\n",
    "\n",
    "from gp_svgp import GP_MNIST_SVGP\n",
    "from mnist_cnn import CNN_MNIST\n",
    "from mnist_svm import SVM_MNIST\n",
    "from hybrid_mnist import Hybrid_MNIST\n",
    "from mnist_preprocessing import get_mnist_data, preprocess_images\n",
    "\n",
    "#from plotting import Plotter"
   ]
  },
  {
   "cell_type": "code",
   "execution_count": null,
   "metadata": {},
   "outputs": [],
   "source": []
  },
  {
   "cell_type": "code",
   "execution_count": 3,
   "metadata": {},
   "outputs": [],
   "source": [
    "class Data(object):\n",
    "    def __init__(self):\n",
    "        self.data = {}\n",
    "    def write(self, path, value):\n",
    "        ptr = self.data\n",
    "        for key in path[:-1]:\n",
    "            if key not in ptr:\n",
    "                ptr[key] = {}\n",
    "            ptr = ptr[key]\n",
    "        ptr[path[-1]] = value\n",
    "    def dump(self, name, path=\"../data/evaluation/\"):\n",
    "        np.save(path + name, self.data)\n",
    "        print(\"Saved to file, emptying data container\")\n",
    "        self.data = {}\n",
    "\n",
    "data = Data()"
   ]
  },
  {
   "cell_type": "code",
   "execution_count": 4,
   "metadata": {},
   "outputs": [],
   "source": [
    "# Standard MNIST test data\n",
    "((_, mnist_test_imgs), (ys_train_onehot, ys_test_onehot)) = get_mnist_data()\n",
    "mnist_train_features = np.genfromtxt(\"../data/mnist_train_features.csv\", delimiter=\",\")\n",
    "mnist_test_features = np.genfromtxt(\"../data/mnist_test_features.csv\", delimiter=\",\")\n",
    "\n",
    "ys_train = np.argmax(ys_train_onehot, axis=1)\n",
    "ys_test = np.argmax(ys_test_onehot, axis=1)\n",
    "# easier to remember handle\n",
    "correct_classes = ys_test\n",
    "n = len(ys_test)"
   ]
  },
  {
   "cell_type": "code",
   "execution_count": 5,
   "metadata": {},
   "outputs": [],
   "source": [
    "cnn_model = CNN_MNIST(isolate=True) # isolate sessions # get default pretrained, saved CNN"
   ]
  },
  {
   "cell_type": "code",
   "execution_count": 6,
   "metadata": {},
   "outputs": [
    {
     "name": "stdout",
     "output_type": "stream",
     "text": [
      "Loading SVM from ../models/svm/svm_SVM classifier_model.pkl\n"
     ]
    }
   ],
   "source": [
    "svm_model = SVM_MNIST(mnist_train_features, ys_train, nb_classes=10, retrain=False)"
   ]
  },
  {
   "cell_type": "code",
   "execution_count": 7,
   "metadata": {},
   "outputs": [],
   "source": [
    "hybrid_models = []\n",
    "#for tol in np.arange(0, 2.0, 0.5):\n",
    "#    hybrid_models.append(Hybrid_MNIST(accept_cnn_tolerance = tol))\n",
    "for tol in np.arange(0.1, 0.9, 0.1):\n",
    "    hybrid_models.append(Hybrid_MNIST(accept_cnn_tolerance = tol, stronger_criterion=True))\n",
    "# hybrid_models.append(Hybrid_MNIST(accept_cnn_tolerance = 0.5, stronger_criterion=True))\n",
    "# hybrid_models.append(Hybrid_MNIST(accept_cnn_tolerance = 0.25, stronger_criterion=True))\n",
    "# hybrid_models.append(Hybrid_MNIST(accept_cnn_tolerance = 0.75, stronger_criterion=True))"
   ]
  },
  {
   "cell_type": "code",
   "execution_count": 8,
   "metadata": {},
   "outputs": [],
   "source": [
    "# instantiate models we want to test\n",
    "# only one at a time here to avoid interference\n",
    "\n",
    "get_gp_model = [\n",
    "                lambda: GP_MNIST_SVGP(kernel=gpflow.kernels.Polynomial, \n",
    "                     whitevar=0.1,\n",
    "                     latent_split=25,\n",
    "                     whiten=True,\n",
    "                     q_diag=True,\n",
    "                     minibatch=8000,\n",
    "                     whitevar_trainable=False,\n",
    "                     feat_trainable=True,\n",
    "                     name=\"Poly Kernel GP\",\n",
    "                     retrain=False),\n",
    "                lambda: GP_MNIST_SVGP(kernel=[gpflow.kernels.Linear, gpflow.kernels.Matern32], \n",
    "                     whitevar=0.1,\n",
    "                     latent_split=25,\n",
    "                     whiten=True,\n",
    "                     q_diag=True,\n",
    "                     minibatch=8000,\n",
    "                     whitevar_trainable=False,\n",
    "                     feat_trainable=True,\n",
    "                     name=\"Linear * Matern32 Kernel params2 GP\",\n",
    "                     retrain=False),\n",
    "                lambda: GP_MNIST_SVGP(kernel=[gpflow.kernels.Matern12], \n",
    "                     whitevar=0.1,\n",
    "                     latent_split=25,\n",
    "                     whiten=True,\n",
    "                     q_diag=True,\n",
    "                     minibatch=8000,\n",
    "                     whitevar_trainable=False,\n",
    "                     feat_trainable=True,\n",
    "                     name=\"Matern12 Kernel GP\",\n",
    "                     retrain=False),\n",
    "    \n",
    "    \n",
    "    \n",
    "#     lambda: GP_MNIST_SVGP(kernel=[gpflow.kernels.Linear, gpflow.kernels.Matern32], \n",
    "#                          whitevar=0.1,\n",
    "#                          latent_split=25,\n",
    "#                          whiten=True,\n",
    "#                          q_diag=True,\n",
    "#                          minibatch=8000,\n",
    "#                          whitevar_trainable=False,\n",
    "#                          feat_trainable=True,\n",
    "#                          name=\"Linear * Matern32 Kernel params2 GP\",\n",
    "#                          retrain=False),\n",
    "#                 lambda: GP_MNIST_SVGP(kernel=[gpflow.kernels.Polynomial, gpflow.kernels.Linear],\n",
    "#                          whitevar=0.1,\n",
    "#                          latent_split=25,\n",
    "#                          whiten=True,\n",
    "#                          q_diag=True,\n",
    "#                          minibatch=8000,\n",
    "#                          whitevar_trainable=False,\n",
    "#                          feat_trainable=True,\n",
    "#                          name=\"Poly * Linear Kernel GP\",\n",
    "#                          retrain=False),\n",
    "#                     lambda: GP_MNIST_SVGP(kernel=[gpflow.kernels.Polynomial, gpflow.kernels.Matern12],\n",
    "#                          whitevar=0.1,\n",
    "#                          latent_split=25,\n",
    "#                          whiten=True,\n",
    "#                          q_diag=True,\n",
    "#                          minibatch=8000,\n",
    "#                          whitevar_trainable=False,\n",
    "#                          feat_trainable=True,\n",
    "#                          name=\"Poly * Matern12 Kernel GP\",\n",
    "#                          retrain=False),\n",
    "#                     lambda: GP_MNIST_SVGP(kernel=[gpflow.kernels.Polynomial, gpflow.kernels.Matern32],\n",
    "#                          whitevar=0.1,\n",
    "#                          latent_split=25,\n",
    "#                          whiten=True,\n",
    "#                          q_diag=True,\n",
    "#                          minibatch=8000,\n",
    "#                          whitevar_trainable=False,\n",
    "#                          feat_trainable=True,\n",
    "#                          name=\"Poly * Matern32 Kernel GP\",\n",
    "#                          retrain=False)\n",
    "#                 lambda: GP_MNIST_SVGP(kernel=[gpflow.kernels.Linear, gpflow.kernels.Matern52], \n",
    "#                          whitevar=0.1,\n",
    "#                          latent_split=25,\n",
    "#                          whiten=True,\n",
    "#                          q_diag=True,\n",
    "#                          minibatch=8000,\n",
    "#                          whitevar_trainable=False,\n",
    "#                          feat_trainable=True,\n",
    "#                          name=\"Linear * Matern52 Kernel params2 GP\",\n",
    "#                          retrain=False),\n",
    "#                          lambda: GP_MNIST_SVGP(kernel=gpflow.kernels.Linear, \n",
    "#                          whitevar=0.1,\n",
    "#                          latent_split=25,\n",
    "#                          whiten=True,\n",
    "#                          q_diag=True,\n",
    "#                          minibatch=8000,\n",
    "#                          whitevar_trainable=False,\n",
    "#                          feat_trainable=True,\n",
    "#                          name=\"Linear Kernel GP\", \n",
    "#                          retrain=False),\n",
    "#                 lambda: GP_MNIST_SVGP(kernel=gpflow.kernels.Matern12, \n",
    "#                          whitevar=0.1,\n",
    "#                          latent_split=25,\n",
    "#                          whiten=True,\n",
    "#                          q_diag=True,\n",
    "#                          minibatch=8000,\n",
    "#                          whitevar_trainable=False,\n",
    "#                          feat_trainable=True,\n",
    "#                          name=\"Matern12 Kernel GP\",\n",
    "#                          retrain=False),\n",
    "#                 lambda: GP_MNIST_SVGP(kernel=gpflow.kernels.Matern32, \n",
    "#                          whitevar=0.1,\n",
    "#                          latent_split=25,\n",
    "#                          whiten=True,\n",
    "#                          q_diag=True,\n",
    "#                          minibatch=8000,\n",
    "#                          whitevar_trainable=False,\n",
    "#                          feat_trainable=True,\n",
    "#                          name=\"Matern32 Kernel GP\",\n",
    "#                          retrain=False),\n",
    "#                 lambda: GP_MNIST_SVGP(kernel=gpflow.kernels.Matern52, \n",
    "#                          whitevar=0.1,\n",
    "#                          latent_split=25,\n",
    "#                          whiten=True,\n",
    "#                          q_diag=True,\n",
    "#                          minibatch=8000,\n",
    "#                          whitevar_trainable=False,\n",
    "#                          feat_trainable=True,\n",
    "#                          name=\"Matern52 Kernel GP\",\n",
    "#                          retrain=False),\n",
    "#                 lambda: GP_MNIST_SVGP(kernel=gpflow.kernels.RBF, \n",
    "#                          whitevar=0.1,\n",
    "#                          latent_split=25,\n",
    "#                          whiten=True,\n",
    "#                          q_diag=True,\n",
    "#                          minibatch=8000,\n",
    "#                          whitevar_trainable=False,\n",
    "#                          feat_trainable=True,\n",
    "#                          name=\"RBF Kernel GP\",\n",
    "#                          retrain=False)\n",
    "                ]\n"
   ]
  },
  {
   "cell_type": "code",
   "execution_count": 9,
   "metadata": {},
   "outputs": [
    {
     "name": "stdout",
     "output_type": "stream",
     "text": [
      "CNN accuracy:  0.9911\n",
      "SVM accuracy:  0.9937\n"
     ]
    }
   ],
   "source": [
    "record_in = 'Standard MNIST'\n",
    "\n",
    "# prediction accuracies\n",
    "subkey = 'accuracy'\n",
    "\n",
    "\n",
    "#CNN\n",
    "mnist_cnn_preds = cnn_model.predict_img_batch(mnist_test_imgs)\n",
    "mnist_cnn_classes = np.argmax(mnist_cnn_preds, axis=1)\n",
    "mnist_cnn_correct = correct_classes == mnist_cnn_classes\n",
    "mnist_cnn_accuracy = np.count_nonzero(mnist_cnn_correct) / n\n",
    "print(\"CNN accuracy: \", mnist_cnn_accuracy)\n",
    "data.write([record_in, subkey, cnn_model.name],mnist_cnn_accuracy)\n",
    "\n",
    "# SVM\n",
    "mnist_svm_classes = svm_model.predict_batch(mnist_test_features)\n",
    "mnist_svm_correct = correct_classes == mnist_svm_classes\n",
    "mnist_svm_accuracy = np.count_nonzero(mnist_svm_correct) / n\n",
    "print(\"SVM accuracy: \", mnist_svm_accuracy)\n",
    "data.write([record_in, subkey, svm_model.name], mnist_svm_accuracy)\n"
   ]
  },
  {
   "cell_type": "code",
   "execution_count": 9,
   "metadata": {},
   "outputs": [
    {
     "name": "stdout",
     "output_type": "stream",
     "text": [
      "Initialized Poly Kernel GP\n",
      "Loading GP model from file ../models/gp/Poly Kernel GP_model.npy\n",
      "Instantiated Poly Kernel GP\n",
      "Poly Kernel GP accuracy:  0.9891\n"
     ]
    },
    {
     "ename": "NameError",
     "evalue": "name 'record_in' is not defined",
     "output_type": "error",
     "traceback": [
      "\u001b[0;31m---------------------------------------------------------------------------\u001b[0m",
      "\u001b[0;31mNameError\u001b[0m                                 Traceback (most recent call last)",
      "\u001b[0;32m<ipython-input-9-a00c5078430e>\u001b[0m in \u001b[0;36m<module>\u001b[0;34m()\u001b[0m\n\u001b[1;32m      8\u001b[0m     \u001b[0mmnist_gp_accuracy\u001b[0m \u001b[0;34m=\u001b[0m \u001b[0mnp\u001b[0m\u001b[0;34m.\u001b[0m\u001b[0mcount_nonzero\u001b[0m\u001b[0;34m(\u001b[0m\u001b[0mmnist_gp_correct\u001b[0m\u001b[0;34m)\u001b[0m \u001b[0;34m/\u001b[0m \u001b[0mn\u001b[0m\u001b[0;34m\u001b[0m\u001b[0m\n\u001b[1;32m      9\u001b[0m     \u001b[0mprint\u001b[0m\u001b[0;34m(\u001b[0m\u001b[0mgp_model\u001b[0m\u001b[0;34m.\u001b[0m\u001b[0mname\u001b[0m\u001b[0;34m,\u001b[0m \u001b[0;34m\"accuracy: \"\u001b[0m\u001b[0;34m,\u001b[0m \u001b[0mmnist_gp_accuracy\u001b[0m\u001b[0;34m)\u001b[0m\u001b[0;34m\u001b[0m\u001b[0m\n\u001b[0;32m---> 10\u001b[0;31m     \u001b[0mdata\u001b[0m\u001b[0;34m.\u001b[0m\u001b[0mwrite\u001b[0m\u001b[0;34m(\u001b[0m\u001b[0;34m[\u001b[0m\u001b[0mrecord_in\u001b[0m\u001b[0;34m,\u001b[0m \u001b[0msubkey\u001b[0m\u001b[0;34m,\u001b[0m \u001b[0mgp_model\u001b[0m\u001b[0;34m.\u001b[0m\u001b[0mname\u001b[0m\u001b[0;34m]\u001b[0m\u001b[0;34m,\u001b[0m \u001b[0mmnist_gp_accuracy\u001b[0m\u001b[0;34m)\u001b[0m\u001b[0;34m\u001b[0m\u001b[0m\n\u001b[0m\u001b[1;32m     11\u001b[0m \u001b[0;34m\u001b[0m\u001b[0m\n\u001b[1;32m     12\u001b[0m \u001b[0;34m\u001b[0m\u001b[0m\n",
      "\u001b[0;31mNameError\u001b[0m: name 'record_in' is not defined"
     ]
    }
   ],
   "source": [
    "# GP\n",
    "for gp_model_getter in get_gp_model:\n",
    "    gp_model = gp_model_getter()\n",
    "    print(\"Instantiated\", gp_model.name)\n",
    "    mnist_gp_mu, mnist_gp_var = gp_model.predict_batch(mnist_test_features)\n",
    "    mnist_gp_classes = np.argmax(mnist_gp_mu, axis=1)\n",
    "    mnist_gp_correct = correct_classes == mnist_gp_classes\n",
    "    mnist_gp_accuracy = np.count_nonzero(mnist_gp_correct) / n\n",
    "    print(gp_model.name, \"accuracy: \", mnist_gp_accuracy)\n",
    "    data.write([record_in, subkey, gp_model.name], mnist_gp_accuracy)\n",
    "\n",
    "    \n",
    "    # analyze the overlap in mis-classifications\n",
    "    mnist_cnn_incorrect = correct_classes != mnist_cnn_classes\n",
    "    mnist_gp_incorrect = correct_classes != mnist_gp_classes\n",
    "    mnist_overlap_incorrect = mnist_cnn_incorrect & mnist_gp_incorrect\n",
    "    both_incorrect = np.count_nonzero(mnist_overlap_incorrect)\n",
    "    print(\"Number incorrect in both models:\", both_incorrect)\n",
    "    print(\"Number CNN incorrect but not GP:\", np.count_nonzero(mnist_cnn_incorrect) -  both_incorrect)\n",
    "    print(\"Number GP incorrect but not CNN:\", np.count_nonzero(mnist_gp_incorrect) -  both_incorrect)\n",
    "    both_incorrect_imgs = mnist_test_imgs[mnist_overlap_incorrect]\n",
    "    #plt.imshow(both_incorrect_imgs[0])\n",
    "    \n",
    "    gp_correct_not_cnn = mnist_gp_correct & ~mnist_cnn_correct\n",
    "    print(\"Number GP Correct but not CNN\", np.count_nonzero(gp_correct_not_cnn))\n",
    "    \n",
    "    cnn_correct_not_gp = mnist_cnn_correct & ~mnist_gp_correct\n",
    "    print(\"Number CNN Correct but not GP\", np.count_nonzero(cnn_correct_not_gp))\n",
    "\n",
    "\n",
    "    plt.figure(figsize=(4,4))\n",
    "    v = venn2(subsets=(np.count_nonzero(gp_correct_not_cnn),np.count_nonzero(cnn_correct_not_gp), both_incorrect), set_labels = ('GP', 'CNN', 'Both'))\n",
    "    plt.title(\"Incorrect classifications\")\n",
    "    #plt.annotate('Unknown set', xy=v.get_label_by_id('100').get_position() - np.array([0, 0.05]), xytext=(-70,-70),\n",
    "    #             ha='center', textcoords='offset points', bbox=dict(boxstyle='round,pad=0.5', fc='gray', alpha=0.1),\n",
    "    #             arrowprops=dict(arrowstyle='->', connectionstyle='arc3,rad=0.5',color='gray'))\n",
    "    plt.show()\n",
    "    \n",
    "    for hybrid in hybrid_models:\n",
    "        name = hybrid.name + \"(GP: {})\".format(gp_model.name)\n",
    "        hybrid_pred, hybrid_mus, hybrid_vars = hybrid.combine_predictions(mnist_cnn_preds, mnist_gp_mu, mnist_gp_var)\n",
    "        hybrid_classes = hybrid_pred[:, 1]\n",
    "        hybrid_correct = correct_classes == hybrid_classes\n",
    "        hybrid_accuracy = np.count_nonzero(hybrid_correct) / n\n",
    "        print(name, \"accuracy:\", hybrid_accuracy)\n",
    "        data.write([record_in, subkey, name], hybrid_accuracy)\n",
    "    del gp_model\n"
   ]
  },
  {
   "cell_type": "code",
   "execution_count": 68,
   "metadata": {},
   "outputs": [],
   "source": [
    "def plot_instance(axis, classes, correct_class, mu, var, width=0.3):\n",
    "    v = np.sqrt(var)\n",
    "    rects1 = axis.bar(classes, mu, width, color='r', yerr=v)\n",
    "    rects2 = axis.bar(correct_class, mu[correct_class], width, color='g', yerr=v[correct_class])\n"
   ]
  },
  {
   "cell_type": "code",
   "execution_count": 72,
   "metadata": {
    "scrolled": true
   },
   "outputs": [
    {
     "data": {
      "image/png": "[encoded data removed]",
      "text/plain": [
       "<matplotlib.figure.Figure at 0x7f73cc6c85c0>"
      ]
     },
     "metadata": {},
     "output_type": "display_data"
    },
    {
     "name": "stdout",
     "output_type": "stream",
     "text": [
      "GP Predictions: [  1.11111111e-04   1.11111116e-04   7.03941425e-01   1.55959076e-01\n",
      "   1.11111111e-04   1.11111111e-04   1.11111111e-04   1.11111111e-04\n",
      "   1.38522876e-01   1.11111111e-04]\n"
     ]
    },
    {
     "data": {
      "image/png": "[encoded data removed]",
      "text/plain": [
       "<matplotlib.figure.Figure at 0x7f73cc6b4d30>"
      ]
     },
     "metadata": {},
     "output_type": "display_data"
    },
    {
     "name": "stdout",
     "output_type": "stream",
     "text": [
      "CNN Predictions: [  1.33762839e-07   1.94914846e-05   6.54773951e-01   7.53047317e-02\n",
      "   2.21210627e-07   8.21320043e-08   1.11097529e-06   1.35922946e-07\n",
      "   2.69900054e-01   5.16141512e-08]\n"
     ]
    },
    {
     "data": {
      "image/png": "[encoded data removed]",
      "text/plain": [
       "<matplotlib.figure.Figure at 0x7f7400584a20>"
      ]
     },
     "metadata": {},
     "output_type": "display_data"
    }
   ],
   "source": [
    "\n",
    "\n",
    "classes = np.arange(mnist_gp_mu.shape[-1]) # 0 -> 9\n",
    "# save some examples for both failing\n",
    "index = 5\n",
    "plt.show()\n",
    "plt.style.use('default')\n",
    "plt.imshow(both_incorrect_imgs[index].reshape(28, 28), cmap=plt.get_cmap('gray'))\n",
    "plt.savefig('../results/figs/mnist/both_incorrect_example_linear.pdf', bbox_inches='tight')\n",
    "plt.show()\n",
    "plt.style.use('ggplot')\n",
    "\n",
    "\n",
    "print(\"GP Predictions:\", mnist_gp_mu[mnist_overlap_incorrect][index])\n",
    "correct_class = correct_classes[mnist_overlap_incorrect][index]\n",
    "plot_instance(plt, classes, correct_class, mnist_gp_mu[mnist_overlap_incorrect][index], mnist_gp_var[mnist_overlap_incorrect][index], width=0.3)\n",
    "plt.xticks(classes)\n",
    "plt.ylim([0.0, 1.0])\n",
    "plt.title(\"GP Predictions for Incorrect Example\")\n",
    "plt.xlabel(\"Class\")\n",
    "plt.ylabel(\"Probability\")\n",
    "plt.savefig('../results/figs/mnist/both_incorrect_gp_linear_probs.pdf', bbox_inches='tight')\n",
    "plt.show()\n",
    "\n",
    "print(\"CNN Predictions:\", mnist_cnn_preds[mnist_overlap_incorrect][index])\n",
    "plot_instance(plt, classes, correct_class, mnist_cnn_preds[mnist_overlap_incorrect][index], [0]*10, width=0.3)\n",
    "plt.xticks(classes)\n",
    "plt.ylim([0.0, 1.0])\n",
    "\n",
    "plt.title(\"CNN Predictions for Incorrect Example\")\n",
    "plt.xlabel(\"Class\")\n",
    "plt.ylabel(\"Probability\")\n",
    "plt.savefig('../results/figs/mnist/both_incorrect_cnn_probs.pdf', bbox_inches='tight')\n",
    "plt.show()"
   ]
  },
  {
   "cell_type": "code",
   "execution_count": 76,
   "metadata": {
    "scrolled": true
   },
   "outputs": [
    {
     "data": {
      "image/png": "[encoded data removed]",
      "text/plain": [
       "<matplotlib.figure.Figure at 0x7f738daae438>"
      ]
     },
     "metadata": {},
     "output_type": "display_data"
    },
    {
     "name": "stdout",
     "output_type": "stream",
     "text": [
      "GP Predictions: [  1.11111224e-04   1.11111111e-04   1.11111126e-04   1.11111111e-04\n",
      "   1.11112044e-04   6.20068303e-01   3.78225716e-01   1.11111111e-04\n",
      "   1.29380687e-04   1.11111111e-04]\n"
     ]
    },
    {
     "data": {
      "image/png": "[encoded data removed]",
      "text/plain": [
       "<matplotlib.figure.Figure at 0x7f7380d348d0>"
      ]
     },
     "metadata": {},
     "output_type": "display_data"
    },
    {
     "name": "stdout",
     "output_type": "stream",
     "text": [
      "CNN Predictions: [  4.65367593e-05   1.73398675e-07   2.29464121e-07   1.63638241e-08\n",
      "   2.12655832e-05   4.44226146e-01   5.53724527e-01   5.49633516e-12\n",
      "   1.98115641e-03   2.08917221e-08]\n"
     ]
    },
    {
     "data": {
      "image/png": "[encoded data removed]",
      "text/plain": [
       "<matplotlib.figure.Figure at 0x7f73fc89cba8>"
      ]
     },
     "metadata": {},
     "output_type": "display_data"
    },
    {
     "data": {
      "image/png": "[encoded data removed]",
      "text/plain": [
       "<matplotlib.figure.Figure at 0x7f73d903f8d0>"
      ]
     },
     "metadata": {},
     "output_type": "display_data"
    },
    {
     "name": "stdout",
     "output_type": "stream",
     "text": [
      "GP Predictions: [  1.11111111e-04   5.98790426e-01   1.59388554e-04   1.11111119e-04\n",
      "   1.11111111e-04   1.11111111e-04   1.11111111e-04   3.99473582e-01\n",
      "   1.11112173e-04   1.11111113e-04]\n"
     ]
    },
    {
     "data": {
      "image/png": "[encoded data removed]",
      "text/plain": [
       "<matplotlib.figure.Figure at 0x7f73d90098d0>"
      ]
     },
     "metadata": {},
     "output_type": "display_data"
    },
    {
     "name": "stdout",
     "output_type": "stream",
     "text": [
      "CNN Predictions: [  9.08331344e-07   3.35291475e-01   8.69253185e-03   1.20929588e-04\n",
      "   2.23420830e-06   1.61058642e-06   8.40219343e-08   6.55311942e-01\n",
      "   5.42545458e-04   3.57594035e-05]\n"
     ]
    },
    {
     "data": {
      "image/png": "[encoded data removed]",
      "text/plain": [
       "<matplotlib.figure.Figure at 0x7f739a6e0f98>"
      ]
     },
     "metadata": {},
     "output_type": "display_data"
    }
   ],
   "source": [
    "\n",
    "#gp_correct_not_cnn\n",
    "#cnn_correct_not_gp\n",
    "\n",
    "classes = np.arange(mnist_gp_mu.shape[-1]) # 0 -> 9\n",
    "# save some examples for one failing but not the other\n",
    "index = 6 # 6 demonstrates where might gain with a hybrid model\n",
    "\n",
    "plt.style.use('default')\n",
    "plt.imshow(mnist_test_imgs[gp_correct_not_cnn][index].reshape(28, 28), cmap=plt.get_cmap('gray'))\n",
    "plt.savefig('../results/figs/mnist/cnn_incorrect_only_example_linear.pdf', bbox_inches='tight')\n",
    "plt.show()\n",
    "plt.style.use('ggplot')\n",
    "\n",
    "\n",
    "print(\"GP Predictions:\", mnist_gp_mu[gp_correct_not_cnn][index])\n",
    "correct_class = correct_classes[gp_correct_not_cnn][index]\n",
    "plot_instance(plt, classes, correct_class, mnist_gp_mu[gp_correct_not_cnn][index], mnist_gp_var[gp_correct_not_cnn][index], width=0.3)\n",
    "plt.xticks(classes)\n",
    "plt.ylim([0.0, 1.0])\n",
    "plt.title(\"GP Predictions for GP Correct/CNN Incorrect\")\n",
    "plt.xlabel(\"Class\")\n",
    "plt.ylabel(\"Probability\")\n",
    "plt.savefig('../results/figs/mnist/cnn_incorrect_only_gp_linear_probs.pdf', bbox_inches='tight')\n",
    "plt.show()\n",
    "\n",
    "print(\"CNN Predictions:\", mnist_cnn_preds[gp_correct_not_cnn][index])\n",
    "plot_instance(plt, classes, correct_class, mnist_cnn_preds[gp_correct_not_cnn][index], [0]*10, width=0.3)\n",
    "plt.xticks(classes)\n",
    "plt.ylim([0.0, 1.0])\n",
    "\n",
    "plt.title(\"CNN Predictions for Incorrect Example\")\n",
    "plt.xlabel(\"Class\")\n",
    "plt.ylabel(\"Probability\")\n",
    "plt.savefig('../results/figs/mnist/cnn_incorrect_only_cnn_probs.pdf', bbox_inches='tight')\n",
    "plt.show()\n",
    "\n",
    "\n",
    "#--- CNN only correct Example\n",
    "plt.imshow(mnist_test_imgs[cnn_correct_not_gp][index].reshape(28, 28), cmap=plt.get_cmap('gray'))\n",
    "plt.savefig('../results/figs/mnist/gp_incorrect_only_example_linear.pdf', bbox_inches='tight')\n",
    "plt.show()\n",
    "\n",
    "print(\"GP Predictions:\", mnist_gp_mu[cnn_correct_not_gp][index])\n",
    "correct_class = correct_classes[cnn_correct_not_gp][index]\n",
    "plot_instance(plt, classes, correct_class, mnist_gp_mu[cnn_correct_not_gp][index], mnist_gp_var[cnn_correct_not_gp][index], width=0.3)\n",
    "plt.xticks(classes)\n",
    "plt.ylim([0.0, 1.0])\n",
    "plt.title(\"GP Predictions for GP Correct/CNN Incorrect\")\n",
    "plt.xlabel(\"Class\")\n",
    "plt.ylabel(\"Probability\")\n",
    "plt.savefig('../results/figs/mnist/gp_incorrect_only_gp_linear_probs.pdf', bbox_inches='tight')\n",
    "plt.show()\n",
    "\n",
    "print(\"CNN Predictions:\", mnist_cnn_preds[cnn_correct_not_gp][index])\n",
    "plot_instance(plt, classes, correct_class, mnist_cnn_preds[cnn_correct_not_gp][index], [0]*10, width=0.3)\n",
    "plt.xticks(classes)\n",
    "plt.ylim([0.0, 1.0])\n",
    "\n",
    "plt.title(\"CNN Predictions for Incorrect Example\")\n",
    "plt.xlabel(\"Class\")\n",
    "plt.ylabel(\"Probability\")\n",
    "plt.savefig('../results/figs/mnist/gp_incorrect_only_cnn_probs.pdf', bbox_inches='tight')\n",
    "plt.show()"
   ]
  },
  {
   "cell_type": "code",
   "execution_count": 11,
   "metadata": {},
   "outputs": [
    {
     "name": "stdout",
     "output_type": "stream",
     "text": [
      "Saved to file, emptying data container\n"
     ]
    }
   ],
   "source": [
    "data.dump(\"_\".join([record_in, subkey]))"
   ]
  },
  {
   "cell_type": "code",
   "execution_count": null,
   "metadata": {},
   "outputs": [],
   "source": [
    "# ---- White Noise + NMNIST ----\n",
    "\n",
    "# Preprocess the N-MNIST data just like standard MNIST\n",
    "nmnist_noisy = scipy.io.loadmat('../data/raw/n-mnist/nmnist-awgn.mat')\n",
    "\n",
    "awgn_x_test = preprocess_images(nmnist_noisy['test_x'])\n",
    "awgn_y_test_onehot = nmnist_noisy['test_y']\n",
    "awgn_y_test = np.argmax(awgn_y_test_onehot, axis=1)\n",
    "awgn_correct_classes = awgn_y_test"
   ]
  },
  {
   "cell_type": "code",
   "execution_count": null,
   "metadata": {},
   "outputs": [],
   "source": [
    "record_in = 'MNIST + AWGN'\n",
    "subkey = 'Accuracy'\n",
    "\n",
    "awgn_feats = cnn_model.extract_features(awgn_x_test)\n",
    "\n",
    "#CNN\n",
    "awgn_cnn_preds = cnn_model.predict_img_batch(awgn_x_test)\n",
    "awgn_cnn_classes = np.argmax(awgn_cnn_preds, axis=1)\n",
    "awgn_cnn_correct = awgn_correct_classes == awgn_cnn_classes\n",
    "awgn_cnn_accuracy = np.count_nonzero(awgn_cnn_correct) / n\n",
    "print(\"CNN accuracy: \", awgn_cnn_accuracy)\n",
    "data.write([record_in, subkey, cnn_model.name], awgn_cnn_accuracy)\n",
    "\n",
    "# SVM\n",
    "awgn_svm_classes = svm_model.predict_batch(awgn_feats)\n",
    "awgn_svm_correct = awgn_correct_classes == awgn_svm_classes\n",
    "awgn_svm_accuracy = np.count_nonzero(awgn_svm_correct) / n\n",
    "print(\"SVM accuracy: \", awgn_svm_accuracy)\n",
    "data.write([record_in, subkey, svm_model.name], awgn_svm_accuracy)"
   ]
  },
  {
   "cell_type": "code",
   "execution_count": null,
   "metadata": {
    "scrolled": false
   },
   "outputs": [],
   "source": [
    "# GP\n",
    "for gp_model_getter in get_gp_model:\n",
    "    gp_model = gp_model_getter()\n",
    "    print(\"Instantiated\", gp_model.name)\n",
    "    awgn_gp_mu, awgn_gp_var = gp_model.predict_batch(awgn_feats)\n",
    "    awgn_gp_classes = np.argmax(awgn_gp_mu, axis=1)\n",
    "    awgn_gp_correct = awgn_correct_classes == awgn_gp_classes\n",
    "    awgn_gp_accuracy = np.count_nonzero(awgn_gp_correct) / n\n",
    "    print(gp_model.name, \"accuracy: \", awgn_gp_accuracy)\n",
    "    data.write([record_in, subkey, gp_model.name], awgn_gp_accuracy)\n",
    "\n",
    "    for hybrid in hybrid_models:\n",
    "        name = hybrid.name + \"(GP: {})\".format(gp_model.name)\n",
    "        hybrid_pred, hybrid_mus, hybrid_vars = hybrid.combine_predictions(awgn_cnn_preds, awgn_gp_mu, awgn_gp_var)\n",
    "        hybrid_classes = hybrid_pred[:, 1]\n",
    "        hybrid_correct = awgn_correct_classes == hybrid_classes\n",
    "        hybrid_accuracy = np.count_nonzero(hybrid_correct) / n\n",
    "        print(name, \"accuracy:\", hybrid_accuracy)\n",
    "        data.write([record_in, subkey, name], hybrid_accuracy)\n",
    "    del gp_model # Clear TF sessions"
   ]
  },
  {
   "cell_type": "code",
   "execution_count": null,
   "metadata": {},
   "outputs": [],
   "source": [
    "data.dump(\"_\".join([record_in, subkey]))"
   ]
  },
  {
   "cell_type": "code",
   "execution_count": null,
   "metadata": {},
   "outputs": [],
   "source": [
    "nmnist_blur = scipy.io.loadmat('../data/raw/n-mnist/nmnist-blur.mat')\n",
    "blur_x_test = preprocess_images(nmnist_blur['test_x'])\n",
    "blur_y_test_onehot = nmnist_blur['test_y']\n",
    "blur_y_test = np.argmax(blur_y_test_onehot, axis=1)\n",
    "blur_correct_classes = blur_y_test\n",
    "\n",
    "blur_feats = cnn_model.extract_features(blur_x_test)"
   ]
  },
  {
   "cell_type": "code",
   "execution_count": null,
   "metadata": {},
   "outputs": [],
   "source": [
    "record_in = 'MNIST + blur'\n",
    "subkey = 'Accuracy'\n",
    "\n",
    "blur_feats = cnn_model.extract_features(blur_x_test)\n",
    "\n",
    "#CNN\n",
    "blur_cnn_preds = cnn_model.predict_img_batch(blur_x_test)\n",
    "blur_cnn_classes = np.argmax(blur_cnn_preds, axis=1)\n",
    "blur_cnn_correct = blur_correct_classes == blur_cnn_classes\n",
    "blur_cnn_accuracy = np.count_nonzero(blur_cnn_correct) / n\n",
    "print(\"CNN accuracy: \", blur_cnn_accuracy)\n",
    "data.write([record_in, subkey, cnn_model.name], blur_cnn_accuracy)\n",
    "\n",
    "# SVM\n",
    "blur_svm_classes = svm_model.predict_batch(blur_feats)\n",
    "blur_svm_correct = blur_correct_classes == blur_svm_classes\n",
    "blur_svm_accuracy = np.count_nonzero(blur_svm_correct) / n\n",
    "print(\"SVM accuracy: \", blur_svm_accuracy)\n",
    "data.write([record_in, subkey, svm_model.name], blur_svm_accuracy)"
   ]
  },
  {
   "cell_type": "code",
   "execution_count": null,
   "metadata": {},
   "outputs": [],
   "source": [
    "# GP\n",
    "for gp_model_getter in get_gp_model:\n",
    "    gp_model = gp_model_getter()\n",
    "    print(\"Instantiated\", gp_model.name)\n",
    "    blur_gp_mu, blur_gp_var = gp_model.predict_batch(blur_feats)\n",
    "    blur_gp_classes = np.argmax(blur_gp_mu, axis=1)\n",
    "    blur_gp_correct = blur_correct_classes == blur_gp_classes\n",
    "    blur_gp_accuracy = np.count_nonzero(blur_gp_correct) / n\n",
    "    print(gp_model.name, \"accuracy: \", blur_gp_accuracy)\n",
    "    data.write([record_in, subkey, gp_model.name], blur_gp_accuracy)\n",
    "\n",
    "    for hybrid in hybrid_models:\n",
    "        name = hybrid.name + \"(GP: {})\".format(gp_model.name)\n",
    "        hybrid_pred, hybrid_mus, hybrid_vars = hybrid.combine_predictions(blur_cnn_preds, blur_gp_mu, blur_gp_var)\n",
    "        hybrid_classes = hybrid_pred[:, 1]\n",
    "        hybrid_correct = blur_correct_classes == hybrid_classes\n",
    "        hybrid_accuracy = np.count_nonzero(hybrid_correct) / n\n",
    "        print(name, \"accuracy:\", hybrid_accuracy)\n",
    "        data.write([record_in, subkey, name], hybrid_accuracy)\n",
    "    del gp_model # Clear TF session, graph (hopefully)"
   ]
  },
  {
   "cell_type": "code",
   "execution_count": null,
   "metadata": {
    "scrolled": true
   },
   "outputs": [],
   "source": [
    "data.dump('_'.join([record_in,  subkey]))"
   ]
  },
  {
   "cell_type": "code",
   "execution_count": null,
   "metadata": {},
   "outputs": [],
   "source": [
    "nmnist_noisy_lowcontrast = scipy.io.loadmat('../data/raw/n-mnist/nmnist-contrast.mat')\n",
    "record_in = 'Low Contrast MNIST'\n",
    "\n",
    "lowcontrast_x_test = preprocess_images(nmnist_noisy_lowcontrast['test_x'])\n",
    "lowcontrast_y_test_onehot = nmnist_noisy_lowcontrast['test_y']\n",
    "lowcontrast_y_test = np.argmax(lowcontrast_y_test_onehot, axis=1)\n",
    "lowcontrast_correct_classes = lowcontrast_y_test\n",
    "\n",
    "lowcontrast_feats = cnn_model.extract_features(lowcontrast_x_test)"
   ]
  },
  {
   "cell_type": "code",
   "execution_count": null,
   "metadata": {},
   "outputs": [],
   "source": [
    "record_in = 'MNIST + low contrast + AWGN'\n",
    "subkey = 'Accuracy'\n",
    "\n",
    "lowcontrast_feats = cnn_model.extract_features(lowcontrast_x_test)\n",
    "\n",
    "#CNN\n",
    "lowcontrast_cnn_preds = cnn_model.predict_img_batch(lowcontrast_x_test)\n",
    "lowcontrast_cnn_classes = np.argmax(lowcontrast_cnn_preds, axis=1)\n",
    "lowcontrast_cnn_correct = lowcontrast_correct_classes == lowcontrast_cnn_classes\n",
    "lowcontrast_cnn_accuracy = np.count_nonzero(lowcontrast_cnn_correct) / n\n",
    "print(\"CNN accuracy: \", lowcontrast_cnn_accuracy)\n",
    "data.write([record_in, subkey, cnn_model.name], lowcontrast_cnn_accuracy)\n",
    "\n",
    "# SVM\n",
    "lowcontrast_svm_classes = svm_model.predict_batch(lowcontrast_feats)\n",
    "lowcontrast_svm_correct = lowcontrast_correct_classes == lowcontrast_svm_classes\n",
    "lowcontrast_svm_accuracy = np.count_nonzero(lowcontrast_svm_correct) / n\n",
    "print(\"SVM accuracy: \", lowcontrast_svm_accuracy)\n",
    "data.write([record_in, subkey, svm_model.name], lowcontrast_svm_accuracy)"
   ]
  },
  {
   "cell_type": "code",
   "execution_count": null,
   "metadata": {
    "scrolled": false
   },
   "outputs": [],
   "source": [
    "# GP\n",
    "for gp_model_getter in get_gp_model:\n",
    "    gp_model = gp_model_getter()\n",
    "    print(\"Instantiated\", gp_model.name)\n",
    "    lowcontrast_gp_mu, lowcontrast_gp_var = gp_model.predict_batch(lowcontrast_feats)\n",
    "    lowcontrast_gp_classes = np.argmax(lowcontrast_gp_mu, axis=1)\n",
    "    lowcontrast_gp_correct = lowcontrast_correct_classes == lowcontrast_gp_classes\n",
    "    lowcontrast_gp_accuracy = np.count_nonzero(lowcontrast_gp_correct) / n\n",
    "    print(gp_model.name, \"accuracy: \", lowcontrast_gp_accuracy)\n",
    "    data.write([record_in, subkey, gp_model.name], lowcontrast_gp_accuracy)\n",
    "\n",
    "    for hybrid in hybrid_models:\n",
    "        name = hybrid.name + \"(GP: {})\".format(gp_model.name)\n",
    "        hybrid_pred, hybrid_mus, hybrid_vars = hybrid.combine_predictions(lowcontrast_cnn_preds, lowcontrast_gp_mu, lowcontrast_gp_var)\n",
    "        hybrid_classes = hybrid_pred[:, 1]\n",
    "        hybrid_correct = lowcontrast_correct_classes == hybrid_classes\n",
    "        hybrid_accuracy = np.count_nonzero(hybrid_correct) / n\n",
    "        print(name, \"accuracy:\", hybrid_accuracy)\n",
    "        data.write([record_in, subkey, name], hybrid_accuracy)\n",
    "    del gp_model # Clear TF session, graph (hopefully)"
   ]
  },
  {
   "cell_type": "code",
   "execution_count": null,
   "metadata": {},
   "outputs": [],
   "source": [
    "data.dump('_'.join([record_in, subkey]))"
   ]
  },
  {
   "cell_type": "code",
   "execution_count": null,
   "metadata": {},
   "outputs": [],
   "source": [
    "import gc\n",
    "gc.collect()"
   ]
  },
  {
   "cell_type": "code",
   "execution_count": null,
   "metadata": {
    "scrolled": false
   },
   "outputs": [],
   "source": [
    "record_in = 'FGSM Adverserial MNIST'\n",
    "#subkey = eps\n",
    "subkey = 'Accuracy'\n",
    "#----- Adverserial Examples -----\n",
    "\n",
    "epsilons = np.arange(0.025, 0.35, 0.025)\n",
    "\n",
    "plt.style.use('default')\n",
    "\n",
    "for eps in epsilons:\n",
    "    adv_cnn_predictions, perturbed = cnn_model.fgsm_attack(mnist_test_imgs, epsilon=eps)\n",
    "    adv_cnn_classes = np.argmax(adv_cnn_predictions, axis=1)\n",
    "    adv_fsgm_features = cnn_model.extract_features(perturbed)\n",
    "    \n",
    "#     plt.imshow(perturbed[0].reshape(28, 28), cmap=plt.get_cmap('gray'))\n",
    "#     plt.savefig('../results/figs/adverserial/fsgm_{}.pdf'.format(eps), bbox_inches='tight')\n",
    "#     plt.show()\n",
    "    \n",
    "    #print(\"Incorrect: \", np.count_nonzero(correct_classes != adv_cnn_classes))\n",
    "    print(\"Epsilon =\", eps)    \n",
    "    \n",
    "    #CNN performance\n",
    "    adv_cnn_correct = adv_cnn_classes == correct_classes    \n",
    "    adv_cnn_accuracy = np.count_nonzero(adv_cnn_correct) / n\n",
    "    print(cnn_model.name, \"accuracy: \", adv_cnn_accuracy)\n",
    "    data.write([record_in, \"epsilon={}\".format(eps), cnn_model.name], adv_cnn_accuracy)\n",
    "    \n",
    "    # Evaluate SVM \n",
    "    adv_svm_preds = svm_model.predict_batch(adv_fsgm_features)\n",
    "    # SVM performance\n",
    "    adv_svm_correct = adv_svm_preds == correct_classes\n",
    "    adv_svm_accuracy = np.count_nonzero(adv_svm_correct) / n\n",
    "    print(svm_model.name, \"accuracy: \", adv_svm_accuracy)\n",
    "    data.write([record_in, \"epsilon={}\".format(eps), subkey, svm_model.name], adv_svm_accuracy)\n",
    "    \n",
    "    for gp_model_getter in get_gp_model:\n",
    "        gp_model = gp_model_getter()\n",
    "        print(\"Instantiated\", gp_model.name)\n",
    "        # Evaluate GP\n",
    "        (adv_mu, adv_var) = gp_model.predict_batch(adv_fsgm_features)\n",
    "        adv_gp_preds = np.argmax(adv_mu, axis=1)\n",
    "        # GP performance\n",
    "        adv_gp_correct = correct_classes == adv_gp_preds\n",
    "        adv_gp_accuracy = np.count_nonzero(adv_gp_correct) / n\n",
    "        print(gp_model.name, \"accuracy: \", adv_gp_accuracy)\n",
    "        data.write([record_in, \"epsilon={0:.3f}\".format(eps), subkey, gp_model.name], adv_gp_accuracy)\n",
    "\n",
    "#         lowcontrast_gp_mu, lowcontrast_gp_var = gp_model.predict_batch(lowcontrast_feats)\n",
    "#         lowcontrast_gp_classes = np.argmax(lowcontrast_gp_mu, axis=1)\n",
    "#         lowcontrast_gp_correct = lowcontrast_correct_classes == lowcontrast_gp_classes\n",
    "#         lowcontrast_gp_accuracy = np.count_nonzero(lowcontrast_gp_correct) / n\n",
    "#         print(gp_model.name, \"accuracy: \", lowcontrast_gp_accuracy)\n",
    "#         data.write([record_in, subkey, gp_model.name], lowcontrast_gp_accuracy)\n",
    "\n",
    "        for hybrid in hybrid_models:\n",
    "            name = hybrid.name + \"(GP: {})\".format(gp_model.name)\n",
    "            hybrid_adv_pred, hybrid_adv_mus, hybrid_adv_vars = hybrid.combine_predictions(adv_cnn_predictions, adv_mu, adv_var)\n",
    "            hybrid_adv_classes = hybrid_adv_pred[:, 1]\n",
    "            hybrid_adv_correct = correct_classes == hybrid_adv_classes\n",
    "            hybrid_adv_accuracy = np.count_nonzero(hybrid_adv_correct) / n\n",
    "            print(name, \"accuracy:\", hybrid_adv_accuracy)\n",
    "            data.write([record_in,  \"epsilon={}\".format(eps), subkey, name], hybrid_adv_accuracy)\n",
    "        del gp_model # Clear TF session, graph (hopefully)\n",
    "    data.dump('_'.join([record_in, \"eps={}\".format(eps), subkey]))\n",
    "    gc.collect()"
   ]
  }
 ],
 "metadata": {
  "kernelspec": {
   "display_name": "py_36_env",
   "language": "python",
   "name": "py_36_env"
  },
  "language_info": {
   "codemirror_mode": {
    "name": "ipython",
    "version": 3
   },
   "file_extension": ".py",
   "mimetype": "text/x-python",
   "name": "python",
   "nbconvert_exporter": "python",
   "pygments_lexer": "ipython3",
   "version": "3.5.2"
  }
 },
 "nbformat": 4,
 "nbformat_minor": 2
}
