{
 "cells": [
  {
   "cell_type": "code",
   "execution_count": 65,
   "metadata": {},
   "outputs": [
    {
     "name": "stdout",
     "output_type": "stream",
     "text": [
      "The autoreload extension is already loaded. To reload it, use:\n",
      "  %reload_ext autoreload\n"
     ]
    }
   ],
   "source": [
    "%load_ext autoreload \n",
    "%autoreload 2\n",
    "\n",
    "import os\n",
    "import gpflow\n",
    "import numpy as np\n",
    "import scipy.io\n",
    "import tensorflow as tf\n",
    "\n",
    "import matplotlib.pyplot as plt\n",
    "import matplotlib as mpl\n",
    "from matplotlib_venn import venn2\n",
    "plt.style.use('ggplot')\n",
    "mpl.rcParams['pgf.rcfonts'] = False\n",
    "\n",
    "os.environ[\"CUDA_VISIBLE_DEVICES\"] = ''\n",
    "\n",
    "# this doesn't work for some reason...\n",
    "# remove the default one just in case\n",
    "# gpflow.get_session().close()\n",
    "\n",
    "# gpu_options = tf.GPUOptions(per_process_gpu_memory_fraction=0.25)\n",
    "# config = config=tf.ConfigProto(gpu_options=gpu_options)\n",
    "# config.gpu_options.allow_growth=True\n",
    "# sess = gpflow.session_manager.tf.Session(config=config)\n",
    "# sess.as_default()\n",
    "# print(sess)\n",
    "\n",
    "from gp_svgp import GP_MNIST_SVGP\n",
    "from mnist_cnn import CNN_MNIST\n",
    "from mnist_svm import SVM_MNIST\n",
    "from hybrid_mnist import Hybrid_MNIST\n",
    "from mnist_preprocessing import get_mnist_data, preprocess_images\n",
    "\n",
    "#from plotting import Plotter"
   ]
  },
  {
   "cell_type": "code",
   "execution_count": null,
   "metadata": {},
   "outputs": [],
   "source": []
  },
  {
   "cell_type": "code",
   "execution_count": 66,
   "metadata": {},
   "outputs": [],
   "source": [
    "class Data(object):\n",
    "    def __init__(self):\n",
    "        self.data = {}\n",
    "    def write(self, path, value):\n",
    "        ptr = self.data\n",
    "        for key in path[:-1]:\n",
    "            if key not in ptr:\n",
    "                ptr[key] = {}\n",
    "            ptr = ptr[key]\n",
    "        ptr[path[-1]] = value\n",
    "    def dump(self, name, path=\"../data/evaluation/\"):\n",
    "        np.save(path + name, self.data)\n",
    "        print(\"Saved to file, emptying data container\")\n",
    "        self.data = {}\n",
    "\n",
    "data = Data()"
   ]
  },
  {
   "cell_type": "code",
   "execution_count": 67,
   "metadata": {},
   "outputs": [],
   "source": [
    "# Standard MNIST test data\n",
    "((_, mnist_test_imgs), (ys_train_onehot, ys_test_onehot)) = get_mnist_data()\n",
    "mnist_train_features = np.genfromtxt(\"../data/mnist_train_features.csv\", delimiter=\",\")\n",
    "mnist_test_features = np.genfromtxt(\"../data/mnist_test_features.csv\", delimiter=\",\")\n",
    "\n",
    "ys_train = np.argmax(ys_train_onehot, axis=1)\n",
    "ys_test = np.argmax(ys_test_onehot, axis=1)\n",
    "# easier to remember handle\n",
    "correct_classes = ys_test\n",
    "n = len(ys_test)"
   ]
  },
  {
   "cell_type": "code",
   "execution_count": 68,
   "metadata": {},
   "outputs": [],
   "source": [
    "cnn_model = CNN_MNIST(isolate=True) # isolate sessions # get default pretrained, saved CNN"
   ]
  },
  {
   "cell_type": "code",
   "execution_count": 69,
   "metadata": {},
   "outputs": [
    {
     "name": "stdout",
     "output_type": "stream",
     "text": [
      "Loading SVM from ../models/svm/svm_SVM classifier_model.pkl\n"
     ]
    }
   ],
   "source": [
    "svm_model = SVM_MNIST(mnist_train_features, ys_train, nb_classes=10, retrain=False)"
   ]
  },
  {
   "cell_type": "code",
   "execution_count": 70,
   "metadata": {},
   "outputs": [],
   "source": [
    "\n",
    "hybrid_models = []\n",
    "#for tol in np.arange(0, 2.0, 0.5):\n",
    "#    hybrid_models.append(Hybrid_MNIST(accept_cnn_tolerance = tol))\n",
    "#for tol in np.arange(0.1, 0.6, 0.1):\n",
    "#    hybrid_models.append(Hybrid_MNIST(accept_cnn_tolerance = tol, stronger_criterion=True))\n",
    "hybrid_models.append(Hybrid_MNIST(accept_cnn_tolerance = 0.2, stronger_criterion=True))\n",
    "#hybrid_models.append(Hybrid_MNIST(accept_cnn_tolerance = 0.275, stronger_criterion=True))\n",
    "#hybrid_models.append(Hybrid_MNIST(accept_cnn_tolerance = 0.75, stronger_criterion=True))"
   ]
  },
  {
   "cell_type": "code",
   "execution_count": 71,
   "metadata": {},
   "outputs": [],
   "source": [
    "# instantiate models we want to test\n",
    "# only one at a time here to avoid interference\n",
    "\n",
    "get_gp_model = [\n",
    "                lambda: GP_MNIST_SVGP(kernel=gpflow.kernels.Polynomial, \n",
    "                     whitevar=0.1,\n",
    "                     latent_split=25,\n",
    "                     whiten=True,\n",
    "                     q_diag=True,\n",
    "                     minibatch=8000,\n",
    "                     whitevar_trainable=False,\n",
    "                     feat_trainable=True,\n",
    "                     name=\"Poly Kernel GP\",\n",
    "                     retrain=False),\n",
    "                lambda: GP_MNIST_SVGP(kernel=[gpflow.kernels.Linear, gpflow.kernels.Matern32], \n",
    "                     whitevar=0.1,\n",
    "                     latent_split=25,\n",
    "                     whiten=True,\n",
    "                     q_diag=True,\n",
    "                     minibatch=8000,\n",
    "                     whitevar_trainable=False,\n",
    "                     feat_trainable=True,\n",
    "                     name=\"Linear * Matern32 Kernel GP\",\n",
    "                     retrain=False),\n",
    "                lambda: GP_MNIST_SVGP(kernel=[gpflow.kernels.Matern12], \n",
    "                     whitevar=0.1,\n",
    "                     latent_split=25,\n",
    "                     whiten=True,\n",
    "                     q_diag=True,\n",
    "                     minibatch=8000,\n",
    "                     whitevar_trainable=False,\n",
    "                     feat_trainable=True,\n",
    "                     name=\"Matern12 Kernel GP\",\n",
    "                     retrain=False),\n",
    "    \n",
    "    \n",
    "    \n",
    "#     lambda: GP_MNIST_SVGP(kernel=[gpflow.kernels.Linear, gpflow.kernels.Matern32], \n",
    "#                          whitevar=0.1,\n",
    "#                          latent_split=25,\n",
    "#                          whiten=True,\n",
    "#                          q_diag=True,\n",
    "#                          minibatch=8000,\n",
    "#                          whitevar_trainable=False,\n",
    "#                          feat_trainable=True,\n",
    "#                          name=\"Linear * Matern32 Kernel params2 GP\",\n",
    "#                          retrain=False),\n",
    "#                 lambda: GP_MNIST_SVGP(kernel=[gpflow.kernels.Polynomial, gpflow.kernels.Linear],\n",
    "#                          whitevar=0.1,\n",
    "#                          latent_split=25,\n",
    "#                          whiten=True,\n",
    "#                          q_diag=True,\n",
    "#                          minibatch=8000,\n",
    "#                          whitevar_trainable=False,\n",
    "#                          feat_trainable=True,\n",
    "#                          name=\"Poly * Linear Kernel GP\",\n",
    "#                          retrain=False),\n",
    "#                     lambda: GP_MNIST_SVGP(kernel=[gpflow.kernels.Polynomial, gpflow.kernels.Matern12],\n",
    "#                          whitevar=0.1,\n",
    "#                          latent_split=25,\n",
    "#                          whiten=True,\n",
    "#                          q_diag=True,\n",
    "#                          minibatch=8000,\n",
    "#                          whitevar_trainable=False,\n",
    "#                          feat_trainable=True,\n",
    "#                          name=\"Poly * Matern12 Kernel GP\",\n",
    "#                          retrain=False),\n",
    "#                     lambda: GP_MNIST_SVGP(kernel=[gpflow.kernels.Polynomial, gpflow.kernels.Matern32],\n",
    "#                          whitevar=0.1,\n",
    "#                          latent_split=25,\n",
    "#                          whiten=True,\n",
    "#                          q_diag=True,\n",
    "#                          minibatch=8000,\n",
    "#                          whitevar_trainable=False,\n",
    "#                          feat_trainable=True,\n",
    "#                          name=\"Poly * Matern32 Kernel GP\",\n",
    "#                          retrain=False)\n",
    "#                 lambda: GP_MNIST_SVGP(kernel=[gpflow.kernels.Linear, gpflow.kernels.Matern52], \n",
    "#                          whitevar=0.1,\n",
    "#                          latent_split=25,\n",
    "#                          whiten=True,\n",
    "#                          q_diag=True,\n",
    "#                          minibatch=8000,\n",
    "#                          whitevar_trainable=False,\n",
    "#                          feat_trainable=True,\n",
    "#                          name=\"Linear * Matern52 Kernel params2 GP\",\n",
    "#                          retrain=False),\n",
    "#                          lambda: GP_MNIST_SVGP(kernel=gpflow.kernels.Linear, \n",
    "#                          whitevar=0.1,\n",
    "#                          latent_split=25,\n",
    "#                          whiten=True,\n",
    "#                          q_diag=True,\n",
    "#                          minibatch=8000,\n",
    "#                          whitevar_trainable=False,\n",
    "#                          feat_trainable=True,\n",
    "#                          name=\"Linear Kernel GP\", \n",
    "#                          retrain=False),\n",
    "#                 lambda: GP_MNIST_SVGP(kernel=gpflow.kernels.Matern12, \n",
    "#                          whitevar=0.1,\n",
    "#                          latent_split=25,\n",
    "#                          whiten=True,\n",
    "#                          q_diag=True,\n",
    "#                          minibatch=8000,\n",
    "#                          whitevar_trainable=False,\n",
    "#                          feat_trainable=True,\n",
    "#                          name=\"Matern12 Kernel GP\",\n",
    "#                          retrain=False),\n",
    "#                 lambda: GP_MNIST_SVGP(kernel=gpflow.kernels.Matern32, \n",
    "#                          whitevar=0.1,\n",
    "#                          latent_split=25,\n",
    "#                          whiten=True,\n",
    "#                          q_diag=True,\n",
    "#                          minibatch=8000,\n",
    "#                          whitevar_trainable=False,\n",
    "#                          feat_trainable=True,\n",
    "#                          name=\"Matern32 Kernel GP\",\n",
    "#                          retrain=False),\n",
    "#                 lambda: GP_MNIST_SVGP(kernel=gpflow.kernels.Matern52, \n",
    "#                          whitevar=0.1,\n",
    "#                          latent_split=25,\n",
    "#                          whiten=True,\n",
    "#                          q_diag=True,\n",
    "#                          minibatch=8000,\n",
    "#                          whitevar_trainable=False,\n",
    "#                          feat_trainable=True,\n",
    "#                          name=\"Matern52 Kernel GP\",\n",
    "#                          retrain=False),\n",
    "#                 lambda: GP_MNIST_SVGP(kernel=gpflow.kernels.RBF, \n",
    "#                          whitevar=0.1,\n",
    "#                          latent_split=25,\n",
    "#                          whiten=True,\n",
    "#                          q_diag=True,\n",
    "#                          minibatch=8000,\n",
    "#                          whitevar_trainable=False,\n",
    "#                          feat_trainable=True,\n",
    "#                          name=\"RBF Kernel GP\",\n",
    "#                          retrain=False)\n",
    "                ]\n"
   ]
  },
  {
   "cell_type": "code",
   "execution_count": 72,
   "metadata": {},
   "outputs": [
    {
     "name": "stdout",
     "output_type": "stream",
     "text": [
      "CNN accuracy:  0.9911\n",
      "SVM accuracy:  0.9937\n"
     ]
    }
   ],
   "source": [
    "record_in = 'Standard MNIST'\n",
    "\n",
    "# prediction accuracies\n",
    "subkey = 'accuracy'\n",
    "\n",
    "\n",
    "#CNN\n",
    "mnist_cnn_preds = cnn_model.predict_img_batch(mnist_test_imgs)\n",
    "mnist_cnn_classes = np.argmax(mnist_cnn_preds, axis=1)\n",
    "mnist_cnn_correct = correct_classes == mnist_cnn_classes\n",
    "mnist_cnn_accuracy = np.count_nonzero(mnist_cnn_correct) / n\n",
    "print(\"CNN accuracy: \", mnist_cnn_accuracy)\n",
    "data.write([record_in, subkey, cnn_model.name],mnist_cnn_accuracy)\n",
    "\n",
    "# SVM\n",
    "mnist_svm_classes = svm_model.predict_batch(mnist_test_features)\n",
    "mnist_svm_correct = correct_classes == mnist_svm_classes\n",
    "mnist_svm_accuracy = np.count_nonzero(mnist_svm_correct) / n\n",
    "print(\"SVM accuracy: \", mnist_svm_accuracy)\n",
    "data.write([record_in, subkey, svm_model.name], mnist_svm_accuracy)\n"
   ]
  },
  {
   "cell_type": "code",
   "execution_count": 73,
   "metadata": {},
   "outputs": [
    {
     "name": "stdout",
     "output_type": "stream",
     "text": [
      "Initialized Poly Kernel GP\n",
      "Loading GP model from file ../models/gp/Poly Kernel GP_model.npy\n",
      "Instantiated Poly Kernel GP\n",
      "Poly Kernel GP accuracy:  0.9891\n",
      "Number incorrect in both models: 73\n",
      "Number CNN incorrect but not GP: 16\n",
      "Number GP incorrect but not CNN: 36\n",
      "Number GP Correct but not CNN 16\n",
      "Number CNN Correct but not GP 36\n"
     ]
    },
    {
     "data": {
      "image/png": "[encoded data removed]",
      "text/plain": [
       "<matplotlib.figure.Figure at 0x7f9412bbb5c0>"
      ]
     },
     "metadata": {},
     "output_type": "display_data"
    },
    {
     "name": "stdout",
     "output_type": "stream",
     "text": [
      "Hybrid(GP: Poly Kernel GP) accuracy: 0.989\n",
      "Initialized Linear * Matern32 Kernel GP\n",
      "Loading GP model from file ../models/gp/Linear * Matern32 Kernel GP_model.npy\n",
      "Instantiated Linear * Matern32 Kernel GP\n",
      "Linear * Matern32 Kernel GP accuracy:  0.9914\n",
      "Number incorrect in both models: 73\n",
      "Number CNN incorrect but not GP: 16\n",
      "Number GP incorrect but not CNN: 13\n",
      "Number GP Correct but not CNN 16\n",
      "Number CNN Correct but not GP 13\n"
     ]
    },
    {
     "data": {
      "image/png": "[encoded data removed]",
      "text/plain": [
       "<matplotlib.figure.Figure at 0x7f9410feba90>"
      ]
     },
     "metadata": {},
     "output_type": "display_data"
    },
    {
     "name": "stdout",
     "output_type": "stream",
     "text": [
      "Hybrid(GP: Linear * Matern32 Kernel GP) accuracy: 0.9914\n",
      "Initialized Matern12 Kernel GP\n",
      "Loading GP model from file ../models/gp/Matern12 Kernel GP_model.npy\n",
      "Instantiated Matern12 Kernel GP\n",
      "Matern12 Kernel GP accuracy:  0.9903\n",
      "Number incorrect in both models: 74\n",
      "Number CNN incorrect but not GP: 15\n",
      "Number GP incorrect but not CNN: 23\n",
      "Number GP Correct but not CNN 15\n",
      "Number CNN Correct but not GP 23\n"
     ]
    },
    {
     "data": {
      "image/png": "[encoded data removed]",
      "text/plain": [
       "<matplotlib.figure.Figure at 0x7f940f11bfd0>"
      ]
     },
     "metadata": {},
     "output_type": "display_data"
    },
    {
     "name": "stdout",
     "output_type": "stream",
     "text": [
      "Hybrid(GP: Matern12 Kernel GP) accuracy: 0.9903\n"
     ]
    }
   ],
   "source": [
    "accuracies = {}\n",
    "accuracies[cnn_model.name] = mnist_cnn_accuracy # save for plotting\n",
    "# GP\n",
    "for gp_model_getter in get_gp_model:\n",
    "    gp_model = gp_model_getter()\n",
    "    print(\"Instantiated\", gp_model.name)\n",
    "    mnist_gp_mu, mnist_gp_var = gp_model.predict_batch(mnist_test_features)\n",
    "    mnist_gp_classes = np.argmax(mnist_gp_mu, axis=1)\n",
    "    mnist_gp_correct = correct_classes == mnist_gp_classes\n",
    "    mnist_gp_accuracy = np.count_nonzero(mnist_gp_correct) / n\n",
    "    accuracies[gp_model.name] = mnist_gp_accuracy\n",
    "    print(gp_model.name, \"accuracy: \", mnist_gp_accuracy)\n",
    "    data.write([record_in, subkey, gp_model.name], mnist_gp_accuracy)\n",
    "\n",
    "    \n",
    "    # analyze the overlap in mis-classifications\n",
    "    mnist_cnn_incorrect = correct_classes != mnist_cnn_classes\n",
    "    mnist_gp_incorrect = correct_classes != mnist_gp_classes\n",
    "    mnist_overlap_incorrect = mnist_cnn_incorrect & mnist_gp_incorrect\n",
    "    both_incorrect = np.count_nonzero(mnist_overlap_incorrect)\n",
    "    print(\"Number incorrect in both models:\", both_incorrect)\n",
    "    print(\"Number CNN incorrect but not GP:\", np.count_nonzero(mnist_cnn_incorrect) -  both_incorrect)\n",
    "    print(\"Number GP incorrect but not CNN:\", np.count_nonzero(mnist_gp_incorrect) -  both_incorrect)\n",
    "    both_incorrect_imgs = mnist_test_imgs[mnist_overlap_incorrect]\n",
    "    #plt.imshow(both_incorrect_imgs[0])\n",
    "    \n",
    "    gp_correct_not_cnn = mnist_gp_correct & ~mnist_cnn_correct\n",
    "    print(\"Number GP Correct but not CNN\", np.count_nonzero(gp_correct_not_cnn))\n",
    "    \n",
    "    cnn_correct_not_gp = mnist_cnn_correct & ~mnist_gp_correct\n",
    "    print(\"Number CNN Correct but not GP\", np.count_nonzero(cnn_correct_not_gp))\n",
    "\n",
    "\n",
    "    plt.figure(figsize=(4,4))\n",
    "    v = venn2(subsets=(np.count_nonzero(gp_correct_not_cnn),np.count_nonzero(cnn_correct_not_gp), both_incorrect), set_labels = ('CNN', 'GP', 'Both'))\n",
    "    plt.title(\"Incorrect classifications\")\n",
    "    #plt.annotate('Unknown set', xy=v.get_label_by_id('100').get_position() - np.array([0, 0.05]), xytext=(-70,-70),\n",
    "    #             ha='center', textcoords='offset points', bbox=dict(boxstyle='round,pad=0.5', fc='gray', alpha=0.1),\n",
    "    #             arrowprops=dict(arrowstyle='->', connectionstyle='arc3,rad=0.5',color='gray'))\n",
    "    plt.savefig('../results/figs/mnist/venn_' + gp_model.name + '.pdf', bbox_inches='tight')\n",
    "    plt.show()\n",
    "    \n",
    "    for hybrid in hybrid_models:\n",
    "        name = hybrid.name + \"(GP: {})\".format(gp_model.name)\n",
    "        hybrid_pred, hybrid_mus, hybrid_vars = hybrid.combine_predictions(mnist_cnn_preds, mnist_gp_mu, mnist_gp_var, verbose=False)\n",
    "        hybrid_classes = hybrid_pred[:, 1].astype(int)\n",
    "        hybrid_correct = correct_classes == hybrid_classes\n",
    "        #print(hybrid_correct)\n",
    "        hybrid_accuracy = np.count_nonzero(hybrid_correct) / n\n",
    "        print(name, \"accuracy:\", hybrid_accuracy)\n",
    "        data.write([record_in, subkey, name], hybrid_accuracy)\n",
    "        accuracies[hybrid.name] = hybrid_accuracy\n",
    "    del gp_model\n"
   ]
  },
  {
   "cell_type": "code",
   "execution_count": 74,
   "metadata": {},
   "outputs": [
    {
     "data": {
      "text/plain": [
       "{'CNN classifier': 0.9911,\n",
       " 'Hybrid': 0.9903,\n",
       " 'Linear * Matern32 Kernel GP': 0.9914,\n",
       " 'Matern12 Kernel GP': 0.9903,\n",
       " 'Poly Kernel GP': 0.9891}"
      ]
     },
     "execution_count": 74,
     "metadata": {},
     "output_type": "execute_result"
    }
   ],
   "source": [
    "accuracies"
   ]
  },
  {
   "cell_type": "code",
   "execution_count": 77,
   "metadata": {},
   "outputs": [
    {
     "name": "stdout",
     "output_type": "stream",
     "text": [
      "('CNN classifier', 'Matern12 Kernel GP', 'Linear * Matern32 Kernel GP', 'Poly Kernel GP') [99.11 99.03 99.14 98.91] [0 1 2 3]\n"
     ]
    },
    {
     "data": {
      "image/png": "[encoded data removed]",
      "text/plain": [
       "<matplotlib.figure.Figure at 0x7f9414f57f60>"
      ]
     },
     "metadata": {},
     "output_type": "display_data"
    }
   ],
   "source": [
    "# Plot MNIST performance\n",
    "del accuracies['Hybrid'] # ignore for now\n",
    "\n",
    "# some manual fiddling to rename then the following\n",
    "xs, values = list(zip(*list(accuracies.items())))\n",
    "ind = np.arange(len(xs))  # the x locations for the groups\n",
    "print(xs, 100*np.array(values), ind)\n",
    "width = 0.35       # the width of the bars\n",
    "\n",
    "fig, ax = plt.subplots()\n",
    "rects1 = ax.bar(ind, 100*np.array(values), width, color='r')\n",
    "\n",
    "# add some text for labels, title and axes ticks\n",
    "ax.set_ylabel('Accuracy (%)')\n",
    "ax.set_title('MNIST Test Set Accuracy')\n",
    "ax.set_xticks(ind + width / 2 - 0.55)\n",
    "ax.set_xticklabels(xs)\n",
    "ax.set_ylim([97.0, 100.0])\n",
    "plt.xticks(rotation=25)\n",
    "plt.savefig('../results/figs/mnist/accuracies.pdf', bbox_inches='tight')\n",
    "plt.show()"
   ]
  },
  {
   "cell_type": "code",
   "execution_count": 33,
   "metadata": {},
   "outputs": [
    {
     "data": {
      "text/plain": [
       "[('CNN classifier',\n",
       "  'Matern12 Kernel GP',\n",
       "  'Linear * Matern32 Kernel',\n",
       "  'Poly Kernel GP',\n",
       "  'Hybrid'),\n",
       " (0.9911, 0.9903, 0.9914, 0.9891, 0.9914)]"
      ]
     },
     "execution_count": 33,
     "metadata": {},
     "output_type": "execute_result"
    }
   ],
   "source": []
  },
  {
   "cell_type": "code",
   "execution_count": 20,
   "metadata": {},
   "outputs": [
    {
     "name": "stdout",
     "output_type": "stream",
     "text": [
      "(10000,)\n",
      "(10000,)\n",
      "[ True  True  True ...  True  True  True]\n"
     ]
    }
   ],
   "source": [
    "print(hybrid_classes.shape)\n",
    "print(correct_classes.shape)\n",
    "print(hybrid_classes == correct_classes)"
   ]
  },
  {
   "cell_type": "code",
   "execution_count": null,
   "metadata": {},
   "outputs": [],
   "source": [
    "def plot_instance(axis, classes, correct_class, mu, var, width=0.3):\n",
    "    v = np.sqrt(var)\n",
    "    rects1 = axis.bar(classes, mu, width, color='r', yerr=v)\n",
    "    rects2 = axis.bar(correct_class, mu[correct_class], width, color='g', yerr=v[correct_class])\n"
   ]
  },
  {
   "cell_type": "code",
   "execution_count": 72,
   "metadata": {
    "scrolled": true
   },
   "outputs": [
    {
     "data": {
      "image/png": "[encoded data removed]",
      "text/plain": [
       "<matplotlib.figure.Figure at 0x7f73cc6c85c0>"
      ]
     },
     "metadata": {},
     "output_type": "display_data"
    },
    {
     "name": "stdout",
     "output_type": "stream",
     "text": [
      "GP Predictions: [  1.11111111e-04   1.11111116e-04   7.03941425e-01   1.55959076e-01\n",
      "   1.11111111e-04   1.11111111e-04   1.11111111e-04   1.11111111e-04\n",
      "   1.38522876e-01   1.11111111e-04]\n"
     ]
    },
    {
     "data": {
      "image/png": "[encoded data removed]",
      "text/plain": [
       "<matplotlib.figure.Figure at 0x7f73cc6b4d30>"
      ]
     },
     "metadata": {},
     "output_type": "display_data"
    },
    {
     "name": "stdout",
     "output_type": "stream",
     "text": [
      "CNN Predictions: [  1.33762839e-07   1.94914846e-05   6.54773951e-01   7.53047317e-02\n",
      "   2.21210627e-07   8.21320043e-08   1.11097529e-06   1.35922946e-07\n",
      "   2.69900054e-01   5.16141512e-08]\n"
     ]
    },
    {
     "data": {
      "image/png": "[encoded data removed]",
      "text/plain": [
       "<matplotlib.figure.Figure at 0x7f7400584a20>"
      ]
     },
     "metadata": {},
     "output_type": "display_data"
    }
   ],
   "source": [
    "\n",
    "\n",
    "classes = np.arange(mnist_gp_mu.shape[-1]) # 0 -> 9\n",
    "# save some examples for both failing\n",
    "index = 5\n",
    "plt.show()\n",
    "plt.style.use('default')\n",
    "plt.imshow(both_incorrect_imgs[index].reshape(28, 28), cmap=plt.get_cmap('gray'))\n",
    "plt.savefig('../results/figs/mnist/both_incorrect_example_linear.pdf', bbox_inches='tight')\n",
    "plt.show()\n",
    "plt.style.use('ggplot')\n",
    "\n",
    "\n",
    "print(\"GP Predictions:\", mnist_gp_mu[mnist_overlap_incorrect][index])\n",
    "correct_class = correct_classes[mnist_overlap_incorrect][index]\n",
    "plot_instance(plt, classes, correct_class, mnist_gp_mu[mnist_overlap_incorrect][index], mnist_gp_var[mnist_overlap_incorrect][index], width=0.3)\n",
    "plt.xticks(classes)\n",
    "plt.ylim([0.0, 1.0])\n",
    "plt.title(\"GP Predictions for Incorrect Example\")\n",
    "plt.xlabel(\"Class\")\n",
    "plt.ylabel(\"Probability\")\n",
    "plt.savefig('../results/figs/mnist/both_incorrect_gp_linear_probs.pdf', bbox_inches='tight')\n",
    "plt.show()\n",
    "\n",
    "print(\"CNN Predictions:\", mnist_cnn_preds[mnist_overlap_incorrect][index])\n",
    "plot_instance(plt, classes, correct_class, mnist_cnn_preds[mnist_overlap_incorrect][index], [0]*10, width=0.3)\n",
    "plt.xticks(classes)\n",
    "plt.ylim([0.0, 1.0])\n",
    "\n",
    "plt.title(\"CNN Predictions for Incorrect Example\")\n",
    "plt.xlabel(\"Class\")\n",
    "plt.ylabel(\"Probability\")\n",
    "plt.savefig('../results/figs/mnist/both_incorrect_cnn_probs.pdf', bbox_inches='tight')\n",
    "plt.show()"
   ]
  },
  {
   "cell_type": "code",
   "execution_count": 76,
   "metadata": {
    "scrolled": true
   },
   "outputs": [
    {
     "data": {
      "image/png": "[encoded data removed]",
      "text/plain": [
       "<matplotlib.figure.Figure at 0x7f738daae438>"
      ]
     },
     "metadata": {},
     "output_type": "display_data"
    },
    {
     "name": "stdout",
     "output_type": "stream",
     "text": [
      "GP Predictions: [  1.11111224e-04   1.11111111e-04   1.11111126e-04   1.11111111e-04\n",
      "   1.11112044e-04   6.20068303e-01   3.78225716e-01   1.11111111e-04\n",
      "   1.29380687e-04   1.11111111e-04]\n"
     ]
    },
    {
     "data": {
      "image/png": "[encoded data removed]",
      "text/plain": [
       "<matplotlib.figure.Figure at 0x7f7380d348d0>"
      ]
     },
     "metadata": {},
     "output_type": "display_data"
    },
    {
     "name": "stdout",
     "output_type": "stream",
     "text": [
      "CNN Predictions: [  4.65367593e-05   1.73398675e-07   2.29464121e-07   1.63638241e-08\n",
      "   2.12655832e-05   4.44226146e-01   5.53724527e-01   5.49633516e-12\n",
      "   1.98115641e-03   2.08917221e-08]\n"
     ]
    },
    {
     "data": {
      "image/png": "[encoded data removed]",
      "text/plain": [
       "<matplotlib.figure.Figure at 0x7f73fc89cba8>"
      ]
     },
     "metadata": {},
     "output_type": "display_data"
    },
    {
     "data": {
      "image/png": "[encoded data removed]",
      "text/plain": [
       "<matplotlib.figure.Figure at 0x7f73d903f8d0>"
      ]
     },
     "metadata": {},
     "output_type": "display_data"
    },
    {
     "name": "stdout",
     "output_type": "stream",
     "text": [
      "GP Predictions: [  1.11111111e-04   5.98790426e-01   1.59388554e-04   1.11111119e-04\n",
      "   1.11111111e-04   1.11111111e-04   1.11111111e-04   3.99473582e-01\n",
      "   1.11112173e-04   1.11111113e-04]\n"
     ]
    },
    {
     "data": {
      "image/png": "[encoded data removed]",
      "text/plain": [
       "<matplotlib.figure.Figure at 0x7f73d90098d0>"
      ]
     },
     "metadata": {},
     "output_type": "display_data"
    },
    {
     "name": "stdout",
     "output_type": "stream",
     "text": [
      "CNN Predictions: [  9.08331344e-07   3.35291475e-01   8.69253185e-03   1.20929588e-04\n",
      "   2.23420830e-06   1.61058642e-06   8.40219343e-08   6.55311942e-01\n",
      "   5.42545458e-04   3.57594035e-05]\n"
     ]
    },
    {
     "data": {
      "image/png": "[encoded data removed]",
      "text/plain": [
       "<matplotlib.figure.Figure at 0x7f739a6e0f98>"
      ]
     },
     "metadata": {},
     "output_type": "display_data"
    }
   ],
   "source": [
    "\n",
    "#gp_correct_not_cnn\n",
    "#cnn_correct_not_gp\n",
    "\n",
    "classes = np.arange(mnist_gp_mu.shape[-1]) # 0 -> 9\n",
    "# save some examples for one failing but not the other\n",
    "index = 6 # 6 demonstrates where might gain with a hybrid model\n",
    "\n",
    "plt.style.use('default')\n",
    "plt.imshow(mnist_test_imgs[gp_correct_not_cnn][index].reshape(28, 28), cmap=plt.get_cmap('gray'))\n",
    "plt.savefig('../results/figs/mnist/cnn_incorrect_only_example_linear.pdf', bbox_inches='tight')\n",
    "plt.show()\n",
    "plt.style.use('ggplot')\n",
    "\n",
    "\n",
    "print(\"GP Predictions:\", mnist_gp_mu[gp_correct_not_cnn][index])\n",
    "correct_class = correct_classes[gp_correct_not_cnn][index]\n",
    "plot_instance(plt, classes, correct_class, mnist_gp_mu[gp_correct_not_cnn][index], mnist_gp_var[gp_correct_not_cnn][index], width=0.3)\n",
    "plt.xticks(classes)\n",
    "plt.ylim([0.0, 1.0])\n",
    "plt.title(\"GP Predictions for GP Correct/CNN Incorrect\")\n",
    "plt.xlabel(\"Class\")\n",
    "plt.ylabel(\"Probability\")\n",
    "plt.savefig('../results/figs/mnist/cnn_incorrect_only_gp_linear_probs.pdf', bbox_inches='tight')\n",
    "plt.show()\n",
    "\n",
    "print(\"CNN Predictions:\", mnist_cnn_preds[gp_correct_not_cnn][index])\n",
    "plot_instance(plt, classes, correct_class, mnist_cnn_preds[gp_correct_not_cnn][index], [0]*10, width=0.3)\n",
    "plt.xticks(classes)\n",
    "plt.ylim([0.0, 1.0])\n",
    "\n",
    "plt.title(\"CNN Predictions for Incorrect Example\")\n",
    "plt.xlabel(\"Class\")\n",
    "plt.ylabel(\"Probability\")\n",
    "plt.savefig('../results/figs/mnist/cnn_incorrect_only_cnn_probs.pdf', bbox_inches='tight')\n",
    "plt.show()\n",
    "\n",
    "\n",
    "#--- CNN only correct Example\n",
    "plt.imshow(mnist_test_imgs[cnn_correct_not_gp][index].reshape(28, 28), cmap=plt.get_cmap('gray'))\n",
    "plt.savefig('../results/figs/mnist/gp_incorrect_only_example_linear.pdf', bbox_inches='tight')\n",
    "plt.show()\n",
    "\n",
    "print(\"GP Predictions:\", mnist_gp_mu[cnn_correct_not_gp][index])\n",
    "correct_class = correct_classes[cnn_correct_not_gp][index]\n",
    "plot_instance(plt, classes, correct_class, mnist_gp_mu[cnn_correct_not_gp][index], mnist_gp_var[cnn_correct_not_gp][index], width=0.3)\n",
    "plt.xticks(classes)\n",
    "plt.ylim([0.0, 1.0])\n",
    "plt.title(\"GP Predictions for GP Correct/CNN Incorrect\")\n",
    "plt.xlabel(\"Class\")\n",
    "plt.ylabel(\"Probability\")\n",
    "plt.savefig('../results/figs/mnist/gp_incorrect_only_gp_linear_probs.pdf', bbox_inches='tight')\n",
    "plt.show()\n",
    "\n",
    "print(\"CNN Predictions:\", mnist_cnn_preds[cnn_correct_not_gp][index])\n",
    "plot_instance(plt, classes, correct_class, mnist_cnn_preds[cnn_correct_not_gp][index], [0]*10, width=0.3)\n",
    "plt.xticks(classes)\n",
    "plt.ylim([0.0, 1.0])\n",
    "\n",
    "plt.title(\"CNN Predictions for Incorrect Example\")\n",
    "plt.xlabel(\"Class\")\n",
    "plt.ylabel(\"Probability\")\n",
    "plt.savefig('../results/figs/mnist/gp_incorrect_only_cnn_probs.pdf', bbox_inches='tight')\n",
    "plt.show()"
   ]
  },
  {
   "cell_type": "code",
   "execution_count": 11,
   "metadata": {},
   "outputs": [
    {
     "name": "stdout",
     "output_type": "stream",
     "text": [
      "Saved to file, emptying data container\n"
     ]
    }
   ],
   "source": [
    "data.dump(\"_\".join([record_in, subkey]))"
   ]
  },
  {
   "cell_type": "code",
   "execution_count": 29,
   "metadata": {},
   "outputs": [],
   "source": [
    "# ---- White Noise + NMNIST ----\n",
    "\n",
    "# Preprocess the N-MNIST data just like standard MNIST\n",
    "nmnist_noisy = scipy.io.loadmat('../data/raw/n-mnist/nmnist-awgn.mat')\n",
    "\n",
    "awgn_x_test = preprocess_images(nmnist_noisy['test_x'])\n",
    "awgn_y_test_onehot = nmnist_noisy['test_y']\n",
    "awgn_y_test = np.argmax(awgn_y_test_onehot, axis=1)\n",
    "awgn_correct_classes = awgn_y_test"
   ]
  },
  {
   "cell_type": "code",
   "execution_count": 30,
   "metadata": {},
   "outputs": [
    {
     "name": "stdout",
     "output_type": "stream",
     "text": [
      "CNN accuracy:  0.9538\n",
      "SVM accuracy:  0.962\n"
     ]
    }
   ],
   "source": [
    "record_in = 'MNIST + AWGN'\n",
    "subkey = 'Accuracy'\n",
    "\n",
    "awgn_feats = cnn_model.extract_features(awgn_x_test)\n",
    "\n",
    "#CNN\n",
    "awgn_cnn_preds = cnn_model.predict_img_batch(awgn_x_test)\n",
    "awgn_cnn_classes = np.argmax(awgn_cnn_preds, axis=1)\n",
    "awgn_cnn_correct = awgn_correct_classes == awgn_cnn_classes\n",
    "awgn_cnn_accuracy = np.count_nonzero(awgn_cnn_correct) / n\n",
    "print(\"CNN accuracy: \", awgn_cnn_accuracy)\n",
    "data.write([record_in, subkey, cnn_model.name], awgn_cnn_accuracy)\n",
    "\n",
    "# SVM\n",
    "awgn_svm_classes = svm_model.predict_batch(awgn_feats)\n",
    "awgn_svm_correct = awgn_correct_classes == awgn_svm_classes\n",
    "awgn_svm_accuracy = np.count_nonzero(awgn_svm_correct) / n\n",
    "print(\"SVM accuracy: \", awgn_svm_accuracy)\n",
    "data.write([record_in, subkey, svm_model.name], awgn_svm_accuracy)"
   ]
  },
  {
   "cell_type": "code",
   "execution_count": 31,
   "metadata": {
    "scrolled": false
   },
   "outputs": [
    {
     "name": "stdout",
     "output_type": "stream",
     "text": [
      "Initialized Poly Kernel GP\n",
      "Loading GP model from file ../models/gp/Poly Kernel GP_model.npy\n",
      "Instantiated Poly Kernel GP\n",
      "Poly Kernel GP accuracy:  0.9468\n",
      "Hybrid model tol=0.1 stronger_crit=True(GP: Poly Kernel GP) accuracy: 0.9469\n",
      "Hybrid model tol=0.2 stronger_crit=True(GP: Poly Kernel GP) accuracy: 0.9473\n",
      "Hybrid model tol=0.30000000000000004 stronger_crit=True(GP: Poly Kernel GP) accuracy: 0.9484\n",
      "Hybrid model tol=0.4 stronger_crit=True(GP: Poly Kernel GP) accuracy: 0.9477\n",
      "Hybrid model tol=0.5 stronger_crit=True(GP: Poly Kernel GP) accuracy: 0.9478\n",
      "Initialized Linear * Matern32 Kernel params2 GP\n",
      "Loading GP model from file ../models/gp/Linear * Matern32 Kernel params2 GP_model.npy\n",
      "Instantiated Linear * Matern32 Kernel params2 GP\n",
      "Linear * Matern32 Kernel params2 GP accuracy:  0.9613\n",
      "Hybrid model tol=0.1 stronger_crit=True(GP: Linear * Matern32 Kernel params2 GP) accuracy: 0.9613\n",
      "Hybrid model tol=0.2 stronger_crit=True(GP: Linear * Matern32 Kernel params2 GP) accuracy: 0.9619\n",
      "Hybrid model tol=0.30000000000000004 stronger_crit=True(GP: Linear * Matern32 Kernel params2 GP) accuracy: 0.9615\n",
      "Hybrid model tol=0.4 stronger_crit=True(GP: Linear * Matern32 Kernel params2 GP) accuracy: 0.961\n",
      "Hybrid model tol=0.5 stronger_crit=True(GP: Linear * Matern32 Kernel params2 GP) accuracy: 0.9599\n",
      "Initialized Matern12 Kernel GP\n",
      "Loading GP model from file ../models/gp/Matern12 Kernel GP_model.npy\n",
      "Instantiated Matern12 Kernel GP\n",
      "Matern12 Kernel GP accuracy:  0.964\n",
      "Hybrid model tol=0.1 stronger_crit=True(GP: Matern12 Kernel GP) accuracy: 0.9641\n",
      "Hybrid model tol=0.2 stronger_crit=True(GP: Matern12 Kernel GP) accuracy: 0.9638\n",
      "Hybrid model tol=0.30000000000000004 stronger_crit=True(GP: Matern12 Kernel GP) accuracy: 0.9643\n",
      "Hybrid model tol=0.4 stronger_crit=True(GP: Matern12 Kernel GP) accuracy: 0.9636\n",
      "Hybrid model tol=0.5 stronger_crit=True(GP: Matern12 Kernel GP) accuracy: 0.9635\n"
     ]
    }
   ],
   "source": [
    "# GP\n",
    "for gp_model_getter in get_gp_model:\n",
    "    gp_model = gp_model_getter()\n",
    "    print(\"Instantiated\", gp_model.name)\n",
    "    awgn_gp_mu, awgn_gp_var = gp_model.predict_batch(awgn_feats)\n",
    "    awgn_gp_classes = np.argmax(awgn_gp_mu, axis=1)\n",
    "    awgn_gp_correct = awgn_correct_classes == awgn_gp_classes\n",
    "    awgn_gp_accuracy = np.count_nonzero(awgn_gp_correct) / n\n",
    "    print(gp_model.name, \"accuracy: \", awgn_gp_accuracy)\n",
    "    data.write([record_in, subkey, gp_model.name], awgn_gp_accuracy)\n",
    "\n",
    "    for hybrid in hybrid_models:\n",
    "        name = hybrid.name + \"(GP: {})\".format(gp_model.name)\n",
    "        hybrid_pred, hybrid_mus, hybrid_vars = hybrid.combine_predictions(awgn_cnn_preds, awgn_gp_mu, awgn_gp_var)\n",
    "        hybrid_classes = hybrid_pred[:, 1]\n",
    "        hybrid_correct = awgn_correct_classes == hybrid_classes\n",
    "        hybrid_accuracy = np.count_nonzero(hybrid_correct) / n\n",
    "        print(name, \"accuracy:\", hybrid_accuracy)\n",
    "        data.write([record_in, subkey, name], hybrid_accuracy)\n",
    "    del gp_model # Clear TF sessions"
   ]
  },
  {
   "cell_type": "code",
   "execution_count": 32,
   "metadata": {},
   "outputs": [
    {
     "name": "stdout",
     "output_type": "stream",
     "text": [
      "Saved to file, emptying data container\n"
     ]
    }
   ],
   "source": [
    "data.dump(\"_\".join([record_in, subkey]))"
   ]
  },
  {
   "cell_type": "code",
   "execution_count": 33,
   "metadata": {},
   "outputs": [],
   "source": [
    "nmnist_blur = scipy.io.loadmat('../data/raw/n-mnist/nmnist-blur.mat')\n",
    "blur_x_test = preprocess_images(nmnist_blur['test_x'])\n",
    "blur_y_test_onehot = nmnist_blur['test_y']\n",
    "blur_y_test = np.argmax(blur_y_test_onehot, axis=1)\n",
    "blur_correct_classes = blur_y_test\n",
    "\n",
    "blur_feats = cnn_model.extract_features(blur_x_test)"
   ]
  },
  {
   "cell_type": "code",
   "execution_count": 34,
   "metadata": {},
   "outputs": [
    {
     "name": "stdout",
     "output_type": "stream",
     "text": [
      "CNN accuracy:  0.9458\n",
      "SVM accuracy:  0.9279\n"
     ]
    }
   ],
   "source": [
    "record_in = 'MNIST + blur'\n",
    "subkey = 'Accuracy'\n",
    "\n",
    "blur_feats = cnn_model.extract_features(blur_x_test)\n",
    "\n",
    "#CNN\n",
    "blur_cnn_preds = cnn_model.predict_img_batch(blur_x_test)\n",
    "blur_cnn_classes = np.argmax(blur_cnn_preds, axis=1)\n",
    "blur_cnn_correct = blur_correct_classes == blur_cnn_classes\n",
    "blur_cnn_accuracy = np.count_nonzero(blur_cnn_correct) / n\n",
    "print(\"CNN accuracy: \", blur_cnn_accuracy)\n",
    "data.write([record_in, subkey, cnn_model.name], blur_cnn_accuracy)\n",
    "\n",
    "# SVM\n",
    "blur_svm_classes = svm_model.predict_batch(blur_feats)\n",
    "blur_svm_correct = blur_correct_classes == blur_svm_classes\n",
    "blur_svm_accuracy = np.count_nonzero(blur_svm_correct) / n\n",
    "print(\"SVM accuracy: \", blur_svm_accuracy)\n",
    "data.write([record_in, subkey, svm_model.name], blur_svm_accuracy)"
   ]
  },
  {
   "cell_type": "code",
   "execution_count": 35,
   "metadata": {},
   "outputs": [
    {
     "name": "stdout",
     "output_type": "stream",
     "text": [
      "Initialized Poly Kernel GP\n",
      "Loading GP model from file ../models/gp/Poly Kernel GP_model.npy\n",
      "Instantiated Poly Kernel GP\n",
      "Poly Kernel GP accuracy:  0.9339\n",
      "Hybrid model tol=0.1 stronger_crit=True(GP: Poly Kernel GP) accuracy: 0.9343\n",
      "Hybrid model tol=0.2 stronger_crit=True(GP: Poly Kernel GP) accuracy: 0.9346\n",
      "Hybrid model tol=0.30000000000000004 stronger_crit=True(GP: Poly Kernel GP) accuracy: 0.9329\n",
      "Hybrid model tol=0.4 stronger_crit=True(GP: Poly Kernel GP) accuracy: 0.9344\n",
      "Hybrid model tol=0.5 stronger_crit=True(GP: Poly Kernel GP) accuracy: 0.9341\n",
      "Initialized Linear * Matern32 Kernel params2 GP\n",
      "Loading GP model from file ../models/gp/Linear * Matern32 Kernel params2 GP_model.npy\n",
      "Instantiated Linear * Matern32 Kernel params2 GP\n",
      "Linear * Matern32 Kernel params2 GP accuracy:  0.9461\n",
      "Hybrid model tol=0.1 stronger_crit=True(GP: Linear * Matern32 Kernel params2 GP) accuracy: 0.9462\n",
      "Hybrid model tol=0.2 stronger_crit=True(GP: Linear * Matern32 Kernel params2 GP) accuracy: 0.9471\n",
      "Hybrid model tol=0.30000000000000004 stronger_crit=True(GP: Linear * Matern32 Kernel params2 GP) accuracy: 0.9484\n",
      "Hybrid model tol=0.4 stronger_crit=True(GP: Linear * Matern32 Kernel params2 GP) accuracy: 0.948\n",
      "Hybrid model tol=0.5 stronger_crit=True(GP: Linear * Matern32 Kernel params2 GP) accuracy: 0.949\n",
      "Initialized Matern12 Kernel GP\n",
      "Loading GP model from file ../models/gp/Matern12 Kernel GP_model.npy\n",
      "Instantiated Matern12 Kernel GP\n",
      "Matern12 Kernel GP accuracy:  0.8746\n",
      "Hybrid model tol=0.1 stronger_crit=True(GP: Matern12 Kernel GP) accuracy: 0.875\n",
      "Hybrid model tol=0.2 stronger_crit=True(GP: Matern12 Kernel GP) accuracy: 0.876\n",
      "Hybrid model tol=0.30000000000000004 stronger_crit=True(GP: Matern12 Kernel GP) accuracy: 0.8782\n",
      "Hybrid model tol=0.4 stronger_crit=True(GP: Matern12 Kernel GP) accuracy: 0.8813\n",
      "Hybrid model tol=0.5 stronger_crit=True(GP: Matern12 Kernel GP) accuracy: 0.8816\n"
     ]
    }
   ],
   "source": [
    "# GP\n",
    "for gp_model_getter in get_gp_model:\n",
    "    gp_model = gp_model_getter()\n",
    "    print(\"Instantiated\", gp_model.name)\n",
    "    blur_gp_mu, blur_gp_var = gp_model.predict_batch(blur_feats)\n",
    "    blur_gp_classes = np.argmax(blur_gp_mu, axis=1)\n",
    "    blur_gp_correct = blur_correct_classes == blur_gp_classes\n",
    "    blur_gp_accuracy = np.count_nonzero(blur_gp_correct) / n\n",
    "    print(gp_model.name, \"accuracy: \", blur_gp_accuracy)\n",
    "    data.write([record_in, subkey, gp_model.name], blur_gp_accuracy)\n",
    "\n",
    "    for hybrid in hybrid_models:\n",
    "        name = hybrid.name + \"(GP: {})\".format(gp_model.name)\n",
    "        hybrid_pred, hybrid_mus, hybrid_vars = hybrid.combine_predictions(blur_cnn_preds, blur_gp_mu, blur_gp_var)\n",
    "        hybrid_classes = hybrid_pred[:, 1]\n",
    "        hybrid_correct = blur_correct_classes == hybrid_classes\n",
    "        hybrid_accuracy = np.count_nonzero(hybrid_correct) / n\n",
    "        print(name, \"accuracy:\", hybrid_accuracy)\n",
    "        data.write([record_in, subkey, name], hybrid_accuracy)\n",
    "    del gp_model # Clear TF session, graph (hopefully)"
   ]
  },
  {
   "cell_type": "code",
   "execution_count": 36,
   "metadata": {
    "scrolled": true
   },
   "outputs": [
    {
     "name": "stdout",
     "output_type": "stream",
     "text": [
      "Saved to file, emptying data container\n"
     ]
    }
   ],
   "source": [
    "data.dump('_'.join([record_in,  subkey]))"
   ]
  },
  {
   "cell_type": "code",
   "execution_count": 37,
   "metadata": {},
   "outputs": [],
   "source": [
    "nmnist_noisy_lowcontrast = scipy.io.loadmat('../data/raw/n-mnist/nmnist-contrast.mat')\n",
    "record_in = 'Low Contrast MNIST'\n",
    "\n",
    "lowcontrast_x_test = preprocess_images(nmnist_noisy_lowcontrast['test_x'])\n",
    "lowcontrast_y_test_onehot = nmnist_noisy_lowcontrast['test_y']\n",
    "lowcontrast_y_test = np.argmax(lowcontrast_y_test_onehot, axis=1)\n",
    "lowcontrast_correct_classes = lowcontrast_y_test\n",
    "\n",
    "lowcontrast_feats = cnn_model.extract_features(lowcontrast_x_test)"
   ]
  },
  {
   "cell_type": "code",
   "execution_count": 38,
   "metadata": {},
   "outputs": [
    {
     "name": "stdout",
     "output_type": "stream",
     "text": [
      "CNN accuracy:  0.7715\n",
      "SVM accuracy:  0.7003\n"
     ]
    }
   ],
   "source": [
    "record_in = 'MNIST + low contrast + AWGN'\n",
    "subkey = 'Accuracy'\n",
    "\n",
    "lowcontrast_feats = cnn_model.extract_features(lowcontrast_x_test)\n",
    "\n",
    "#CNN\n",
    "lowcontrast_cnn_preds = cnn_model.predict_img_batch(lowcontrast_x_test)\n",
    "lowcontrast_cnn_classes = np.argmax(lowcontrast_cnn_preds, axis=1)\n",
    "lowcontrast_cnn_correct = lowcontrast_correct_classes == lowcontrast_cnn_classes\n",
    "lowcontrast_cnn_accuracy = np.count_nonzero(lowcontrast_cnn_correct) / n\n",
    "print(\"CNN accuracy: \", lowcontrast_cnn_accuracy)\n",
    "data.write([record_in, subkey, cnn_model.name], lowcontrast_cnn_accuracy)\n",
    "\n",
    "# SVM\n",
    "lowcontrast_svm_classes = svm_model.predict_batch(lowcontrast_feats)\n",
    "lowcontrast_svm_correct = lowcontrast_correct_classes == lowcontrast_svm_classes\n",
    "lowcontrast_svm_accuracy = np.count_nonzero(lowcontrast_svm_correct) / n\n",
    "print(\"SVM accuracy: \", lowcontrast_svm_accuracy)\n",
    "data.write([record_in, subkey, svm_model.name], lowcontrast_svm_accuracy)"
   ]
  },
  {
   "cell_type": "code",
   "execution_count": 39,
   "metadata": {
    "scrolled": false
   },
   "outputs": [
    {
     "name": "stdout",
     "output_type": "stream",
     "text": [
      "Initialized Poly Kernel GP\n",
      "Loading GP model from file ../models/gp/Poly Kernel GP_model.npy\n",
      "Instantiated Poly Kernel GP\n",
      "Poly Kernel GP accuracy:  0.8118\n",
      "Hybrid model tol=0.1 stronger_crit=True(GP: Poly Kernel GP) accuracy: 0.811\n",
      "Hybrid model tol=0.2 stronger_crit=True(GP: Poly Kernel GP) accuracy: 0.8082\n",
      "Hybrid model tol=0.30000000000000004 stronger_crit=True(GP: Poly Kernel GP) accuracy: 0.8074\n",
      "Hybrid model tol=0.4 stronger_crit=True(GP: Poly Kernel GP) accuracy: 0.8078\n",
      "Hybrid model tol=0.5 stronger_crit=True(GP: Poly Kernel GP) accuracy: 0.8086\n",
      "Initialized Linear * Matern32 Kernel params2 GP\n",
      "Loading GP model from file ../models/gp/Linear * Matern32 Kernel params2 GP_model.npy\n",
      "Instantiated Linear * Matern32 Kernel params2 GP\n",
      "Linear * Matern32 Kernel params2 GP accuracy:  0.7895\n",
      "Hybrid model tol=0.1 stronger_crit=True(GP: Linear * Matern32 Kernel params2 GP) accuracy: 0.7907\n",
      "Hybrid model tol=0.2 stronger_crit=True(GP: Linear * Matern32 Kernel params2 GP) accuracy: 0.7927\n",
      "Hybrid model tol=0.30000000000000004 stronger_crit=True(GP: Linear * Matern32 Kernel params2 GP) accuracy: 0.7959\n",
      "Hybrid model tol=0.4 stronger_crit=True(GP: Linear * Matern32 Kernel params2 GP) accuracy: 0.7952\n",
      "Hybrid model tol=0.5 stronger_crit=True(GP: Linear * Matern32 Kernel params2 GP) accuracy: 0.7909\n",
      "Initialized Matern12 Kernel GP\n",
      "Loading GP model from file ../models/gp/Matern12 Kernel GP_model.npy\n",
      "Instantiated Matern12 Kernel GP\n",
      "Matern12 Kernel GP accuracy:  0.7152\n",
      "Hybrid model tol=0.1 stronger_crit=True(GP: Matern12 Kernel GP) accuracy: 0.7197\n",
      "Hybrid model tol=0.2 stronger_crit=True(GP: Matern12 Kernel GP) accuracy: 0.7276\n",
      "Hybrid model tol=0.30000000000000004 stronger_crit=True(GP: Matern12 Kernel GP) accuracy: 0.7315\n",
      "Hybrid model tol=0.4 stronger_crit=True(GP: Matern12 Kernel GP) accuracy: 0.7161\n",
      "Hybrid model tol=0.5 stronger_crit=True(GP: Matern12 Kernel GP) accuracy: 0.7121\n"
     ]
    }
   ],
   "source": [
    "# GP\n",
    "for gp_model_getter in get_gp_model:\n",
    "    gp_model = gp_model_getter()\n",
    "    print(\"Instantiated\", gp_model.name)\n",
    "    lowcontrast_gp_mu, lowcontrast_gp_var = gp_model.predict_batch(lowcontrast_feats)\n",
    "    lowcontrast_gp_classes = np.argmax(lowcontrast_gp_mu, axis=1)\n",
    "    lowcontrast_gp_correct = lowcontrast_correct_classes == lowcontrast_gp_classes\n",
    "    lowcontrast_gp_accuracy = np.count_nonzero(lowcontrast_gp_correct) / n\n",
    "    print(gp_model.name, \"accuracy: \", lowcontrast_gp_accuracy)\n",
    "    data.write([record_in, subkey, gp_model.name], lowcontrast_gp_accuracy)\n",
    "\n",
    "    for hybrid in hybrid_models:\n",
    "        name = hybrid.name + \"(GP: {})\".format(gp_model.name)\n",
    "        hybrid_pred, hybrid_mus, hybrid_vars = hybrid.combine_predictions(lowcontrast_cnn_preds, lowcontrast_gp_mu, lowcontrast_gp_var)\n",
    "        hybrid_classes = hybrid_pred[:, 1]\n",
    "        hybrid_correct = lowcontrast_correct_classes == hybrid_classes\n",
    "        hybrid_accuracy = np.count_nonzero(hybrid_correct) / n\n",
    "        print(name, \"accuracy:\", hybrid_accuracy)\n",
    "        data.write([record_in, subkey, name], hybrid_accuracy)\n",
    "    del gp_model # Clear TF session, graph (hopefully)"
   ]
  },
  {
   "cell_type": "code",
   "execution_count": 40,
   "metadata": {},
   "outputs": [
    {
     "name": "stdout",
     "output_type": "stream",
     "text": [
      "Saved to file, emptying data container\n"
     ]
    }
   ],
   "source": [
    "data.dump('_'.join([record_in, subkey]))"
   ]
  },
  {
   "cell_type": "code",
   "execution_count": 9,
   "metadata": {},
   "outputs": [
    {
     "data": {
      "text/plain": [
       "1318"
      ]
     },
     "execution_count": 9,
     "metadata": {},
     "output_type": "execute_result"
    }
   ],
   "source": [
    "import gc\n",
    "gc.collect()"
   ]
  },
  {
   "cell_type": "code",
   "execution_count": 10,
   "metadata": {
    "scrolled": false
   },
   "outputs": [
    {
     "name": "stdout",
     "output_type": "stream",
     "text": [
      "Epsilon = 0.025\n",
      "CNN classifier accuracy:  0.9888\n",
      "SVM classifier accuracy:  0.9905\n",
      "Initialized Poly Kernel GP\n",
      "Loading GP model from file ../models/gp/Poly Kernel GP_model.npy\n",
      "Instantiated Poly Kernel GP\n",
      "Poly Kernel GP accuracy:  0.9833\n",
      "Hybrid model tol=0.1 stronger_crit=True(GP: Poly Kernel GP) accuracy: 0.9833\n",
      "Hybrid model tol=0.2 stronger_crit=True(GP: Poly Kernel GP) accuracy: 0.9833\n",
      "Hybrid model tol=0.30000000000000004 stronger_crit=True(GP: Poly Kernel GP) accuracy: 0.9834\n",
      "Hybrid model tol=0.4 stronger_crit=True(GP: Poly Kernel GP) accuracy: 0.9832\n",
      "Hybrid model tol=0.5 stronger_crit=True(GP: Poly Kernel GP) accuracy: 0.9834\n",
      "Initialized Linear * Matern32 Kernel params2 GP\n",
      "Loading GP model from file ../models/gp/Linear * Matern32 Kernel params2 GP_model.npy\n",
      "Instantiated Linear * Matern32 Kernel params2 GP\n",
      "Linear * Matern32 Kernel params2 GP accuracy:  0.9869\n",
      "Hybrid model tol=0.1 stronger_crit=True(GP: Linear * Matern32 Kernel params2 GP) accuracy: 0.9869\n",
      "Hybrid model tol=0.2 stronger_crit=True(GP: Linear * Matern32 Kernel params2 GP) accuracy: 0.9869\n",
      "Hybrid model tol=0.30000000000000004 stronger_crit=True(GP: Linear * Matern32 Kernel params2 GP) accuracy: 0.9869\n",
      "Hybrid model tol=0.4 stronger_crit=True(GP: Linear * Matern32 Kernel params2 GP) accuracy: 0.9869\n",
      "Hybrid model tol=0.5 stronger_crit=True(GP: Linear * Matern32 Kernel params2 GP) accuracy: 0.9871\n",
      "Initialized Matern12 Kernel GP\n",
      "Loading GP model from file ../models/gp/Matern12 Kernel GP_model.npy\n",
      "Instantiated Matern12 Kernel GP\n",
      "Matern12 Kernel GP accuracy:  0.986\n",
      "Hybrid model tol=0.1 stronger_crit=True(GP: Matern12 Kernel GP) accuracy: 0.986\n",
      "Hybrid model tol=0.2 stronger_crit=True(GP: Matern12 Kernel GP) accuracy: 0.986\n",
      "Hybrid model tol=0.30000000000000004 stronger_crit=True(GP: Matern12 Kernel GP) accuracy: 0.986\n",
      "Hybrid model tol=0.4 stronger_crit=True(GP: Matern12 Kernel GP) accuracy: 0.986\n",
      "Hybrid model tol=0.5 stronger_crit=True(GP: Matern12 Kernel GP) accuracy: 0.986\n",
      "Saved to file, emptying data container\n",
      "Epsilon = 0.05\n",
      "CNN classifier accuracy:  0.9749\n",
      "SVM classifier accuracy:  0.9787\n",
      "Initialized Poly Kernel GP\n",
      "Loading GP model from file ../models/gp/Poly Kernel GP_model.npy\n",
      "Instantiated Poly Kernel GP\n",
      "Poly Kernel GP accuracy:  0.971\n",
      "Hybrid model tol=0.1 stronger_crit=True(GP: Poly Kernel GP) accuracy: 0.9709\n",
      "Hybrid model tol=0.2 stronger_crit=True(GP: Poly Kernel GP) accuracy: 0.971\n",
      "Hybrid model tol=0.30000000000000004 stronger_crit=True(GP: Poly Kernel GP) accuracy: 0.9711\n",
      "Hybrid model tol=0.4 stronger_crit=True(GP: Poly Kernel GP) accuracy: 0.971\n",
      "Hybrid model tol=0.5 stronger_crit=True(GP: Poly Kernel GP) accuracy: 0.9709\n",
      "Initialized Linear * Matern32 Kernel params2 GP\n",
      "Loading GP model from file ../models/gp/Linear * Matern32 Kernel params2 GP_model.npy\n",
      "Instantiated Linear * Matern32 Kernel params2 GP\n",
      "Linear * Matern32 Kernel params2 GP accuracy:  0.9763\n",
      "Hybrid model tol=0.1 stronger_crit=True(GP: Linear * Matern32 Kernel params2 GP) accuracy: 0.9763\n",
      "Hybrid model tol=0.2 stronger_crit=True(GP: Linear * Matern32 Kernel params2 GP) accuracy: 0.9765\n",
      "Hybrid model tol=0.30000000000000004 stronger_crit=True(GP: Linear * Matern32 Kernel params2 GP) accuracy: 0.9762\n",
      "Hybrid model tol=0.4 stronger_crit=True(GP: Linear * Matern32 Kernel params2 GP) accuracy: 0.9761\n",
      "Hybrid model tol=0.5 stronger_crit=True(GP: Linear * Matern32 Kernel params2 GP) accuracy: 0.9766\n",
      "Initialized Matern12 Kernel GP\n",
      "Loading GP model from file ../models/gp/Matern12 Kernel GP_model.npy\n",
      "Instantiated Matern12 Kernel GP\n",
      "Matern12 Kernel GP accuracy:  0.9756\n",
      "Hybrid model tol=0.1 stronger_crit=True(GP: Matern12 Kernel GP) accuracy: 0.9756\n",
      "Hybrid model tol=0.2 stronger_crit=True(GP: Matern12 Kernel GP) accuracy: 0.9756\n",
      "Hybrid model tol=0.30000000000000004 stronger_crit=True(GP: Matern12 Kernel GP) accuracy: 0.9756\n",
      "Hybrid model tol=0.4 stronger_crit=True(GP: Matern12 Kernel GP) accuracy: 0.9756\n",
      "Hybrid model tol=0.5 stronger_crit=True(GP: Matern12 Kernel GP) accuracy: 0.9756\n",
      "Saved to file, emptying data container\n",
      "Epsilon = 0.07500000000000001\n",
      "CNN classifier accuracy:  0.9549\n",
      "SVM classifier accuracy:  0.9593\n",
      "Initialized Poly Kernel GP\n",
      "Loading GP model from file ../models/gp/Poly Kernel GP_model.npy\n",
      "Instantiated Poly Kernel GP\n",
      "Poly Kernel GP accuracy:  0.9526\n",
      "Hybrid model tol=0.1 stronger_crit=True(GP: Poly Kernel GP) accuracy: 0.9526\n",
      "Hybrid model tol=0.2 stronger_crit=True(GP: Poly Kernel GP) accuracy: 0.9525\n",
      "Hybrid model tol=0.30000000000000004 stronger_crit=True(GP: Poly Kernel GP) accuracy: 0.9525\n",
      "Hybrid model tol=0.4 stronger_crit=True(GP: Poly Kernel GP) accuracy: 0.9525\n",
      "Hybrid model tol=0.5 stronger_crit=True(GP: Poly Kernel GP) accuracy: 0.9524\n",
      "Initialized Linear * Matern32 Kernel params2 GP\n",
      "Loading GP model from file ../models/gp/Linear * Matern32 Kernel params2 GP_model.npy\n",
      "Instantiated Linear * Matern32 Kernel params2 GP\n",
      "Linear * Matern32 Kernel params2 GP accuracy:  0.9549\n",
      "Hybrid model tol=0.1 stronger_crit=True(GP: Linear * Matern32 Kernel params2 GP) accuracy: 0.9548\n",
      "Hybrid model tol=0.2 stronger_crit=True(GP: Linear * Matern32 Kernel params2 GP) accuracy: 0.955\n",
      "Hybrid model tol=0.30000000000000004 stronger_crit=True(GP: Linear * Matern32 Kernel params2 GP) accuracy: 0.955\n",
      "Hybrid model tol=0.4 stronger_crit=True(GP: Linear * Matern32 Kernel params2 GP) accuracy: 0.9549\n",
      "Hybrid model tol=0.5 stronger_crit=True(GP: Linear * Matern32 Kernel params2 GP) accuracy: 0.9546\n",
      "Initialized Matern12 Kernel GP\n",
      "Loading GP model from file ../models/gp/Matern12 Kernel GP_model.npy\n",
      "Instantiated Matern12 Kernel GP\n",
      "Matern12 Kernel GP accuracy:  0.9525\n",
      "Hybrid model tol=0.1 stronger_crit=True(GP: Matern12 Kernel GP) accuracy: 0.9525\n",
      "Hybrid model tol=0.2 stronger_crit=True(GP: Matern12 Kernel GP) accuracy: 0.9525\n",
      "Hybrid model tol=0.30000000000000004 stronger_crit=True(GP: Matern12 Kernel GP) accuracy: 0.9526\n",
      "Hybrid model tol=0.4 stronger_crit=True(GP: Matern12 Kernel GP) accuracy: 0.9525\n",
      "Hybrid model tol=0.5 stronger_crit=True(GP: Matern12 Kernel GP) accuracy: 0.9523\n",
      "Saved to file, emptying data container\n",
      "Epsilon = 0.1\n",
      "CNN classifier accuracy:  0.9191\n",
      "SVM classifier accuracy:  0.9219\n",
      "Initialized Poly Kernel GP\n",
      "Loading GP model from file ../models/gp/Poly Kernel GP_model.npy\n",
      "Instantiated Poly Kernel GP\n",
      "Poly Kernel GP accuracy:  0.9198\n",
      "Hybrid model tol=0.1 stronger_crit=True(GP: Poly Kernel GP) accuracy: 0.9198\n",
      "Hybrid model tol=0.2 stronger_crit=True(GP: Poly Kernel GP) accuracy: 0.9197\n",
      "Hybrid model tol=0.30000000000000004 stronger_crit=True(GP: Poly Kernel GP) accuracy: 0.9197\n",
      "Hybrid model tol=0.4 stronger_crit=True(GP: Poly Kernel GP) accuracy: 0.92\n",
      "Hybrid model tol=0.5 stronger_crit=True(GP: Poly Kernel GP) accuracy: 0.92\n",
      "Initialized Linear * Matern32 Kernel params2 GP\n",
      "Loading GP model from file ../models/gp/Linear * Matern32 Kernel params2 GP_model.npy\n",
      "Instantiated Linear * Matern32 Kernel params2 GP\n",
      "Linear * Matern32 Kernel params2 GP accuracy:  0.9194\n",
      "Hybrid model tol=0.1 stronger_crit=True(GP: Linear * Matern32 Kernel params2 GP) accuracy: 0.9194\n",
      "Hybrid model tol=0.2 stronger_crit=True(GP: Linear * Matern32 Kernel params2 GP) accuracy: 0.9196\n",
      "Hybrid model tol=0.30000000000000004 stronger_crit=True(GP: Linear * Matern32 Kernel params2 GP) accuracy: 0.9193\n",
      "Hybrid model tol=0.4 stronger_crit=True(GP: Linear * Matern32 Kernel params2 GP) accuracy: 0.9193\n",
      "Hybrid model tol=0.5 stronger_crit=True(GP: Linear * Matern32 Kernel params2 GP) accuracy: 0.9192\n",
      "Initialized Matern12 Kernel GP\n",
      "Loading GP model from file ../models/gp/Matern12 Kernel GP_model.npy\n",
      "Instantiated Matern12 Kernel GP\n",
      "Matern12 Kernel GP accuracy:  0.919\n",
      "Hybrid model tol=0.1 stronger_crit=True(GP: Matern12 Kernel GP) accuracy: 0.9189\n",
      "Hybrid model tol=0.2 stronger_crit=True(GP: Matern12 Kernel GP) accuracy: 0.9192\n",
      "Hybrid model tol=0.30000000000000004 stronger_crit=True(GP: Matern12 Kernel GP) accuracy: 0.9191\n",
      "Hybrid model tol=0.4 stronger_crit=True(GP: Matern12 Kernel GP) accuracy: 0.919\n",
      "Hybrid model tol=0.5 stronger_crit=True(GP: Matern12 Kernel GP) accuracy: 0.9191\n",
      "Saved to file, emptying data container\n",
      "Epsilon = 0.125\n",
      "CNN classifier accuracy:  0.8682\n",
      "SVM classifier accuracy:  0.8718\n",
      "Initialized Poly Kernel GP\n",
      "Loading GP model from file ../models/gp/Poly Kernel GP_model.npy\n"
     ]
    },
    {
     "name": "stdout",
     "output_type": "stream",
     "text": [
      "Instantiated Poly Kernel GP\n",
      "Poly Kernel GP accuracy:  0.8739\n",
      "Hybrid model tol=0.1 stronger_crit=True(GP: Poly Kernel GP) accuracy: 0.8736\n",
      "Hybrid model tol=0.2 stronger_crit=True(GP: Poly Kernel GP) accuracy: 0.8737\n",
      "Hybrid model tol=0.30000000000000004 stronger_crit=True(GP: Poly Kernel GP) accuracy: 0.8734\n",
      "Hybrid model tol=0.4 stronger_crit=True(GP: Poly Kernel GP) accuracy: 0.8733\n",
      "Hybrid model tol=0.5 stronger_crit=True(GP: Poly Kernel GP) accuracy: 0.8739\n",
      "Initialized Linear * Matern32 Kernel params2 GP\n",
      "Loading GP model from file ../models/gp/Linear * Matern32 Kernel params2 GP_model.npy\n",
      "Instantiated Linear * Matern32 Kernel params2 GP\n",
      "Linear * Matern32 Kernel params2 GP accuracy:  0.8685\n",
      "Hybrid model tol=0.1 stronger_crit=True(GP: Linear * Matern32 Kernel params2 GP) accuracy: 0.8685\n",
      "Hybrid model tol=0.2 stronger_crit=True(GP: Linear * Matern32 Kernel params2 GP) accuracy: 0.8687\n",
      "Hybrid model tol=0.30000000000000004 stronger_crit=True(GP: Linear * Matern32 Kernel params2 GP) accuracy: 0.8688\n",
      "Hybrid model tol=0.4 stronger_crit=True(GP: Linear * Matern32 Kernel params2 GP) accuracy: 0.8688\n",
      "Hybrid model tol=0.5 stronger_crit=True(GP: Linear * Matern32 Kernel params2 GP) accuracy: 0.8684\n",
      "Initialized Matern12 Kernel GP\n",
      "Loading GP model from file ../models/gp/Matern12 Kernel GP_model.npy\n",
      "Instantiated Matern12 Kernel GP\n",
      "Matern12 Kernel GP accuracy:  0.8723\n",
      "Hybrid model tol=0.1 stronger_crit=True(GP: Matern12 Kernel GP) accuracy: 0.8721\n",
      "Hybrid model tol=0.2 stronger_crit=True(GP: Matern12 Kernel GP) accuracy: 0.8724\n",
      "Hybrid model tol=0.30000000000000004 stronger_crit=True(GP: Matern12 Kernel GP) accuracy: 0.8724\n",
      "Hybrid model tol=0.4 stronger_crit=True(GP: Matern12 Kernel GP) accuracy: 0.8724\n",
      "Hybrid model tol=0.5 stronger_crit=True(GP: Matern12 Kernel GP) accuracy: 0.8723\n",
      "Saved to file, emptying data container\n",
      "Epsilon = 0.15\n",
      "CNN classifier accuracy:  0.8003\n",
      "SVM classifier accuracy:  0.8059\n",
      "Initialized Poly Kernel GP\n",
      "Loading GP model from file ../models/gp/Poly Kernel GP_model.npy\n",
      "Instantiated Poly Kernel GP\n",
      "Poly Kernel GP accuracy:  0.8148\n",
      "Hybrid model tol=0.1 stronger_crit=True(GP: Poly Kernel GP) accuracy: 0.8149\n",
      "Hybrid model tol=0.2 stronger_crit=True(GP: Poly Kernel GP) accuracy: 0.8147\n",
      "Hybrid model tol=0.30000000000000004 stronger_crit=True(GP: Poly Kernel GP) accuracy: 0.8148\n",
      "Hybrid model tol=0.4 stronger_crit=True(GP: Poly Kernel GP) accuracy: 0.8155\n",
      "Hybrid model tol=0.5 stronger_crit=True(GP: Poly Kernel GP) accuracy: 0.8151\n",
      "Initialized Linear * Matern32 Kernel params2 GP\n",
      "Loading GP model from file ../models/gp/Linear * Matern32 Kernel params2 GP_model.npy\n",
      "Instantiated Linear * Matern32 Kernel params2 GP\n",
      "Linear * Matern32 Kernel params2 GP accuracy:  0.8022\n",
      "Hybrid model tol=0.1 stronger_crit=True(GP: Linear * Matern32 Kernel params2 GP) accuracy: 0.8026\n",
      "Hybrid model tol=0.2 stronger_crit=True(GP: Linear * Matern32 Kernel params2 GP) accuracy: 0.8023\n",
      "Hybrid model tol=0.30000000000000004 stronger_crit=True(GP: Linear * Matern32 Kernel params2 GP) accuracy: 0.8027\n",
      "Hybrid model tol=0.4 stronger_crit=True(GP: Linear * Matern32 Kernel params2 GP) accuracy: 0.8027\n",
      "Hybrid model tol=0.5 stronger_crit=True(GP: Linear * Matern32 Kernel params2 GP) accuracy: 0.8027\n",
      "Initialized Matern12 Kernel GP\n",
      "Loading GP model from file ../models/gp/Matern12 Kernel GP_model.npy\n",
      "Instantiated Matern12 Kernel GP\n",
      "Matern12 Kernel GP accuracy:  0.8081\n",
      "Hybrid model tol=0.1 stronger_crit=True(GP: Matern12 Kernel GP) accuracy: 0.8079\n",
      "Hybrid model tol=0.2 stronger_crit=True(GP: Matern12 Kernel GP) accuracy: 0.808\n",
      "Hybrid model tol=0.30000000000000004 stronger_crit=True(GP: Matern12 Kernel GP) accuracy: 0.8079\n",
      "Hybrid model tol=0.4 stronger_crit=True(GP: Matern12 Kernel GP) accuracy: 0.8078\n",
      "Hybrid model tol=0.5 stronger_crit=True(GP: Matern12 Kernel GP) accuracy: 0.808\n",
      "Saved to file, emptying data container\n",
      "Epsilon = 0.17500000000000002\n",
      "CNN classifier accuracy:  0.7164\n",
      "SVM classifier accuracy:  0.7195\n",
      "Initialized Poly Kernel GP\n",
      "Loading GP model from file ../models/gp/Poly Kernel GP_model.npy\n",
      "Instantiated Poly Kernel GP\n",
      "Poly Kernel GP accuracy:  0.7426\n",
      "Hybrid model tol=0.1 stronger_crit=True(GP: Poly Kernel GP) accuracy: 0.7425\n",
      "Hybrid model tol=0.2 stronger_crit=True(GP: Poly Kernel GP) accuracy: 0.7428\n",
      "Hybrid model tol=0.30000000000000004 stronger_crit=True(GP: Poly Kernel GP) accuracy: 0.7441\n",
      "Hybrid model tol=0.4 stronger_crit=True(GP: Poly Kernel GP) accuracy: 0.7439\n",
      "Hybrid model tol=0.5 stronger_crit=True(GP: Poly Kernel GP) accuracy: 0.7427\n",
      "Initialized Linear * Matern32 Kernel params2 GP\n",
      "Loading GP model from file ../models/gp/Linear * Matern32 Kernel params2 GP_model.npy\n",
      "Instantiated Linear * Matern32 Kernel params2 GP\n",
      "Linear * Matern32 Kernel params2 GP accuracy:  0.7193\n",
      "Hybrid model tol=0.1 stronger_crit=True(GP: Linear * Matern32 Kernel params2 GP) accuracy: 0.7196\n",
      "Hybrid model tol=0.2 stronger_crit=True(GP: Linear * Matern32 Kernel params2 GP) accuracy: 0.7193\n",
      "Hybrid model tol=0.30000000000000004 stronger_crit=True(GP: Linear * Matern32 Kernel params2 GP) accuracy: 0.7193\n",
      "Hybrid model tol=0.4 stronger_crit=True(GP: Linear * Matern32 Kernel params2 GP) accuracy: 0.7204\n",
      "Hybrid model tol=0.5 stronger_crit=True(GP: Linear * Matern32 Kernel params2 GP) accuracy: 0.7191\n",
      "Initialized Matern12 Kernel GP\n",
      "Loading GP model from file ../models/gp/Matern12 Kernel GP_model.npy\n",
      "Instantiated Matern12 Kernel GP\n",
      "Matern12 Kernel GP accuracy:  0.7296\n",
      "Hybrid model tol=0.1 stronger_crit=True(GP: Matern12 Kernel GP) accuracy: 0.7296\n",
      "Hybrid model tol=0.2 stronger_crit=True(GP: Matern12 Kernel GP) accuracy: 0.7294\n",
      "Hybrid model tol=0.30000000000000004 stronger_crit=True(GP: Matern12 Kernel GP) accuracy: 0.7294\n",
      "Hybrid model tol=0.4 stronger_crit=True(GP: Matern12 Kernel GP) accuracy: 0.7284\n",
      "Hybrid model tol=0.5 stronger_crit=True(GP: Matern12 Kernel GP) accuracy: 0.729\n",
      "Saved to file, emptying data container\n",
      "Epsilon = 0.2\n",
      "CNN classifier accuracy:  0.6216\n",
      "SVM classifier accuracy:  0.6243\n",
      "Initialized Poly Kernel GP\n",
      "Loading GP model from file ../models/gp/Poly Kernel GP_model.npy\n",
      "Instantiated Poly Kernel GP\n",
      "Poly Kernel GP accuracy:  0.6567\n",
      "Hybrid model tol=0.1 stronger_crit=True(GP: Poly Kernel GP) accuracy: 0.6566\n",
      "Hybrid model tol=0.2 stronger_crit=True(GP: Poly Kernel GP) accuracy: 0.6573\n",
      "Hybrid model tol=0.30000000000000004 stronger_crit=True(GP: Poly Kernel GP) accuracy: 0.6566\n",
      "Hybrid model tol=0.4 stronger_crit=True(GP: Poly Kernel GP) accuracy: 0.658\n",
      "Hybrid model tol=0.5 stronger_crit=True(GP: Poly Kernel GP) accuracy: 0.6574\n",
      "Initialized Linear * Matern32 Kernel params2 GP\n",
      "Loading GP model from file ../models/gp/Linear * Matern32 Kernel params2 GP_model.npy\n",
      "Instantiated Linear * Matern32 Kernel params2 GP\n",
      "Linear * Matern32 Kernel params2 GP accuracy:  0.6258\n",
      "Hybrid model tol=0.1 stronger_crit=True(GP: Linear * Matern32 Kernel params2 GP) accuracy: 0.6259\n",
      "Hybrid model tol=0.2 stronger_crit=True(GP: Linear * Matern32 Kernel params2 GP) accuracy: 0.6247\n",
      "Hybrid model tol=0.30000000000000004 stronger_crit=True(GP: Linear * Matern32 Kernel params2 GP) accuracy: 0.6248\n",
      "Hybrid model tol=0.4 stronger_crit=True(GP: Linear * Matern32 Kernel params2 GP) accuracy: 0.6245\n",
      "Hybrid model tol=0.5 stronger_crit=True(GP: Linear * Matern32 Kernel params2 GP) accuracy: 0.6248\n",
      "Initialized Matern12 Kernel GP\n",
      "Loading GP model from file ../models/gp/Matern12 Kernel GP_model.npy\n",
      "Instantiated Matern12 Kernel GP\n",
      "Matern12 Kernel GP accuracy:  0.6414\n",
      "Hybrid model tol=0.1 stronger_crit=True(GP: Matern12 Kernel GP) accuracy: 0.6407\n",
      "Hybrid model tol=0.2 stronger_crit=True(GP: Matern12 Kernel GP) accuracy: 0.6397\n",
      "Hybrid model tol=0.30000000000000004 stronger_crit=True(GP: Matern12 Kernel GP) accuracy: 0.6386\n",
      "Hybrid model tol=0.4 stronger_crit=True(GP: Matern12 Kernel GP) accuracy: 0.6404\n",
      "Hybrid model tol=0.5 stronger_crit=True(GP: Matern12 Kernel GP) accuracy: 0.6397\n",
      "Saved to file, emptying data container\n",
      "Epsilon = 0.225\n",
      "CNN classifier accuracy:  0.5224\n",
      "SVM classifier accuracy:  0.5222\n",
      "Initialized Poly Kernel GP\n",
      "Loading GP model from file ../models/gp/Poly Kernel GP_model.npy\n",
      "Instantiated Poly Kernel GP\n",
      "Poly Kernel GP accuracy:  0.55\n",
      "Hybrid model tol=0.1 stronger_crit=True(GP: Poly Kernel GP) accuracy: 0.5502\n",
      "Hybrid model tol=0.2 stronger_crit=True(GP: Poly Kernel GP) accuracy: 0.5504\n",
      "Hybrid model tol=0.30000000000000004 stronger_crit=True(GP: Poly Kernel GP) accuracy: 0.5491\n"
     ]
    },
    {
     "name": "stdout",
     "output_type": "stream",
     "text": [
      "Hybrid model tol=0.4 stronger_crit=True(GP: Poly Kernel GP) accuracy: 0.5496\n",
      "Hybrid model tol=0.5 stronger_crit=True(GP: Poly Kernel GP) accuracy: 0.5487\n",
      "Initialized Linear * Matern32 Kernel params2 GP\n",
      "Loading GP model from file ../models/gp/Linear * Matern32 Kernel params2 GP_model.npy\n",
      "Instantiated Linear * Matern32 Kernel params2 GP\n",
      "Linear * Matern32 Kernel params2 GP accuracy:  0.5268\n",
      "Hybrid model tol=0.1 stronger_crit=True(GP: Linear * Matern32 Kernel params2 GP) accuracy: 0.5263\n",
      "Hybrid model tol=0.2 stronger_crit=True(GP: Linear * Matern32 Kernel params2 GP) accuracy: 0.5252\n",
      "Hybrid model tol=0.30000000000000004 stronger_crit=True(GP: Linear * Matern32 Kernel params2 GP) accuracy: 0.5251\n",
      "Hybrid model tol=0.4 stronger_crit=True(GP: Linear * Matern32 Kernel params2 GP) accuracy: 0.5232\n",
      "Hybrid model tol=0.5 stronger_crit=True(GP: Linear * Matern32 Kernel params2 GP) accuracy: 0.5253\n",
      "Initialized Matern12 Kernel GP\n",
      "Loading GP model from file ../models/gp/Matern12 Kernel GP_model.npy\n",
      "Instantiated Matern12 Kernel GP\n",
      "Matern12 Kernel GP accuracy:  0.5502\n",
      "Hybrid model tol=0.1 stronger_crit=True(GP: Matern12 Kernel GP) accuracy: 0.5501\n",
      "Hybrid model tol=0.2 stronger_crit=True(GP: Matern12 Kernel GP) accuracy: 0.5487\n",
      "Hybrid model tol=0.30000000000000004 stronger_crit=True(GP: Matern12 Kernel GP) accuracy: 0.5463\n",
      "Hybrid model tol=0.4 stronger_crit=True(GP: Matern12 Kernel GP) accuracy: 0.5462\n",
      "Hybrid model tol=0.5 stronger_crit=True(GP: Matern12 Kernel GP) accuracy: 0.5479\n",
      "Saved to file, emptying data container\n",
      "Epsilon = 0.25\n",
      "CNN classifier accuracy:  0.4184\n",
      "SVM classifier accuracy:  0.4177\n",
      "Initialized Poly Kernel GP\n",
      "Loading GP model from file ../models/gp/Poly Kernel GP_model.npy\n",
      "Instantiated Poly Kernel GP\n",
      "Poly Kernel GP accuracy:  0.4467\n",
      "Hybrid model tol=0.1 stronger_crit=True(GP: Poly Kernel GP) accuracy: 0.4473\n",
      "Hybrid model tol=0.2 stronger_crit=True(GP: Poly Kernel GP) accuracy: 0.4474\n",
      "Hybrid model tol=0.30000000000000004 stronger_crit=True(GP: Poly Kernel GP) accuracy: 0.4473\n",
      "Hybrid model tol=0.4 stronger_crit=True(GP: Poly Kernel GP) accuracy: 0.4454\n",
      "Hybrid model tol=0.5 stronger_crit=True(GP: Poly Kernel GP) accuracy: 0.4452\n",
      "Initialized Linear * Matern32 Kernel params2 GP\n",
      "Loading GP model from file ../models/gp/Linear * Matern32 Kernel params2 GP_model.npy\n",
      "Instantiated Linear * Matern32 Kernel params2 GP\n",
      "Linear * Matern32 Kernel params2 GP accuracy:  0.4187\n",
      "Hybrid model tol=0.1 stronger_crit=True(GP: Linear * Matern32 Kernel params2 GP) accuracy: 0.4187\n",
      "Hybrid model tol=0.2 stronger_crit=True(GP: Linear * Matern32 Kernel params2 GP) accuracy: 0.4185\n",
      "Hybrid model tol=0.30000000000000004 stronger_crit=True(GP: Linear * Matern32 Kernel params2 GP) accuracy: 0.4182\n",
      "Hybrid model tol=0.4 stronger_crit=True(GP: Linear * Matern32 Kernel params2 GP) accuracy: 0.4168\n",
      "Hybrid model tol=0.5 stronger_crit=True(GP: Linear * Matern32 Kernel params2 GP) accuracy: 0.4153\n",
      "Initialized Matern12 Kernel GP\n",
      "Loading GP model from file ../models/gp/Matern12 Kernel GP_model.npy\n",
      "Instantiated Matern12 Kernel GP\n",
      "Matern12 Kernel GP accuracy:  0.4578\n",
      "Hybrid model tol=0.1 stronger_crit=True(GP: Matern12 Kernel GP) accuracy: 0.4571\n",
      "Hybrid model tol=0.2 stronger_crit=True(GP: Matern12 Kernel GP) accuracy: 0.456\n",
      "Hybrid model tol=0.30000000000000004 stronger_crit=True(GP: Matern12 Kernel GP) accuracy: 0.4519\n",
      "Hybrid model tol=0.4 stronger_crit=True(GP: Matern12 Kernel GP) accuracy: 0.4515\n",
      "Hybrid model tol=0.5 stronger_crit=True(GP: Matern12 Kernel GP) accuracy: 0.453\n",
      "Saved to file, emptying data container\n",
      "Epsilon = 0.275\n",
      "CNN classifier accuracy:  0.3152\n",
      "SVM classifier accuracy:  0.3146\n",
      "Initialized Poly Kernel GP\n",
      "Loading GP model from file ../models/gp/Poly Kernel GP_model.npy\n",
      "Instantiated Poly Kernel GP\n",
      "Poly Kernel GP accuracy:  0.3442\n",
      "Hybrid model tol=0.1 stronger_crit=True(GP: Poly Kernel GP) accuracy: 0.3442\n",
      "Hybrid model tol=0.2 stronger_crit=True(GP: Poly Kernel GP) accuracy: 0.3439\n",
      "Hybrid model tol=0.30000000000000004 stronger_crit=True(GP: Poly Kernel GP) accuracy: 0.3437\n",
      "Hybrid model tol=0.4 stronger_crit=True(GP: Poly Kernel GP) accuracy: 0.3439\n",
      "Hybrid model tol=0.5 stronger_crit=True(GP: Poly Kernel GP) accuracy: 0.3438\n",
      "Initialized Linear * Matern32 Kernel params2 GP\n",
      "Loading GP model from file ../models/gp/Linear * Matern32 Kernel params2 GP_model.npy\n",
      "Instantiated Linear * Matern32 Kernel params2 GP\n",
      "Linear * Matern32 Kernel params2 GP accuracy:  0.3158\n",
      "Hybrid model tol=0.1 stronger_crit=True(GP: Linear * Matern32 Kernel params2 GP) accuracy: 0.3158\n",
      "Hybrid model tol=0.2 stronger_crit=True(GP: Linear * Matern32 Kernel params2 GP) accuracy: 0.3154\n",
      "Hybrid model tol=0.30000000000000004 stronger_crit=True(GP: Linear * Matern32 Kernel params2 GP) accuracy: 0.3141\n",
      "Hybrid model tol=0.4 stronger_crit=True(GP: Linear * Matern32 Kernel params2 GP) accuracy: 0.3135\n",
      "Hybrid model tol=0.5 stronger_crit=True(GP: Linear * Matern32 Kernel params2 GP) accuracy: 0.3138\n",
      "Initialized Matern12 Kernel GP\n",
      "Loading GP model from file ../models/gp/Matern12 Kernel GP_model.npy\n",
      "Instantiated Matern12 Kernel GP\n",
      "Matern12 Kernel GP accuracy:  0.3679\n",
      "Hybrid model tol=0.1 stronger_crit=True(GP: Matern12 Kernel GP) accuracy: 0.3666\n",
      "Hybrid model tol=0.2 stronger_crit=True(GP: Matern12 Kernel GP) accuracy: 0.3616\n",
      "Hybrid model tol=0.30000000000000004 stronger_crit=True(GP: Matern12 Kernel GP) accuracy: 0.3578\n",
      "Hybrid model tol=0.4 stronger_crit=True(GP: Matern12 Kernel GP) accuracy: 0.3602\n",
      "Hybrid model tol=0.5 stronger_crit=True(GP: Matern12 Kernel GP) accuracy: 0.3609\n",
      "Saved to file, emptying data container\n",
      "Epsilon = 0.30000000000000004\n",
      "CNN classifier accuracy:  0.2332\n",
      "SVM classifier accuracy:  0.2322\n",
      "Initialized Poly Kernel GP\n",
      "Loading GP model from file ../models/gp/Poly Kernel GP_model.npy\n",
      "Instantiated Poly Kernel GP\n",
      "Poly Kernel GP accuracy:  0.2624\n",
      "Hybrid model tol=0.1 stronger_crit=True(GP: Poly Kernel GP) accuracy: 0.2624\n",
      "Hybrid model tol=0.2 stronger_crit=True(GP: Poly Kernel GP) accuracy: 0.2613\n",
      "Hybrid model tol=0.30000000000000004 stronger_crit=True(GP: Poly Kernel GP) accuracy: 0.2611\n",
      "Hybrid model tol=0.4 stronger_crit=True(GP: Poly Kernel GP) accuracy: 0.2611\n",
      "Hybrid model tol=0.5 stronger_crit=True(GP: Poly Kernel GP) accuracy: 0.262\n",
      "Initialized Linear * Matern32 Kernel params2 GP\n",
      "Loading GP model from file ../models/gp/Linear * Matern32 Kernel params2 GP_model.npy\n",
      "Instantiated Linear * Matern32 Kernel params2 GP\n",
      "Linear * Matern32 Kernel params2 GP accuracy:  0.2377\n",
      "Hybrid model tol=0.1 stronger_crit=True(GP: Linear * Matern32 Kernel params2 GP) accuracy: 0.2378\n",
      "Hybrid model tol=0.2 stronger_crit=True(GP: Linear * Matern32 Kernel params2 GP) accuracy: 0.2376\n",
      "Hybrid model tol=0.30000000000000004 stronger_crit=True(GP: Linear * Matern32 Kernel params2 GP) accuracy: 0.2366\n",
      "Hybrid model tol=0.4 stronger_crit=True(GP: Linear * Matern32 Kernel params2 GP) accuracy: 0.2341\n",
      "Hybrid model tol=0.5 stronger_crit=True(GP: Linear * Matern32 Kernel params2 GP) accuracy: 0.2345\n"
     ]
    },
    {
     "ename": "KeyboardInterrupt",
     "evalue": "",
     "output_type": "error",
     "traceback": [
      "\u001b[0;31m---------------------------------------------------------------------------\u001b[0m",
      "\u001b[0;31mKeyboardInterrupt\u001b[0m                         Traceback (most recent call last)",
      "\u001b[0;32m<ipython-input-10-fae8b9a3bc08>\u001b[0m in \u001b[0;36m<module>\u001b[0;34m()\u001b[0m\n\u001b[1;32m     35\u001b[0m \u001b[0;34m\u001b[0m\u001b[0m\n\u001b[1;32m     36\u001b[0m     \u001b[0;32mfor\u001b[0m \u001b[0mgp_model_getter\u001b[0m \u001b[0;32min\u001b[0m \u001b[0mget_gp_model\u001b[0m\u001b[0;34m:\u001b[0m\u001b[0;34m\u001b[0m\u001b[0m\n\u001b[0;32m---> 37\u001b[0;31m         \u001b[0mgp_model\u001b[0m \u001b[0;34m=\u001b[0m \u001b[0mgp_model_getter\u001b[0m\u001b[0;34m(\u001b[0m\u001b[0;34m)\u001b[0m\u001b[0;34m\u001b[0m\u001b[0m\n\u001b[0m\u001b[1;32m     38\u001b[0m         \u001b[0mprint\u001b[0m\u001b[0;34m(\u001b[0m\u001b[0;34m\"Instantiated\"\u001b[0m\u001b[0;34m,\u001b[0m \u001b[0mgp_model\u001b[0m\u001b[0;34m.\u001b[0m\u001b[0mname\u001b[0m\u001b[0;34m)\u001b[0m\u001b[0;34m\u001b[0m\u001b[0m\n\u001b[1;32m     39\u001b[0m         \u001b[0;31m# Evaluate GP\u001b[0m\u001b[0;34m\u001b[0m\u001b[0;34m\u001b[0m\u001b[0m\n",
      "\u001b[0;32m<ipython-input-7-4a205e4691e0>\u001b[0m in \u001b[0;36m<lambda>\u001b[0;34m()\u001b[0m\n\u001b[1;32m     32\u001b[0m                      \u001b[0mfeat_trainable\u001b[0m\u001b[0;34m=\u001b[0m\u001b[0;32mTrue\u001b[0m\u001b[0;34m,\u001b[0m\u001b[0;34m\u001b[0m\u001b[0m\n\u001b[1;32m     33\u001b[0m                      \u001b[0mname\u001b[0m\u001b[0;34m=\u001b[0m\u001b[0;34m\"Matern12 Kernel GP\"\u001b[0m\u001b[0;34m,\u001b[0m\u001b[0;34m\u001b[0m\u001b[0m\n\u001b[0;32m---> 34\u001b[0;31m                      retrain=False),\n\u001b[0m\u001b[1;32m     35\u001b[0m \u001b[0;34m\u001b[0m\u001b[0m\n\u001b[1;32m     36\u001b[0m \u001b[0;34m\u001b[0m\u001b[0m\n",
      "\u001b[0;32m/local/scratch/js2173/venv/pml/CNN_GP_MNIST/src/gp_svgp.py\u001b[0m in \u001b[0;36m__init__\u001b[0;34m(self, nb_feats, nb_classes, xs_train, ys_train, kernel, whitevar, latent_split, whiten, q_diag, minibatch, whitevar_trainable, feat_trainable, name, save_dir, retrain)\u001b[0m\n\u001b[1;32m     41\u001b[0m \u001b[0;34m\u001b[0m\u001b[0m\n\u001b[1;32m     42\u001b[0m         \u001b[0;32mif\u001b[0m \u001b[0mtype\u001b[0m\u001b[0;34m(\u001b[0m\u001b[0mkernel\u001b[0m\u001b[0;34m)\u001b[0m \u001b[0;34m==\u001b[0m \u001b[0mlist\u001b[0m\u001b[0;34m:\u001b[0m\u001b[0;34m\u001b[0m\u001b[0m\n\u001b[0;32m---> 43\u001b[0;31m             \u001b[0mkern\u001b[0m \u001b[0;34m=\u001b[0m \u001b[0mkernel\u001b[0m\u001b[0;34m[\u001b[0m\u001b[0;36m0\u001b[0m\u001b[0;34m]\u001b[0m\u001b[0;34m(\u001b[0m\u001b[0minput_dim\u001b[0m\u001b[0;34m=\u001b[0m\u001b[0mnb_feats\u001b[0m\u001b[0;34m)\u001b[0m\u001b[0;34m\u001b[0m\u001b[0m\n\u001b[0m\u001b[1;32m     44\u001b[0m             \u001b[0;32mfor\u001b[0m \u001b[0mk\u001b[0m \u001b[0;32min\u001b[0m \u001b[0mkernel\u001b[0m\u001b[0;34m[\u001b[0m\u001b[0;36m1\u001b[0m\u001b[0;34m:\u001b[0m\u001b[0;34m]\u001b[0m\u001b[0;34m:\u001b[0m\u001b[0;34m\u001b[0m\u001b[0m\n\u001b[1;32m     45\u001b[0m                 \u001b[0mkern\u001b[0m \u001b[0;34m=\u001b[0m \u001b[0mkern\u001b[0m \u001b[0;34m*\u001b[0m \u001b[0mk\u001b[0m\u001b[0;34m(\u001b[0m\u001b[0minput_dim\u001b[0m\u001b[0;34m=\u001b[0m\u001b[0mnb_feats\u001b[0m\u001b[0;34m)\u001b[0m\u001b[0;34m\u001b[0m\u001b[0m\n",
      "\u001b[0;32m/local/scratch/js2173/venv/lib/python3.5/site-packages/gpflow/core/compilable.py\u001b[0m in \u001b[0;36m__init__\u001b[0;34m(self, *args, **kwargs)\u001b[0m\n\u001b[1;32m     89\u001b[0m             \u001b[0;32mif\u001b[0m \u001b[0mautobuild_on\u001b[0m \u001b[0;32mand\u001b[0m \u001b[0mglobal_autobuild_on\u001b[0m\u001b[0;34m:\u001b[0m\u001b[0;34m\u001b[0m\u001b[0m\n\u001b[1;32m     90\u001b[0m                 \u001b[0mself\u001b[0m\u001b[0;34m.\u001b[0m\u001b[0mbuild\u001b[0m\u001b[0;34m(\u001b[0m\u001b[0;34m)\u001b[0m\u001b[0;34m\u001b[0m\u001b[0m\n\u001b[0;32m---> 91\u001b[0;31m                 \u001b[0mself\u001b[0m\u001b[0;34m.\u001b[0m\u001b[0minitialize\u001b[0m\u001b[0;34m(\u001b[0m\u001b[0mforce\u001b[0m\u001b[0;34m=\u001b[0m\u001b[0;32mTrue\u001b[0m\u001b[0;34m)\u001b[0m\u001b[0;34m\u001b[0m\u001b[0m\n\u001b[0m\u001b[1;32m     92\u001b[0m         \u001b[0msetattr\u001b[0m\u001b[0;34m(\u001b[0m\u001b[0mnew_cls\u001b[0m\u001b[0;34m,\u001b[0m \u001b[0;34m'__init__'\u001b[0m\u001b[0;34m,\u001b[0m \u001b[0m__init__\u001b[0m\u001b[0;34m)\u001b[0m\u001b[0;34m\u001b[0m\u001b[0m\n\u001b[1;32m     93\u001b[0m         \u001b[0;32mreturn\u001b[0m \u001b[0mnew_cls\u001b[0m\u001b[0;34m\u001b[0m\u001b[0m\n",
      "\u001b[0;32m/local/scratch/js2173/venv/lib/python3.5/site-packages/gpflow/core/node.py\u001b[0m in \u001b[0;36minitialize\u001b[0;34m(self, session, force)\u001b[0m\n\u001b[1;32m     82\u001b[0m                 \u001b[0msession\u001b[0m\u001b[0;34m=\u001b[0m\u001b[0msession\u001b[0m\u001b[0;34m,\u001b[0m\u001b[0;34m\u001b[0m\u001b[0m\n\u001b[1;32m     83\u001b[0m                 \u001b[0mforce\u001b[0m\u001b[0;34m=\u001b[0m\u001b[0mforce\u001b[0m\u001b[0;34m,\u001b[0m\u001b[0;34m\u001b[0m\u001b[0m\n\u001b[0;32m---> 84\u001b[0;31m                 feed_dict=self.initializable_feeds)\n\u001b[0m\u001b[1;32m     85\u001b[0m \u001b[0;34m\u001b[0m\u001b[0m\n\u001b[1;32m     86\u001b[0m     \u001b[0;32mdef\u001b[0m \u001b[0mclear\u001b[0m\u001b[0;34m(\u001b[0m\u001b[0mself\u001b[0m\u001b[0;34m)\u001b[0m\u001b[0;34m:\u001b[0m\u001b[0;34m\u001b[0m\u001b[0m\n",
      "\u001b[0;32m/local/scratch/js2173/venv/lib/python3.5/site-packages/gpflow/misc.py\u001b[0m in \u001b[0;36minitialize_variables\u001b[0;34m(variables, session, force, **run_kwargs)\u001b[0m\n\u001b[1;32m    174\u001b[0m             \u001b[0;32mreturn\u001b[0m\u001b[0;34m\u001b[0m\u001b[0m\n\u001b[1;32m    175\u001b[0m         \u001b[0minitializer\u001b[0m \u001b[0;34m=\u001b[0m \u001b[0mtf\u001b[0m\u001b[0;34m.\u001b[0m\u001b[0mvariables_initializer\u001b[0m\u001b[0;34m(\u001b[0m\u001b[0mvars_for_init\u001b[0m\u001b[0;34m)\u001b[0m\u001b[0;34m\u001b[0m\u001b[0m\n\u001b[0;32m--> 176\u001b[0;31m     \u001b[0msession\u001b[0m\u001b[0;34m.\u001b[0m\u001b[0mrun\u001b[0m\u001b[0;34m(\u001b[0m\u001b[0minitializer\u001b[0m\u001b[0;34m,\u001b[0m \u001b[0;34m**\u001b[0m\u001b[0mrun_kwargs\u001b[0m\u001b[0;34m)\u001b[0m\u001b[0;34m\u001b[0m\u001b[0m\n\u001b[0m\u001b[1;32m    177\u001b[0m \u001b[0;34m\u001b[0m\u001b[0m\n\u001b[1;32m    178\u001b[0m \u001b[0;34m\u001b[0m\u001b[0m\n",
      "\u001b[0;32m/usr/local/lib/python3.5/dist-packages/tensorflow/python/client/session.py\u001b[0m in \u001b[0;36mrun\u001b[0;34m(self, fetches, feed_dict, options, run_metadata)\u001b[0m\n\u001b[1;32m    887\u001b[0m     \u001b[0;32mtry\u001b[0m\u001b[0;34m:\u001b[0m\u001b[0;34m\u001b[0m\u001b[0m\n\u001b[1;32m    888\u001b[0m       result = self._run(None, fetches, feed_dict, options_ptr,\n\u001b[0;32m--> 889\u001b[0;31m                          run_metadata_ptr)\n\u001b[0m\u001b[1;32m    890\u001b[0m       \u001b[0;32mif\u001b[0m \u001b[0mrun_metadata\u001b[0m\u001b[0;34m:\u001b[0m\u001b[0;34m\u001b[0m\u001b[0m\n\u001b[1;32m    891\u001b[0m         \u001b[0mproto_data\u001b[0m \u001b[0;34m=\u001b[0m \u001b[0mtf_session\u001b[0m\u001b[0;34m.\u001b[0m\u001b[0mTF_GetBuffer\u001b[0m\u001b[0;34m(\u001b[0m\u001b[0mrun_metadata_ptr\u001b[0m\u001b[0;34m)\u001b[0m\u001b[0;34m\u001b[0m\u001b[0m\n",
      "\u001b[0;32m/usr/local/lib/python3.5/dist-packages/tensorflow/python/client/session.py\u001b[0m in \u001b[0;36m_run\u001b[0;34m(self, handle, fetches, feed_dict, options, run_metadata)\u001b[0m\n\u001b[1;32m   1118\u001b[0m     \u001b[0;32mif\u001b[0m \u001b[0mfinal_fetches\u001b[0m \u001b[0;32mor\u001b[0m \u001b[0mfinal_targets\u001b[0m \u001b[0;32mor\u001b[0m \u001b[0;34m(\u001b[0m\u001b[0mhandle\u001b[0m \u001b[0;32mand\u001b[0m \u001b[0mfeed_dict_tensor\u001b[0m\u001b[0;34m)\u001b[0m\u001b[0;34m:\u001b[0m\u001b[0;34m\u001b[0m\u001b[0m\n\u001b[1;32m   1119\u001b[0m       results = self._do_run(handle, final_targets, final_fetches,\n\u001b[0;32m-> 1120\u001b[0;31m                              feed_dict_tensor, options, run_metadata)\n\u001b[0m\u001b[1;32m   1121\u001b[0m     \u001b[0;32melse\u001b[0m\u001b[0;34m:\u001b[0m\u001b[0;34m\u001b[0m\u001b[0m\n\u001b[1;32m   1122\u001b[0m       \u001b[0mresults\u001b[0m \u001b[0;34m=\u001b[0m \u001b[0;34m[\u001b[0m\u001b[0;34m]\u001b[0m\u001b[0;34m\u001b[0m\u001b[0m\n",
      "\u001b[0;32m/usr/local/lib/python3.5/dist-packages/tensorflow/python/client/session.py\u001b[0m in \u001b[0;36m_do_run\u001b[0;34m(self, handle, target_list, fetch_list, feed_dict, options, run_metadata)\u001b[0m\n\u001b[1;32m   1315\u001b[0m     \u001b[0;32mif\u001b[0m \u001b[0mhandle\u001b[0m \u001b[0;32mis\u001b[0m \u001b[0;32mNone\u001b[0m\u001b[0;34m:\u001b[0m\u001b[0;34m\u001b[0m\u001b[0m\n\u001b[1;32m   1316\u001b[0m       return self._do_call(_run_fn, self._session, feeds, fetches, targets,\n\u001b[0;32m-> 1317\u001b[0;31m                            options, run_metadata)\n\u001b[0m\u001b[1;32m   1318\u001b[0m     \u001b[0;32melse\u001b[0m\u001b[0;34m:\u001b[0m\u001b[0;34m\u001b[0m\u001b[0m\n\u001b[1;32m   1319\u001b[0m       \u001b[0;32mreturn\u001b[0m \u001b[0mself\u001b[0m\u001b[0;34m.\u001b[0m\u001b[0m_do_call\u001b[0m\u001b[0;34m(\u001b[0m\u001b[0m_prun_fn\u001b[0m\u001b[0;34m,\u001b[0m \u001b[0mself\u001b[0m\u001b[0;34m.\u001b[0m\u001b[0m_session\u001b[0m\u001b[0;34m,\u001b[0m \u001b[0mhandle\u001b[0m\u001b[0;34m,\u001b[0m \u001b[0mfeeds\u001b[0m\u001b[0;34m,\u001b[0m \u001b[0mfetches\u001b[0m\u001b[0;34m)\u001b[0m\u001b[0;34m\u001b[0m\u001b[0m\n",
      "\u001b[0;32m/usr/local/lib/python3.5/dist-packages/tensorflow/python/client/session.py\u001b[0m in \u001b[0;36m_do_call\u001b[0;34m(self, fn, *args)\u001b[0m\n\u001b[1;32m   1321\u001b[0m   \u001b[0;32mdef\u001b[0m \u001b[0m_do_call\u001b[0m\u001b[0;34m(\u001b[0m\u001b[0mself\u001b[0m\u001b[0;34m,\u001b[0m \u001b[0mfn\u001b[0m\u001b[0;34m,\u001b[0m \u001b[0;34m*\u001b[0m\u001b[0margs\u001b[0m\u001b[0;34m)\u001b[0m\u001b[0;34m:\u001b[0m\u001b[0;34m\u001b[0m\u001b[0m\n\u001b[1;32m   1322\u001b[0m     \u001b[0;32mtry\u001b[0m\u001b[0;34m:\u001b[0m\u001b[0;34m\u001b[0m\u001b[0m\n\u001b[0;32m-> 1323\u001b[0;31m       \u001b[0;32mreturn\u001b[0m \u001b[0mfn\u001b[0m\u001b[0;34m(\u001b[0m\u001b[0;34m*\u001b[0m\u001b[0margs\u001b[0m\u001b[0;34m)\u001b[0m\u001b[0;34m\u001b[0m\u001b[0m\n\u001b[0m\u001b[1;32m   1324\u001b[0m     \u001b[0;32mexcept\u001b[0m \u001b[0merrors\u001b[0m\u001b[0;34m.\u001b[0m\u001b[0mOpError\u001b[0m \u001b[0;32mas\u001b[0m \u001b[0me\u001b[0m\u001b[0;34m:\u001b[0m\u001b[0;34m\u001b[0m\u001b[0m\n\u001b[1;32m   1325\u001b[0m       \u001b[0mmessage\u001b[0m \u001b[0;34m=\u001b[0m \u001b[0mcompat\u001b[0m\u001b[0;34m.\u001b[0m\u001b[0mas_text\u001b[0m\u001b[0;34m(\u001b[0m\u001b[0me\u001b[0m\u001b[0;34m.\u001b[0m\u001b[0mmessage\u001b[0m\u001b[0;34m)\u001b[0m\u001b[0;34m\u001b[0m\u001b[0m\n",
      "\u001b[0;32m/usr/local/lib/python3.5/dist-packages/tensorflow/python/client/session.py\u001b[0m in \u001b[0;36m_run_fn\u001b[0;34m(session, feed_dict, fetch_list, target_list, options, run_metadata)\u001b[0m\n\u001b[1;32m   1291\u001b[0m                 run_metadata):\n\u001b[1;32m   1292\u001b[0m       \u001b[0;31m# Ensure any changes to the graph are reflected in the runtime.\u001b[0m\u001b[0;34m\u001b[0m\u001b[0;34m\u001b[0m\u001b[0m\n\u001b[0;32m-> 1293\u001b[0;31m       \u001b[0mself\u001b[0m\u001b[0;34m.\u001b[0m\u001b[0m_extend_graph\u001b[0m\u001b[0;34m(\u001b[0m\u001b[0;34m)\u001b[0m\u001b[0;34m\u001b[0m\u001b[0m\n\u001b[0m\u001b[1;32m   1294\u001b[0m       \u001b[0;32mwith\u001b[0m \u001b[0merrors\u001b[0m\u001b[0;34m.\u001b[0m\u001b[0mraise_exception_on_not_ok_status\u001b[0m\u001b[0;34m(\u001b[0m\u001b[0;34m)\u001b[0m \u001b[0;32mas\u001b[0m \u001b[0mstatus\u001b[0m\u001b[0;34m:\u001b[0m\u001b[0;34m\u001b[0m\u001b[0m\n\u001b[1;32m   1295\u001b[0m         \u001b[0;32mif\u001b[0m \u001b[0mself\u001b[0m\u001b[0;34m.\u001b[0m\u001b[0m_created_with_new_api\u001b[0m\u001b[0;34m:\u001b[0m\u001b[0;34m\u001b[0m\u001b[0m\n",
      "\u001b[0;32m/usr/local/lib/python3.5/dist-packages/tensorflow/python/client/session.py\u001b[0m in \u001b[0;36m_extend_graph\u001b[0;34m(self)\u001b[0m\n\u001b[1;32m   1352\u001b[0m         \u001b[0;32mwith\u001b[0m \u001b[0merrors\u001b[0m\u001b[0;34m.\u001b[0m\u001b[0mraise_exception_on_not_ok_status\u001b[0m\u001b[0;34m(\u001b[0m\u001b[0;34m)\u001b[0m \u001b[0;32mas\u001b[0m \u001b[0mstatus\u001b[0m\u001b[0;34m:\u001b[0m\u001b[0;34m\u001b[0m\u001b[0m\n\u001b[1;32m   1353\u001b[0m           tf_session.TF_ExtendGraph(\n\u001b[0;32m-> 1354\u001b[0;31m               self._session, graph_def.SerializeToString(), status)\n\u001b[0m\u001b[1;32m   1355\u001b[0m         \u001b[0mself\u001b[0m\u001b[0;34m.\u001b[0m\u001b[0m_opened\u001b[0m \u001b[0;34m=\u001b[0m \u001b[0;32mTrue\u001b[0m\u001b[0;34m\u001b[0m\u001b[0m\n\u001b[1;32m   1356\u001b[0m \u001b[0;34m\u001b[0m\u001b[0m\n",
      "\u001b[0;31mKeyboardInterrupt\u001b[0m: "
     ]
    }
   ],
   "source": [
    "record_in = 'FGSM Adverserial MNIST'\n",
    "#subkey = eps\n",
    "subkey = 'Accuracy'\n",
    "#----- Adverserial Examples -----\n",
    "\n",
    "epsilons = np.arange(0.025, 0.35, 0.025)\n",
    "\n",
    "plt.style.use('default')\n",
    "\n",
    "for eps in epsilons:\n",
    "    adv_cnn_predictions, perturbed = cnn_model.fgsm_attack(mnist_test_imgs, epsilon=eps)\n",
    "    adv_cnn_classes = np.argmax(adv_cnn_predictions, axis=1)\n",
    "    adv_fsgm_features = cnn_model.extract_features(perturbed)\n",
    "    \n",
    "#     plt.imshow(perturbed[0].reshape(28, 28), cmap=plt.get_cmap('gray'))\n",
    "#     plt.savefig('../results/figs/adverserial/fsgm_{}.pdf'.format(eps), bbox_inches='tight')\n",
    "#     plt.show()\n",
    "    \n",
    "    #print(\"Incorrect: \", np.count_nonzero(correct_classes != adv_cnn_classes))\n",
    "    print(\"Epsilon =\", eps)    \n",
    "    \n",
    "    #CNN performance\n",
    "    adv_cnn_correct = adv_cnn_classes == correct_classes    \n",
    "    adv_cnn_accuracy = np.count_nonzero(adv_cnn_correct) / n\n",
    "    print(cnn_model.name, \"accuracy: \", adv_cnn_accuracy)\n",
    "    data.write([record_in, \"epsilon={}\".format(eps), cnn_model.name], adv_cnn_accuracy)\n",
    "    \n",
    "    # Evaluate SVM \n",
    "    adv_svm_preds = svm_model.predict_batch(adv_fsgm_features)\n",
    "    # SVM performance\n",
    "    adv_svm_correct = adv_svm_preds == correct_classes\n",
    "    adv_svm_accuracy = np.count_nonzero(adv_svm_correct) / n\n",
    "    print(svm_model.name, \"accuracy: \", adv_svm_accuracy)\n",
    "    data.write([record_in, \"epsilon={}\".format(eps), subkey, svm_model.name], adv_svm_accuracy)\n",
    "    \n",
    "    for gp_model_getter in get_gp_model:\n",
    "        gp_model = gp_model_getter()\n",
    "        print(\"Instantiated\", gp_model.name)\n",
    "        # Evaluate GP\n",
    "        (adv_mu, adv_var) = gp_model.predict_batch(adv_fsgm_features)\n",
    "        adv_gp_preds = np.argmax(adv_mu, axis=1)\n",
    "        # GP performance\n",
    "        adv_gp_correct = correct_classes == adv_gp_preds\n",
    "        adv_gp_accuracy = np.count_nonzero(adv_gp_correct) / n\n",
    "        print(gp_model.name, \"accuracy: \", adv_gp_accuracy)\n",
    "        data.write([record_in, \"epsilon={0:.3f}\".format(eps), subkey, gp_model.name], adv_gp_accuracy)\n",
    "\n",
    "#         lowcontrast_gp_mu, lowcontrast_gp_var = gp_model.predict_batch(lowcontrast_feats)\n",
    "#         lowcontrast_gp_classes = np.argmax(lowcontrast_gp_mu, axis=1)\n",
    "#         lowcontrast_gp_correct = lowcontrast_correct_classes == lowcontrast_gp_classes\n",
    "#         lowcontrast_gp_accuracy = np.count_nonzero(lowcontrast_gp_correct) / n\n",
    "#         print(gp_model.name, \"accuracy: \", lowcontrast_gp_accuracy)\n",
    "#         data.write([record_in, subkey, gp_model.name], lowcontrast_gp_accuracy)\n",
    "\n",
    "        for hybrid in hybrid_models:\n",
    "            name = hybrid.name + \"(GP: {})\".format(gp_model.name)\n",
    "            hybrid_adv_pred, hybrid_adv_mus, hybrid_adv_vars = hybrid.combine_predictions(adv_cnn_predictions, adv_mu, adv_var)\n",
    "            hybrid_adv_classes = hybrid_adv_pred[:, 1]\n",
    "            hybrid_adv_correct = correct_classes == hybrid_adv_classes\n",
    "            hybrid_adv_accuracy = np.count_nonzero(hybrid_adv_correct) / n\n",
    "            print(name, \"accuracy:\", hybrid_adv_accuracy)\n",
    "            data.write([record_in,  \"epsilon={}\".format(eps), subkey, name], hybrid_adv_accuracy)\n",
    "        del gp_model # Clear TF session, graph (hopefully)\n",
    "    data.dump('_'.join([record_in, \"eps={}\".format(eps), subkey]))\n",
    "    gc.collect()"
   ]
  },
  {
   "cell_type": "code",
   "execution_count": null,
   "metadata": {},
   "outputs": [],
   "source": []
  }
 ],
 "metadata": {
  "kernelspec": {
   "display_name": "py_36_env",
   "language": "python",
   "name": "py_36_env"
  },
  "language_info": {
   "codemirror_mode": {
    "name": "ipython",
    "version": 3
   },
   "file_extension": ".py",
   "mimetype": "text/x-python",
   "name": "python",
   "nbconvert_exporter": "python",
   "pygments_lexer": "ipython3",
   "version": "3.5.2"
  }
 },
 "nbformat": 4,
 "nbformat_minor": 2
}
