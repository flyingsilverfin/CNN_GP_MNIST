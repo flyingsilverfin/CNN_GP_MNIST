{
 "cells": [
  {
   "cell_type": "code",
   "execution_count": 1,
   "metadata": {},
   "outputs": [
    {
     "name": "stderr",
     "output_type": "stream",
     "text": [
      "Using TensorFlow backend.\n"
     ]
    }
   ],
   "source": [
    "%load_ext autoreload \n",
    "%autoreload 2\n",
    "\n",
    "import os\n",
    "import gpflow\n",
    "import numpy as np\n",
    "import scipy.io\n",
    "\n",
    "import matplotlib.pyplot as plt\n",
    "import matplotlib as mpl\n",
    "plt.style.use('ggplot')\n",
    "mpl.rcParams['pgf.rcfonts'] = False\n",
    "\n",
    "os.environ[\"CUDA_VISIBLE_DEVICES\"] = '0'\n",
    "\n",
    "from gp_svgp import GP_MNIST_SVGP\n",
    "from mnist_cnn import CNN_MNIST\n",
    "from mnist_svm import SVM_MNIST\n",
    "from hybrid_mnist import Hybrid_MNIST\n",
    "from mnist_preprocessing import get_mnist_data, preprocess_images\n",
    "\n",
    "#from plotting import Plotter"
   ]
  },
  {
   "cell_type": "code",
   "execution_count": 2,
   "metadata": {},
   "outputs": [],
   "source": [
    "class Data(object):\n",
    "    def __init__(self):\n",
    "        self.data = {}\n",
    "    def write(self, path, value):\n",
    "        ptr = self.data\n",
    "        for key in path[:-1]:\n",
    "            if key not in ptr:\n",
    "                ptr[key] = {}\n",
    "            ptr = ptr[key]\n",
    "        ptr[path[-1]] = value\n",
    "\n",
    "data = Data()"
   ]
  },
  {
   "cell_type": "code",
   "execution_count": 3,
   "metadata": {},
   "outputs": [],
   "source": [
    "# Standard MNIST test data\n",
    "((_, mnist_test_imgs), (ys_train_onehot, ys_test_onehot)) = get_mnist_data()\n",
    "mnist_train_features = np.genfromtxt(\"../data/mnist_train_features.csv\", delimiter=\",\")\n",
    "mnist_test_features = np.genfromtxt(\"../data/mnist_test_features.csv\", delimiter=\",\")\n",
    "\n",
    "ys_train = np.argmax(ys_train_onehot, axis=1)\n",
    "ys_test = np.argmax(ys_test_onehot, axis=1)\n",
    "# easier to remember handle\n",
    "correct_classes = ys_test\n",
    "n = len(ys_test)"
   ]
  },
  {
   "cell_type": "code",
   "execution_count": 4,
   "metadata": {},
   "outputs": [],
   "source": [
    "cnn_model = CNN_MNIST(isolate=True) # isolate sessions"
   ]
  },
  {
   "cell_type": "code",
   "execution_count": 5,
   "metadata": {},
   "outputs": [],
   "source": [
    "svm_model = SVM_MNIST(mnist_train_features, ys_train, nb_classes=10)"
   ]
  },
  {
   "cell_type": "code",
   "execution_count": 6,
   "metadata": {},
   "outputs": [],
   "source": [
    "hybrid_models = []\n",
    "for tol in np.arange(0, 2.0, 0.5):\n",
    "    hybrid_models.append(Hybrid_MNIST(accept_cnn_tolerance = tol))\n",
    "for tol in np.arange(0, 2.0, 0.5):\n",
    "    hybrid_models.append(Hybrid_MNIST(accept_cnn_tolerance = tol, stronger_criterion=True))"
   ]
  },
  {
   "cell_type": "code",
   "execution_count": 7,
   "metadata": {},
   "outputs": [],
   "source": [
    "# instantiate models we want to test\n",
    "# only one at a time here to avoid interference\n",
    "\n",
    "get_gp_model = [lambda: GP_MNIST_SVGP(kernel=gpflow.kernels.Linear, \n",
    "                         whitevar=0.1,\n",
    "                         latent_split=25,\n",
    "                         whiten=True,\n",
    "                         q_diag=True,\n",
    "                         minibatch=8000,\n",
    "                         whitevar_trainable=False,\n",
    "                         feat_trainable=True,\n",
    "                         name=\"Linear Kernel GP\"),\n",
    "                lambda: GP_MNIST_SVGP(kernel=gpflow.kernels.Matern12, \n",
    "                         whitevar=0.1,\n",
    "                         latent_split=25,\n",
    "                         whiten=True,\n",
    "                         q_diag=True,\n",
    "                         minibatch=8000,\n",
    "                         whitevar_trainable=False,\n",
    "                         feat_trainable=True,\n",
    "                         name=\"Matern12 Kernel GP\"),\n",
    "                lambda: GP_MNIST_SVGP(kernel=gpflow.kernels.Matern32, \n",
    "                         whitevar=0.1,\n",
    "                         latent_split=25,\n",
    "                         whiten=True,\n",
    "                         q_diag=True,\n",
    "                         minibatch=8000,\n",
    "                         whitevar_trainable=False,\n",
    "                         feat_trainable=True,\n",
    "                         name=\"Matern32 Kernel GP\"),\n",
    "                lambda: GP_MNIST_SVGP(kernel=gpflow.kernels.Matern32, \n",
    "                         whitevar=0.1,\n",
    "                         latent_split=25,\n",
    "                         whiten=True,\n",
    "                         q_diag=True,\n",
    "                         minibatch=8000,\n",
    "                         whitevar_trainable=False,\n",
    "                         feat_trainable=True,\n",
    "                         name=\"Matern52 Kernel GP\"),\n",
    "                lambda: GP_MNIST_SVGP(kernel=gpflow.kernels.RBF, \n",
    "                         whitevar=0.1,\n",
    "                         latent_split=25,\n",
    "                         whiten=True,\n",
    "                         q_diag=True,\n",
    "                         minibatch=8000,\n",
    "                         whitevar_trainable=False,\n",
    "                         feat_trainable=True,\n",
    "                         name=\"RBF Kernel GP\")\n",
    "               ]\n"
   ]
  },
  {
   "cell_type": "code",
   "execution_count": 8,
   "metadata": {},
   "outputs": [
    {
     "name": "stdout",
     "output_type": "stream",
     "text": [
      "CNN accuracy:  0.9911\n",
      "SVM accuracy:  0.9937\n"
     ]
    }
   ],
   "source": [
    "record_in = 'Standard MNIST'\n",
    "\n",
    "# prediction accuracies\n",
    "subkey = 'accuracy'\n",
    "\n",
    "\n",
    "#CNN\n",
    "mnist_cnn_preds = cnn_model.predict_img_batch(mnist_test_imgs)\n",
    "mnist_cnn_classes = np.argmax(mnist_cnn_preds, axis=1)\n",
    "mnist_cnn_correct = correct_classes == mnist_cnn_classes\n",
    "mnist_cnn_accuracy = np.count_nonzero(mnist_cnn_correct) / n\n",
    "print(\"CNN accuracy: \", mnist_cnn_accuracy)\n",
    "data.write([record_in, subkey, cnn_model.name],mnist_cnn_accuracy)\n",
    "\n",
    "# SVM\n",
    "mnist_svm_classes = svm_model.predict_batch(mnist_test_features)\n",
    "mnist_svm_correct = correct_classes == mnist_svm_classes\n",
    "mnist_svm_accuracy = np.count_nonzero(mnist_svm_correct) / n\n",
    "print(\"SVM accuracy: \", mnist_svm_accuracy)\n",
    "data.write([record_in, subkey, svm_model.name], mnist_svm_accuracy)\n"
   ]
  },
  {
   "cell_type": "code",
   "execution_count": null,
   "metadata": {
    "scrolled": true
   },
   "outputs": [
    {
     "name": "stdout",
     "output_type": "stream",
     "text": [
      "Initialized Linear Kernel GP\n",
      "Training GP from scratch\n"
     ]
    }
   ],
   "source": [
    "# GP\n",
    "for gp_model_getter in get_gp_model:\n",
    "    gp_model = gp_model_getter()\n",
    "    print(\"Instantiated\", gp_model.name)\n",
    "    mnist_gp_mu, mnist_gp_var = gp_model.predict_batch(mnist_test_features)\n",
    "    mnist_gp_classes = np.argmax(mnist_gp_mu, axis=1)\n",
    "    mnist_gp_correct = correct_classes == mnist_gp_classes\n",
    "    mnist_gp_accuracy = np.count_nonzero(mnist_gp_correct) / n\n",
    "    print(gp_model.name, \"accuracy: \", mnist_gp_accuracy)\n",
    "    data.write([record_in, subkey, gp_model.name], mnist_gp_accuracy)\n",
    "\n",
    "    for hybrid in hybrid_models:\n",
    "        name = hybrid.name + \"(GP: {})\".format(gp_model.name)\n",
    "        hybrid_pred, hybrid_mus, hybrid_vars = hybrid.combine_predictions(mnist_cnn_preds, mnist_gp_mu, mnist_gp_var)\n",
    "        hybrid_classes = hybrid_pred[:, 1]\n",
    "        hybrid_correct = correct_classes == hybrid_classes\n",
    "        hybrid_accuracy = np.count_nonzero(hybrid_correct) / n\n",
    "        print(name, \"accuracy:\", hybrid_accuracy)\n",
    "        data.write([record_in, subkey, name], hybrid_accuracy)"
   ]
  },
  {
   "cell_type": "code",
   "execution_count": null,
   "metadata": {},
   "outputs": [],
   "source": [
    "# ---- White Noise + NMNIST ----\n",
    "\n",
    "# Preprocess the N-MNIST data just like standard MNIST\n",
    "nmnist_noisy = scipy.io.loadmat('../data/raw/n-mnist/nmnist-awgn.mat')\n",
    "\n",
    "awgn_x_test = preprocess_images(nmnist_noisy['test_x'])\n",
    "awgn_y_test_onehot = nmnist_noisy['test_y']\n",
    "awgn_y_test = np.argmax(awgn_y_test_onehot, axis=1)\n",
    "awgn_correct_classes = awgn_y_test"
   ]
  },
  {
   "cell_type": "code",
   "execution_count": null,
   "metadata": {},
   "outputs": [],
   "source": [
    "record_in = 'MNIST + AWGN'\n",
    "subkey = 'Accuracy'\n",
    "\n",
    "awgn_feats = cnn_model.extract_features(awgn_x_test)\n",
    "\n",
    "#CNN\n",
    "awgn_cnn_preds = cnn_model.predict_img_batch(awgn_x_test)\n",
    "awgn_cnn_classes = np.argmax(awgn_cnn_preds, axis=1)\n",
    "awgn_cnn_correct = awgn_correct_classes == awgn_cnn_classes\n",
    "awgn_cnn_accuracy = np.count_nonzero(awgn_cnn_correct) / n\n",
    "print(\"CNN accuracy: \", awgn_cnn_accuracy)\n",
    "data.write([record_in, subkey, cnn_model.name], awgn_cnn_accuracy)\n",
    "\n",
    "# SVM\n",
    "awgn_svm_classes = svm_model.predict_batch(awgn_feats)\n",
    "awgn_svm_correct = awgn_correct_classes == awgn_svm_classes\n",
    "awgn_svm_accuracy = np.count_nonzero(awgn_svm_correct) / n\n",
    "print(\"SVM accuracy: \", awgn_svm_accuracy)\n",
    "data.write([record_in, subkey, svm_model.name], awgn_svm_accuracy)"
   ]
  },
  {
   "cell_type": "code",
   "execution_count": null,
   "metadata": {},
   "outputs": [],
   "source": [
    "nmnist_blur = scipy.io.loadmat('../data/raw/n-mnist/nmnist-blur.mat')\n",
    "blur_x_test = preprocess_images(nmnist_blur['test_x'])\n",
    "blur_y_test_onehot = nmnist_blur['test_y']\n",
    "blur_y_test = np.argmax(blur_y_test_onehot, axis=1)\n",
    "blur_correct_classes = blur_y_test\n",
    "\n",
    "blur_feats = cnn_model.extract_features(blur_x_test)"
   ]
  },
  {
   "cell_type": "code",
   "execution_count": null,
   "metadata": {},
   "outputs": [],
   "source": [
    "record_in = 'MNIST + blur'\n",
    "subkey = 'Accuracy'\n",
    "\n",
    "blur_feats = cnn_model.extract_features(blur_x_test)\n",
    "\n",
    "#CNN\n",
    "blur_cnn_preds = cnn_model.predict_img_batch(blur_x_test)\n",
    "blur_cnn_classes = np.argmax(blur_cnn_preds, axis=1)\n",
    "blur_cnn_correct = blur_correct_classes == blur_cnn_classes\n",
    "blur_cnn_accuracy = np.count_nonzero(blur_cnn_correct) / n\n",
    "print(\"CNN accuracy: \", blur_cnn_accuracy)\n",
    "data.write([record_in, subkey, cnn_model.name], blur_cnn_accuracy)\n",
    "\n",
    "# SVM\n",
    "blur_svm_classes = svm_model.predict_batch(blur_feats)\n",
    "blur_svm_correct = blur_correct_classes == blur_svm_classes\n",
    "blur_svm_accuracy = np.count_nonzero(blur_svm_correct) / n\n",
    "print(\"SVM accuracy: \", blur_svm_accuracy)\n",
    "data.write([record_in, subkey, svm_model.name], blur_svm_accuracy)"
   ]
  },
  {
   "cell_type": "code",
   "execution_count": null,
   "metadata": {},
   "outputs": [],
   "source": [
    "nmnist_noisy_lowcontrast = scipy.io.loadmat('../data/raw/n-mnist/nmnist-contrast.mat')\n",
    "record_in = 'Low Contrast MNIST'\n",
    "if record_in not in data:\n",
    "    data[record_in] = {} \n",
    "# noisy\n",
    "subkey = 'Accuracy'\n",
    "if subkey not in data[record_in]:\n",
    "    data[record_in][subkey] = {}\n",
    "    \n",
    "lowcontrast_feats = mnist_cnn.extract_features(nmnist_noisy_lowcontrast)"
   ]
  }
 ],
 "metadata": {
  "kernelspec": {
   "display_name": "py_36_env",
   "language": "python",
   "name": "py_36_env"
  },
  "language_info": {
   "codemirror_mode": {
    "name": "ipython",
    "version": 3
   },
   "file_extension": ".py",
   "mimetype": "text/x-python",
   "name": "python",
   "nbconvert_exporter": "python",
   "pygments_lexer": "ipython3",
   "version": "3.5.2"
  }
 },
 "nbformat": 4,
 "nbformat_minor": 2
}
