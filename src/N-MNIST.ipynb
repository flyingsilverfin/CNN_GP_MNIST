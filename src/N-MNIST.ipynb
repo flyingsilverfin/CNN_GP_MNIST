{
 "cells": [
  {
   "cell_type": "code",
   "execution_count": 1,
   "metadata": {},
   "outputs": [
    {
     "name": "stderr",
     "output_type": "stream",
     "text": [
      "Using TensorFlow backend.\n"
     ]
    }
   ],
   "source": [
    "import gpflow\n",
    "import tensorflow as tf\n",
    "import matplotlib\n",
    "import numpy as np\n",
    "import matplotlib.pyplot as plt\n",
    "import scipy.io\n",
    "plt.style.use('ggplot')\n",
    "%matplotlib inline\n",
    "\n",
    "import os\n",
    "os.environ[\"CUDA_VISIBLE_DEVICES\"] = ''\n",
    "\n",
    "import keras\n",
    "from keras.datasets import mnist\n",
    "from keras import backend as K\n",
    " \n",
    "\n",
    "xs_train_full = np.genfromtxt(\"../data/mnist_train_features.csv\", delimiter=\",\")\n",
    "xs_test_full = np.genfromtxt(\"../data/mnist_test_features.csv\", delimiter=\",\")\n",
    "\n",
    "def get_mnist_classes():\n",
    "    (x_train, y_train), (x_test, y_test) = mnist.load_data()\n",
    "    # convert class vectors to binary class matrices\n",
    "    y_train = keras.utils.to_categorical(y_train, 10)\n",
    "    y_test = keras.utils.to_categorical(y_test, 10)\n",
    "    return ((x_train, x_test), (y_train, y_test))\n",
    "\n",
    "((mnist_train_full, mnist_test_full), (ys_train_full, ys_test_full)) = get_mnist_classes()\n",
    "correct_classes = np.argmax(ys_test_full, axis=1)\n"
   ]
  },
  {
   "cell_type": "code",
   "execution_count": 2,
   "metadata": {},
   "outputs": [
    {
     "name": "stdout",
     "output_type": "stream",
     "text": [
      "Using 128 features, predicting 10 classes\n"
     ]
    }
   ],
   "source": [
    "# fitting entirety of model on base MNIST data\n",
    "\n",
    "num_features = xs_train_full.shape[-1]\n",
    "num_classes = 10\n",
    "print(\"Using\", num_features, \"features, predicting\", num_classes, \"classes\")\n",
    "\n",
    "ys = np.argmax(ys_train_full, axis=1)\n",
    "\n",
    "# Matern12, white var=0.1, ::25, minibatch=8k, kern.white.var.train = False, feature.trainable=True\n",
    "\n",
    "# Matern 32, White var=0.1, ::20, minibatch = 8000, kern.white.variance.trainable = True, feature.trainable = False\n",
    "#   Note: this has interesting properties for AWGN results: hybrid model outperforms both. But in other cases not...\n",
    "# ! Matern 32, White var=0.1, ::20, minibatch = 8000, kern.white.variance.trainable = False(feature.trainable = True)\n",
    "\n",
    "# Matern52, White var=0.1, ::25, minibatch=8000, white trainable=False\n",
    "\n",
    "# Linear, white var=0.1, ::20, minibatch=8k, white trainable =False\n",
    "gp_model = gpflow.models.SVGP(\n",
    "    xs_train_full, ys, kern=gpflow.kernels.RBF(input_dim=num_features) + gpflow.kernels.White(input_dim=num_features, variance=0.1),\n",
    "    likelihood=gpflow.likelihoods.MultiClass(num_classes),\n",
    "    Z=xs_train_full[::25].copy(), \n",
    "    num_latent=num_classes, \n",
    "    whiten=True, \n",
    "    q_diag=True,\n",
    "    minibatch_size=8000)\n",
    "gp_model.kern.white.variance.trainable = False\n",
    "#gp_model.feature.trainable = False"
   ]
  },
  {
   "cell_type": "code",
   "execution_count": 3,
   "metadata": {},
   "outputs": [
    {
     "name": "stdout",
     "output_type": "stream",
     "text": [
      "INFO:tensorflow:Optimization terminated with:\n",
      "  Message: b'CONVERGENCE: REL_REDUCTION_OF_F_<=_FACTR*EPSMCH'\n",
      "  Objective function value: 5722.950698\n",
      "  Number of iterations: 20\n",
      "  Number of functions evaluations: 47\n"
     ]
    }
   ],
   "source": [
    "opt = gpflow.train.ScipyOptimizer()\n",
    "opt.minimize(gp_model)"
   ]
  },
  {
   "cell_type": "code",
   "execution_count": 4,
   "metadata": {},
   "outputs": [
    {
     "name": "stdout",
     "output_type": "stream",
     "text": [
      "Num GP incorrect:  104\n"
     ]
    }
   ],
   "source": [
    "(mu, var) = gp_model.predict_y(xs_test_full)\n",
    "gp_predicted_classes = np.argmax(mu, axis=1)\n",
    "print(\"Num GP incorrect: \", np.count_nonzero(gp_predicted_classes != correct_classes))"
   ]
  },
  {
   "cell_type": "code",
   "execution_count": 5,
   "metadata": {},
   "outputs": [
    {
     "data": {
      "text/html": [
       "<div>\n",
       "<style scoped>\n",
       "    .dataframe tbody tr th:only-of-type {\n",
       "        vertical-align: middle;\n",
       "    }\n",
       "\n",
       "    .dataframe tbody tr th {\n",
       "        vertical-align: top;\n",
       "    }\n",
       "\n",
       "    .dataframe thead th {\n",
       "        text-align: right;\n",
       "    }\n",
       "</style>\n",
       "<table border=\"1\" class=\"dataframe\">\n",
       "  <thead>\n",
       "    <tr style=\"text-align: right;\">\n",
       "      <th></th>\n",
       "      <th>class</th>\n",
       "      <th>prior</th>\n",
       "      <th>transform</th>\n",
       "      <th>trainable</th>\n",
       "      <th>shape</th>\n",
       "      <th>fixed_shape</th>\n",
       "      <th>value</th>\n",
       "    </tr>\n",
       "  </thead>\n",
       "  <tbody>\n",
       "    <tr>\n",
       "      <th>SVGP/q_sqrt</th>\n",
       "      <td>Parameter</td>\n",
       "      <td>None</td>\n",
       "      <td>+ve</td>\n",
       "      <td>True</td>\n",
       "      <td>(2400, 10)</td>\n",
       "      <td>True</td>\n",
       "      <td>[[0.496067174739, 0.429475304097, 0.2779734670...</td>\n",
       "    </tr>\n",
       "    <tr>\n",
       "      <th>SVGP/q_mu</th>\n",
       "      <td>Parameter</td>\n",
       "      <td>None</td>\n",
       "      <td>(none)</td>\n",
       "      <td>True</td>\n",
       "      <td>(2400, 10)</td>\n",
       "      <td>True</td>\n",
       "      <td>[[0.366569889355, -1.20573694438, -6.367305516...</td>\n",
       "    </tr>\n",
       "    <tr>\n",
       "      <th>SVGP/feature/Z</th>\n",
       "      <td>Parameter</td>\n",
       "      <td>None</td>\n",
       "      <td>(none)</td>\n",
       "      <td>True</td>\n",
       "      <td>(2400, 128)</td>\n",
       "      <td>True</td>\n",
       "      <td>[[3.64288909251, -0.401601349766, 2.7696909358...</td>\n",
       "    </tr>\n",
       "    <tr>\n",
       "      <th>SVGP/kern/rbf/variance</th>\n",
       "      <td>Parameter</td>\n",
       "      <td>None</td>\n",
       "      <td>+ve</td>\n",
       "      <td>True</td>\n",
       "      <td>()</td>\n",
       "      <td>True</td>\n",
       "      <td>1.2923778475741363</td>\n",
       "    </tr>\n",
       "    <tr>\n",
       "      <th>SVGP/kern/rbf/lengthscales</th>\n",
       "      <td>Parameter</td>\n",
       "      <td>None</td>\n",
       "      <td>+ve</td>\n",
       "      <td>True</td>\n",
       "      <td>()</td>\n",
       "      <td>True</td>\n",
       "      <td>12.089961064786634</td>\n",
       "    </tr>\n",
       "    <tr>\n",
       "      <th>SVGP/kern/white/variance</th>\n",
       "      <td>Parameter</td>\n",
       "      <td>None</td>\n",
       "      <td>+ve</td>\n",
       "      <td>False</td>\n",
       "      <td>()</td>\n",
       "      <td>True</td>\n",
       "      <td>0.1</td>\n",
       "    </tr>\n",
       "  </tbody>\n",
       "</table>\n",
       "</div>"
      ],
      "text/plain": [
       "                                class prior transform  trainable        shape  \\\n",
       "SVGP/q_sqrt                 Parameter  None       +ve       True   (2400, 10)   \n",
       "SVGP/q_mu                   Parameter  None    (none)       True   (2400, 10)   \n",
       "SVGP/feature/Z              Parameter  None    (none)       True  (2400, 128)   \n",
       "SVGP/kern/rbf/variance      Parameter  None       +ve       True           ()   \n",
       "SVGP/kern/rbf/lengthscales  Parameter  None       +ve       True           ()   \n",
       "SVGP/kern/white/variance    Parameter  None       +ve      False           ()   \n",
       "\n",
       "                            fixed_shape  \\\n",
       "SVGP/q_sqrt                        True   \n",
       "SVGP/q_mu                          True   \n",
       "SVGP/feature/Z                     True   \n",
       "SVGP/kern/rbf/variance             True   \n",
       "SVGP/kern/rbf/lengthscales         True   \n",
       "SVGP/kern/white/variance           True   \n",
       "\n",
       "                                                                        value  \n",
       "SVGP/q_sqrt                 [[0.496067174739, 0.429475304097, 0.2779734670...  \n",
       "SVGP/q_mu                   [[0.366569889355, -1.20573694438, -6.367305516...  \n",
       "SVGP/feature/Z              [[3.64288909251, -0.401601349766, 2.7696909358...  \n",
       "SVGP/kern/rbf/variance                                     1.2923778475741363  \n",
       "SVGP/kern/rbf/lengthscales                                 12.089961064786634  \n",
       "SVGP/kern/white/variance                                                  0.1  "
      ]
     },
     "execution_count": 5,
     "metadata": {},
     "output_type": "execute_result"
    }
   ],
   "source": [
    "gp_model.as_pandas_table()"
   ]
  },
  {
   "cell_type": "code",
   "execution_count": 6,
   "metadata": {},
   "outputs": [
    {
     "ename": "InvalidArgumentError",
     "evalue": "You must feed a value for placeholder tensor '0/RBF/variance/initial_unconstrained_value' with dtype double\n\t [[Node: 0/RBF/variance/initial_unconstrained_value = Placeholder[dtype=DT_DOUBLE, shape=[], _device=\"/job:localhost/replica:0/task:0/device:GPU:0\"]()]]\n\nCaused by op '0/RBF/variance/initial_unconstrained_value', defined at:\n  File \"/usr/lib/python3.5/runpy.py\", line 184, in _run_module_as_main\n    \"__main__\", mod_spec)\n  File \"/usr/lib/python3.5/runpy.py\", line 85, in _run_code\n    exec(code, run_globals)\n  File \"/usr/local/lib/python3.5/dist-packages/ipykernel_launcher.py\", line 16, in <module>\n    app.launch_new_instance()\n  File \"/usr/local/lib/python3.5/dist-packages/traitlets/config/application.py\", line 658, in launch_instance\n    app.start()\n  File \"/usr/local/lib/python3.5/dist-packages/ipykernel/kernelapp.py\", line 477, in start\n    ioloop.IOLoop.instance().start()\n  File \"/usr/local/lib/python3.5/dist-packages/zmq/eventloop/ioloop.py\", line 177, in start\n    super(ZMQIOLoop, self).start()\n  File \"/usr/local/lib/python3.5/dist-packages/tornado/ioloop.py\", line 888, in start\n    handler_func(fd_obj, events)\n  File \"/usr/local/lib/python3.5/dist-packages/tornado/stack_context.py\", line 277, in null_wrapper\n    return fn(*args, **kwargs)\n  File \"/usr/local/lib/python3.5/dist-packages/zmq/eventloop/zmqstream.py\", line 440, in _handle_events\n    self._handle_recv()\n  File \"/usr/local/lib/python3.5/dist-packages/zmq/eventloop/zmqstream.py\", line 472, in _handle_recv\n    self._run_callback(callback, msg)\n  File \"/usr/local/lib/python3.5/dist-packages/zmq/eventloop/zmqstream.py\", line 414, in _run_callback\n    callback(*args, **kwargs)\n  File \"/usr/local/lib/python3.5/dist-packages/tornado/stack_context.py\", line 277, in null_wrapper\n    return fn(*args, **kwargs)\n  File \"/usr/local/lib/python3.5/dist-packages/ipykernel/kernelbase.py\", line 283, in dispatcher\n    return self.dispatch_shell(stream, msg)\n  File \"/usr/local/lib/python3.5/dist-packages/ipykernel/kernelbase.py\", line 235, in dispatch_shell\n    handler(stream, idents, msg)\n  File \"/usr/local/lib/python3.5/dist-packages/ipykernel/kernelbase.py\", line 399, in execute_request\n    user_expressions, allow_stdin)\n  File \"/usr/local/lib/python3.5/dist-packages/ipykernel/ipkernel.py\", line 196, in do_execute\n    res = shell.run_cell(code, store_history=store_history, silent=silent)\n  File \"/usr/local/lib/python3.5/dist-packages/ipykernel/zmqshell.py\", line 533, in run_cell\n    return super(ZMQInteractiveShell, self).run_cell(*args, **kwargs)\n  File \"/usr/local/lib/python3.5/dist-packages/IPython/core/interactiveshell.py\", line 2728, in run_cell\n    interactivity=interactivity, compiler=compiler, result=result)\n  File \"/usr/local/lib/python3.5/dist-packages/IPython/core/interactiveshell.py\", line 2850, in run_ast_nodes\n    if self.run_code(code, result):\n  File \"/usr/local/lib/python3.5/dist-packages/IPython/core/interactiveshell.py\", line 2910, in run_code\n    exec(code_obj, self.user_global_ns, self.user_ns)\n  File \"<ipython-input-2-d9e24de7c50f>\", line 19, in <module>\n    xs_train_full, ys, kern=gpflow.kernels.RBF(input_dim=num_features) + gpflow.kernels.White(input_dim=num_features, variance=0.1),\n  File \"/local/scratch/js2173/venv/lib/python3.5/site-packages/gpflow/core/compilable.py\", line 90, in __init__\n    self.build()\n  File \"/local/scratch/js2173/venv/lib/python3.5/site-packages/gpflow/core/node.py\", line 172, in build\n    self._build()\n  File \"/local/scratch/js2173/venv/lib/python3.5/site-packages/gpflow/params/parameterized.py\", line 284, in _build\n    param.build()\n  File \"/local/scratch/js2173/venv/lib/python3.5/site-packages/gpflow/core/node.py\", line 172, in build\n    self._build()\n  File \"/local/scratch/js2173/venv/lib/python3.5/site-packages/gpflow/params/parameter.py\", line 345, in _build\n    unconstrained = self._build_parameter()\n  File \"/local/scratch/js2173/venv/lib/python3.5/site-packages/gpflow/params/parameter.py\", line 367, in _build_parameter\n    init = tf.placeholder(self.dtype, shape=shape, name='initial_unconstrained_value')\n  File \"/usr/local/lib/python3.5/dist-packages/tensorflow/python/ops/array_ops.py\", line 1599, in placeholder\n    return gen_array_ops._placeholder(dtype=dtype, shape=shape, name=name)\n  File \"/usr/local/lib/python3.5/dist-packages/tensorflow/python/ops/gen_array_ops.py\", line 3091, in _placeholder\n    \"Placeholder\", dtype=dtype, shape=shape, name=name)\n  File \"/usr/local/lib/python3.5/dist-packages/tensorflow/python/framework/op_def_library.py\", line 787, in _apply_op_helper\n    op_def=op_def)\n  File \"/usr/local/lib/python3.5/dist-packages/tensorflow/python/framework/ops.py\", line 2956, in create_op\n    op_def=op_def)\n  File \"/usr/local/lib/python3.5/dist-packages/tensorflow/python/framework/ops.py\", line 1470, in __init__\n    self._traceback = self._graph._extract_stack()  # pylint: disable=protected-access\n\nInvalidArgumentError (see above for traceback): You must feed a value for placeholder tensor '0/RBF/variance/initial_unconstrained_value' with dtype double\n\t [[Node: 0/RBF/variance/initial_unconstrained_value = Placeholder[dtype=DT_DOUBLE, shape=[], _device=\"/job:localhost/replica:0/task:0/device:GPU:0\"]()]]\n",
     "output_type": "error",
     "traceback": [
      "\u001b[0;31m----------------------------------------------------------------------\u001b[0m",
      "\u001b[0;31mInvalidArgumentError\u001b[0m                 Traceback (most recent call last)",
      "\u001b[0;32m/usr/local/lib/python3.5/dist-packages/tensorflow/python/client/session.py\u001b[0m in \u001b[0;36m_do_call\u001b[0;34m(self, fn, *args)\u001b[0m\n\u001b[1;32m   1322\u001b[0m     \u001b[0;32mtry\u001b[0m\u001b[0;34m:\u001b[0m\u001b[0;34m\u001b[0m\u001b[0m\n\u001b[0;32m-> 1323\u001b[0;31m       \u001b[0;32mreturn\u001b[0m \u001b[0mfn\u001b[0m\u001b[0;34m(\u001b[0m\u001b[0;34m*\u001b[0m\u001b[0margs\u001b[0m\u001b[0;34m)\u001b[0m\u001b[0;34m\u001b[0m\u001b[0m\n\u001b[0m\u001b[1;32m   1324\u001b[0m     \u001b[0;32mexcept\u001b[0m \u001b[0merrors\u001b[0m\u001b[0;34m.\u001b[0m\u001b[0mOpError\u001b[0m \u001b[0;32mas\u001b[0m \u001b[0me\u001b[0m\u001b[0;34m:\u001b[0m\u001b[0;34m\u001b[0m\u001b[0m\n",
      "\u001b[0;32m/usr/local/lib/python3.5/dist-packages/tensorflow/python/client/session.py\u001b[0m in \u001b[0;36m_run_fn\u001b[0;34m(session, feed_dict, fetch_list, target_list, options, run_metadata)\u001b[0m\n\u001b[1;32m   1301\u001b[0m                                    \u001b[0mfeed_dict\u001b[0m\u001b[0;34m,\u001b[0m \u001b[0mfetch_list\u001b[0m\u001b[0;34m,\u001b[0m \u001b[0mtarget_list\u001b[0m\u001b[0;34m,\u001b[0m\u001b[0;34m\u001b[0m\u001b[0m\n\u001b[0;32m-> 1302\u001b[0;31m                                    status, run_metadata)\n\u001b[0m\u001b[1;32m   1303\u001b[0m \u001b[0;34m\u001b[0m\u001b[0m\n",
      "\u001b[0;32m/usr/local/lib/python3.5/dist-packages/tensorflow/python/framework/errors_impl.py\u001b[0m in \u001b[0;36m__exit__\u001b[0;34m(self, type_arg, value_arg, traceback_arg)\u001b[0m\n\u001b[1;32m    472\u001b[0m             \u001b[0mcompat\u001b[0m\u001b[0;34m.\u001b[0m\u001b[0mas_text\u001b[0m\u001b[0;34m(\u001b[0m\u001b[0mc_api\u001b[0m\u001b[0;34m.\u001b[0m\u001b[0mTF_Message\u001b[0m\u001b[0;34m(\u001b[0m\u001b[0mself\u001b[0m\u001b[0;34m.\u001b[0m\u001b[0mstatus\u001b[0m\u001b[0;34m.\u001b[0m\u001b[0mstatus\u001b[0m\u001b[0;34m)\u001b[0m\u001b[0;34m)\u001b[0m\u001b[0;34m,\u001b[0m\u001b[0;34m\u001b[0m\u001b[0m\n\u001b[0;32m--> 473\u001b[0;31m             c_api.TF_GetCode(self.status.status))\n\u001b[0m\u001b[1;32m    474\u001b[0m     \u001b[0;31m# Delete the underlying status object from memory otherwise it stays alive\u001b[0m\u001b[0;34m\u001b[0m\u001b[0;34m\u001b[0m\u001b[0m\n",
      "\u001b[0;31mInvalidArgumentError\u001b[0m: You must feed a value for placeholder tensor '0/RBF/variance/initial_unconstrained_value' with dtype double\n\t [[Node: 0/RBF/variance/initial_unconstrained_value = Placeholder[dtype=DT_DOUBLE, shape=[], _device=\"/job:localhost/replica:0/task:0/device:GPU:0\"]()]]",
      "\nDuring handling of the above exception, another exception occurred:\n",
      "\u001b[0;31mInvalidArgumentError\u001b[0m                 Traceback (most recent call last)",
      "\u001b[0;32m<ipython-input-6-1f538621a98d>\u001b[0m in \u001b[0;36m<module>\u001b[0;34m()\u001b[0m\n\u001b[1;32m      1\u001b[0m \u001b[0;31m# get the full CNN\u001b[0m\u001b[0;34m\u001b[0m\u001b[0;34m\u001b[0m\u001b[0m\n\u001b[0;32m----> 2\u001b[0;31m \u001b[0mmnist_cnn\u001b[0m \u001b[0;34m=\u001b[0m \u001b[0mkeras\u001b[0m\u001b[0;34m.\u001b[0m\u001b[0mmodels\u001b[0m\u001b[0;34m.\u001b[0m\u001b[0mload_model\u001b[0m\u001b[0;34m(\u001b[0m\u001b[0;34m'../models/mnist_cnn.h5'\u001b[0m\u001b[0;34m)\u001b[0m\u001b[0;34m\u001b[0m\u001b[0m\n\u001b[0m",
      "\u001b[0;32m/local/scratch/js2173/venv/lib/python3.5/site-packages/keras/models.py\u001b[0m in \u001b[0;36mload_model\u001b[0;34m(filepath, custom_objects, compile)\u001b[0m\n\u001b[1;32m    234\u001b[0m \u001b[0;34m\u001b[0m\u001b[0m\n\u001b[1;32m    235\u001b[0m         \u001b[0;31m# set weights\u001b[0m\u001b[0;34m\u001b[0m\u001b[0;34m\u001b[0m\u001b[0m\n\u001b[0;32m--> 236\u001b[0;31m         \u001b[0mtopology\u001b[0m\u001b[0;34m.\u001b[0m\u001b[0mload_weights_from_hdf5_group\u001b[0m\u001b[0;34m(\u001b[0m\u001b[0mf\u001b[0m\u001b[0;34m[\u001b[0m\u001b[0;34m'model_weights'\u001b[0m\u001b[0;34m]\u001b[0m\u001b[0;34m,\u001b[0m \u001b[0mmodel\u001b[0m\u001b[0;34m.\u001b[0m\u001b[0mlayers\u001b[0m\u001b[0;34m)\u001b[0m\u001b[0;34m\u001b[0m\u001b[0m\n\u001b[0m\u001b[1;32m    237\u001b[0m \u001b[0;34m\u001b[0m\u001b[0m\n\u001b[1;32m    238\u001b[0m         \u001b[0;31m# Early return if compilation is not required.\u001b[0m\u001b[0;34m\u001b[0m\u001b[0;34m\u001b[0m\u001b[0m\n",
      "\u001b[0;32m/local/scratch/js2173/venv/lib/python3.5/site-packages/keras/engine/topology.py\u001b[0m in \u001b[0;36mload_weights_from_hdf5_group\u001b[0;34m(f, layers)\u001b[0m\n\u001b[1;32m   3046\u001b[0m                              ' elements.')\n\u001b[1;32m   3047\u001b[0m         \u001b[0mweight_value_tuples\u001b[0m \u001b[0;34m+=\u001b[0m \u001b[0mzip\u001b[0m\u001b[0;34m(\u001b[0m\u001b[0msymbolic_weights\u001b[0m\u001b[0;34m,\u001b[0m \u001b[0mweight_values\u001b[0m\u001b[0;34m)\u001b[0m\u001b[0;34m\u001b[0m\u001b[0m\n\u001b[0;32m-> 3048\u001b[0;31m     \u001b[0mK\u001b[0m\u001b[0;34m.\u001b[0m\u001b[0mbatch_set_value\u001b[0m\u001b[0;34m(\u001b[0m\u001b[0mweight_value_tuples\u001b[0m\u001b[0;34m)\u001b[0m\u001b[0;34m\u001b[0m\u001b[0m\n\u001b[0m\u001b[1;32m   3049\u001b[0m \u001b[0;34m\u001b[0m\u001b[0m\n\u001b[1;32m   3050\u001b[0m \u001b[0;34m\u001b[0m\u001b[0m\n",
      "\u001b[0;32m/local/scratch/js2173/venv/lib/python3.5/site-packages/keras/backend/tensorflow_backend.py\u001b[0m in \u001b[0;36mbatch_set_value\u001b[0;34m(tuples)\u001b[0m\n\u001b[1;32m   2186\u001b[0m             \u001b[0massign_ops\u001b[0m\u001b[0;34m.\u001b[0m\u001b[0mappend\u001b[0m\u001b[0;34m(\u001b[0m\u001b[0massign_op\u001b[0m\u001b[0;34m)\u001b[0m\u001b[0;34m\u001b[0m\u001b[0m\n\u001b[1;32m   2187\u001b[0m             \u001b[0mfeed_dict\u001b[0m\u001b[0;34m[\u001b[0m\u001b[0massign_placeholder\u001b[0m\u001b[0;34m]\u001b[0m \u001b[0;34m=\u001b[0m \u001b[0mvalue\u001b[0m\u001b[0;34m\u001b[0m\u001b[0m\n\u001b[0;32m-> 2188\u001b[0;31m         \u001b[0mget_session\u001b[0m\u001b[0;34m(\u001b[0m\u001b[0;34m)\u001b[0m\u001b[0;34m.\u001b[0m\u001b[0mrun\u001b[0m\u001b[0;34m(\u001b[0m\u001b[0massign_ops\u001b[0m\u001b[0;34m,\u001b[0m \u001b[0mfeed_dict\u001b[0m\u001b[0;34m=\u001b[0m\u001b[0mfeed_dict\u001b[0m\u001b[0;34m)\u001b[0m\u001b[0;34m\u001b[0m\u001b[0m\n\u001b[0m\u001b[1;32m   2189\u001b[0m \u001b[0;34m\u001b[0m\u001b[0m\n\u001b[1;32m   2190\u001b[0m \u001b[0;34m\u001b[0m\u001b[0m\n",
      "\u001b[0;32m/local/scratch/js2173/venv/lib/python3.5/site-packages/keras/backend/tensorflow_backend.py\u001b[0m in \u001b[0;36mget_session\u001b[0;34m()\u001b[0m\n\u001b[1;32m    166\u001b[0m     \u001b[0;32mif\u001b[0m \u001b[0;32mnot\u001b[0m \u001b[0m_MANUAL_VAR_INIT\u001b[0m\u001b[0;34m:\u001b[0m\u001b[0;34m\u001b[0m\u001b[0m\n\u001b[1;32m    167\u001b[0m         \u001b[0;32mwith\u001b[0m \u001b[0msession\u001b[0m\u001b[0;34m.\u001b[0m\u001b[0mgraph\u001b[0m\u001b[0;34m.\u001b[0m\u001b[0mas_default\u001b[0m\u001b[0;34m(\u001b[0m\u001b[0;34m)\u001b[0m\u001b[0;34m:\u001b[0m\u001b[0;34m\u001b[0m\u001b[0m\n\u001b[0;32m--> 168\u001b[0;31m             \u001b[0m_initialize_variables\u001b[0m\u001b[0;34m(\u001b[0m\u001b[0;34m)\u001b[0m\u001b[0;34m\u001b[0m\u001b[0m\n\u001b[0m\u001b[1;32m    169\u001b[0m     \u001b[0;32mreturn\u001b[0m \u001b[0msession\u001b[0m\u001b[0;34m\u001b[0m\u001b[0m\n\u001b[1;32m    170\u001b[0m \u001b[0;34m\u001b[0m\u001b[0m\n",
      "\u001b[0;32m/local/scratch/js2173/venv/lib/python3.5/site-packages/keras/backend/tensorflow_backend.py\u001b[0m in \u001b[0;36m_initialize_variables\u001b[0;34m()\u001b[0m\n\u001b[1;32m    339\u001b[0m     \u001b[0;32mif\u001b[0m \u001b[0muninitialized_variables\u001b[0m\u001b[0;34m:\u001b[0m\u001b[0;34m\u001b[0m\u001b[0m\n\u001b[1;32m    340\u001b[0m         \u001b[0msess\u001b[0m \u001b[0;34m=\u001b[0m \u001b[0mget_session\u001b[0m\u001b[0;34m(\u001b[0m\u001b[0;34m)\u001b[0m\u001b[0;34m\u001b[0m\u001b[0m\n\u001b[0;32m--> 341\u001b[0;31m         \u001b[0msess\u001b[0m\u001b[0;34m.\u001b[0m\u001b[0mrun\u001b[0m\u001b[0;34m(\u001b[0m\u001b[0mtf\u001b[0m\u001b[0;34m.\u001b[0m\u001b[0mvariables_initializer\u001b[0m\u001b[0;34m(\u001b[0m\u001b[0muninitialized_variables\u001b[0m\u001b[0;34m)\u001b[0m\u001b[0;34m)\u001b[0m\u001b[0;34m\u001b[0m\u001b[0m\n\u001b[0m\u001b[1;32m    342\u001b[0m \u001b[0;34m\u001b[0m\u001b[0m\n\u001b[1;32m    343\u001b[0m \u001b[0;34m\u001b[0m\u001b[0m\n",
      "\u001b[0;32m/usr/local/lib/python3.5/dist-packages/tensorflow/python/client/session.py\u001b[0m in \u001b[0;36mrun\u001b[0;34m(self, fetches, feed_dict, options, run_metadata)\u001b[0m\n\u001b[1;32m    887\u001b[0m     \u001b[0;32mtry\u001b[0m\u001b[0;34m:\u001b[0m\u001b[0;34m\u001b[0m\u001b[0m\n\u001b[1;32m    888\u001b[0m       result = self._run(None, fetches, feed_dict, options_ptr,\n\u001b[0;32m--> 889\u001b[0;31m                          run_metadata_ptr)\n\u001b[0m\u001b[1;32m    890\u001b[0m       \u001b[0;32mif\u001b[0m \u001b[0mrun_metadata\u001b[0m\u001b[0;34m:\u001b[0m\u001b[0;34m\u001b[0m\u001b[0m\n\u001b[1;32m    891\u001b[0m         \u001b[0mproto_data\u001b[0m \u001b[0;34m=\u001b[0m \u001b[0mtf_session\u001b[0m\u001b[0;34m.\u001b[0m\u001b[0mTF_GetBuffer\u001b[0m\u001b[0;34m(\u001b[0m\u001b[0mrun_metadata_ptr\u001b[0m\u001b[0;34m)\u001b[0m\u001b[0;34m\u001b[0m\u001b[0m\n",
      "\u001b[0;32m/usr/local/lib/python3.5/dist-packages/tensorflow/python/client/session.py\u001b[0m in \u001b[0;36m_run\u001b[0;34m(self, handle, fetches, feed_dict, options, run_metadata)\u001b[0m\n\u001b[1;32m   1118\u001b[0m     \u001b[0;32mif\u001b[0m \u001b[0mfinal_fetches\u001b[0m \u001b[0;32mor\u001b[0m \u001b[0mfinal_targets\u001b[0m \u001b[0;32mor\u001b[0m \u001b[0;34m(\u001b[0m\u001b[0mhandle\u001b[0m \u001b[0;32mand\u001b[0m \u001b[0mfeed_dict_tensor\u001b[0m\u001b[0;34m)\u001b[0m\u001b[0;34m:\u001b[0m\u001b[0;34m\u001b[0m\u001b[0m\n\u001b[1;32m   1119\u001b[0m       results = self._do_run(handle, final_targets, final_fetches,\n\u001b[0;32m-> 1120\u001b[0;31m                              feed_dict_tensor, options, run_metadata)\n\u001b[0m\u001b[1;32m   1121\u001b[0m     \u001b[0;32melse\u001b[0m\u001b[0;34m:\u001b[0m\u001b[0;34m\u001b[0m\u001b[0m\n\u001b[1;32m   1122\u001b[0m       \u001b[0mresults\u001b[0m \u001b[0;34m=\u001b[0m \u001b[0;34m[\u001b[0m\u001b[0;34m]\u001b[0m\u001b[0;34m\u001b[0m\u001b[0m\n",
      "\u001b[0;32m/usr/local/lib/python3.5/dist-packages/tensorflow/python/client/session.py\u001b[0m in \u001b[0;36m_do_run\u001b[0;34m(self, handle, target_list, fetch_list, feed_dict, options, run_metadata)\u001b[0m\n\u001b[1;32m   1315\u001b[0m     \u001b[0;32mif\u001b[0m \u001b[0mhandle\u001b[0m \u001b[0;32mis\u001b[0m \u001b[0;32mNone\u001b[0m\u001b[0;34m:\u001b[0m\u001b[0;34m\u001b[0m\u001b[0m\n\u001b[1;32m   1316\u001b[0m       return self._do_call(_run_fn, self._session, feeds, fetches, targets,\n\u001b[0;32m-> 1317\u001b[0;31m                            options, run_metadata)\n\u001b[0m\u001b[1;32m   1318\u001b[0m     \u001b[0;32melse\u001b[0m\u001b[0;34m:\u001b[0m\u001b[0;34m\u001b[0m\u001b[0m\n\u001b[1;32m   1319\u001b[0m       \u001b[0;32mreturn\u001b[0m \u001b[0mself\u001b[0m\u001b[0;34m.\u001b[0m\u001b[0m_do_call\u001b[0m\u001b[0;34m(\u001b[0m\u001b[0m_prun_fn\u001b[0m\u001b[0;34m,\u001b[0m \u001b[0mself\u001b[0m\u001b[0;34m.\u001b[0m\u001b[0m_session\u001b[0m\u001b[0;34m,\u001b[0m \u001b[0mhandle\u001b[0m\u001b[0;34m,\u001b[0m \u001b[0mfeeds\u001b[0m\u001b[0;34m,\u001b[0m \u001b[0mfetches\u001b[0m\u001b[0;34m)\u001b[0m\u001b[0;34m\u001b[0m\u001b[0m\n",
      "\u001b[0;32m/usr/local/lib/python3.5/dist-packages/tensorflow/python/client/session.py\u001b[0m in \u001b[0;36m_do_call\u001b[0;34m(self, fn, *args)\u001b[0m\n\u001b[1;32m   1334\u001b[0m         \u001b[0;32mexcept\u001b[0m \u001b[0mKeyError\u001b[0m\u001b[0;34m:\u001b[0m\u001b[0;34m\u001b[0m\u001b[0m\n\u001b[1;32m   1335\u001b[0m           \u001b[0;32mpass\u001b[0m\u001b[0;34m\u001b[0m\u001b[0m\n\u001b[0;32m-> 1336\u001b[0;31m       \u001b[0;32mraise\u001b[0m \u001b[0mtype\u001b[0m\u001b[0;34m(\u001b[0m\u001b[0me\u001b[0m\u001b[0;34m)\u001b[0m\u001b[0;34m(\u001b[0m\u001b[0mnode_def\u001b[0m\u001b[0;34m,\u001b[0m \u001b[0mop\u001b[0m\u001b[0;34m,\u001b[0m \u001b[0mmessage\u001b[0m\u001b[0;34m)\u001b[0m\u001b[0;34m\u001b[0m\u001b[0m\n\u001b[0m\u001b[1;32m   1337\u001b[0m \u001b[0;34m\u001b[0m\u001b[0m\n\u001b[1;32m   1338\u001b[0m   \u001b[0;32mdef\u001b[0m \u001b[0m_extend_graph\u001b[0m\u001b[0;34m(\u001b[0m\u001b[0mself\u001b[0m\u001b[0;34m)\u001b[0m\u001b[0;34m:\u001b[0m\u001b[0;34m\u001b[0m\u001b[0m\n",
      "\u001b[0;31mInvalidArgumentError\u001b[0m: You must feed a value for placeholder tensor '0/RBF/variance/initial_unconstrained_value' with dtype double\n\t [[Node: 0/RBF/variance/initial_unconstrained_value = Placeholder[dtype=DT_DOUBLE, shape=[], _device=\"/job:localhost/replica:0/task:0/device:GPU:0\"]()]]\n\nCaused by op '0/RBF/variance/initial_unconstrained_value', defined at:\n  File \"/usr/lib/python3.5/runpy.py\", line 184, in _run_module_as_main\n    \"__main__\", mod_spec)\n  File \"/usr/lib/python3.5/runpy.py\", line 85, in _run_code\n    exec(code, run_globals)\n  File \"/usr/local/lib/python3.5/dist-packages/ipykernel_launcher.py\", line 16, in <module>\n    app.launch_new_instance()\n  File \"/usr/local/lib/python3.5/dist-packages/traitlets/config/application.py\", line 658, in launch_instance\n    app.start()\n  File \"/usr/local/lib/python3.5/dist-packages/ipykernel/kernelapp.py\", line 477, in start\n    ioloop.IOLoop.instance().start()\n  File \"/usr/local/lib/python3.5/dist-packages/zmq/eventloop/ioloop.py\", line 177, in start\n    super(ZMQIOLoop, self).start()\n  File \"/usr/local/lib/python3.5/dist-packages/tornado/ioloop.py\", line 888, in start\n    handler_func(fd_obj, events)\n  File \"/usr/local/lib/python3.5/dist-packages/tornado/stack_context.py\", line 277, in null_wrapper\n    return fn(*args, **kwargs)\n  File \"/usr/local/lib/python3.5/dist-packages/zmq/eventloop/zmqstream.py\", line 440, in _handle_events\n    self._handle_recv()\n  File \"/usr/local/lib/python3.5/dist-packages/zmq/eventloop/zmqstream.py\", line 472, in _handle_recv\n    self._run_callback(callback, msg)\n  File \"/usr/local/lib/python3.5/dist-packages/zmq/eventloop/zmqstream.py\", line 414, in _run_callback\n    callback(*args, **kwargs)\n  File \"/usr/local/lib/python3.5/dist-packages/tornado/stack_context.py\", line 277, in null_wrapper\n    return fn(*args, **kwargs)\n  File \"/usr/local/lib/python3.5/dist-packages/ipykernel/kernelbase.py\", line 283, in dispatcher\n    return self.dispatch_shell(stream, msg)\n  File \"/usr/local/lib/python3.5/dist-packages/ipykernel/kernelbase.py\", line 235, in dispatch_shell\n    handler(stream, idents, msg)\n  File \"/usr/local/lib/python3.5/dist-packages/ipykernel/kernelbase.py\", line 399, in execute_request\n    user_expressions, allow_stdin)\n  File \"/usr/local/lib/python3.5/dist-packages/ipykernel/ipkernel.py\", line 196, in do_execute\n    res = shell.run_cell(code, store_history=store_history, silent=silent)\n  File \"/usr/local/lib/python3.5/dist-packages/ipykernel/zmqshell.py\", line 533, in run_cell\n    return super(ZMQInteractiveShell, self).run_cell(*args, **kwargs)\n  File \"/usr/local/lib/python3.5/dist-packages/IPython/core/interactiveshell.py\", line 2728, in run_cell\n    interactivity=interactivity, compiler=compiler, result=result)\n  File \"/usr/local/lib/python3.5/dist-packages/IPython/core/interactiveshell.py\", line 2850, in run_ast_nodes\n    if self.run_code(code, result):\n  File \"/usr/local/lib/python3.5/dist-packages/IPython/core/interactiveshell.py\", line 2910, in run_code\n    exec(code_obj, self.user_global_ns, self.user_ns)\n  File \"<ipython-input-2-d9e24de7c50f>\", line 19, in <module>\n    xs_train_full, ys, kern=gpflow.kernels.RBF(input_dim=num_features) + gpflow.kernels.White(input_dim=num_features, variance=0.1),\n  File \"/local/scratch/js2173/venv/lib/python3.5/site-packages/gpflow/core/compilable.py\", line 90, in __init__\n    self.build()\n  File \"/local/scratch/js2173/venv/lib/python3.5/site-packages/gpflow/core/node.py\", line 172, in build\n    self._build()\n  File \"/local/scratch/js2173/venv/lib/python3.5/site-packages/gpflow/params/parameterized.py\", line 284, in _build\n    param.build()\n  File \"/local/scratch/js2173/venv/lib/python3.5/site-packages/gpflow/core/node.py\", line 172, in build\n    self._build()\n  File \"/local/scratch/js2173/venv/lib/python3.5/site-packages/gpflow/params/parameter.py\", line 345, in _build\n    unconstrained = self._build_parameter()\n  File \"/local/scratch/js2173/venv/lib/python3.5/site-packages/gpflow/params/parameter.py\", line 367, in _build_parameter\n    init = tf.placeholder(self.dtype, shape=shape, name='initial_unconstrained_value')\n  File \"/usr/local/lib/python3.5/dist-packages/tensorflow/python/ops/array_ops.py\", line 1599, in placeholder\n    return gen_array_ops._placeholder(dtype=dtype, shape=shape, name=name)\n  File \"/usr/local/lib/python3.5/dist-packages/tensorflow/python/ops/gen_array_ops.py\", line 3091, in _placeholder\n    \"Placeholder\", dtype=dtype, shape=shape, name=name)\n  File \"/usr/local/lib/python3.5/dist-packages/tensorflow/python/framework/op_def_library.py\", line 787, in _apply_op_helper\n    op_def=op_def)\n  File \"/usr/local/lib/python3.5/dist-packages/tensorflow/python/framework/ops.py\", line 2956, in create_op\n    op_def=op_def)\n  File \"/usr/local/lib/python3.5/dist-packages/tensorflow/python/framework/ops.py\", line 1470, in __init__\n    self._traceback = self._graph._extract_stack()  # pylint: disable=protected-access\n\nInvalidArgumentError (see above for traceback): You must feed a value for placeholder tensor '0/RBF/variance/initial_unconstrained_value' with dtype double\n\t [[Node: 0/RBF/variance/initial_unconstrained_value = Placeholder[dtype=DT_DOUBLE, shape=[], _device=\"/job:localhost/replica:0/task:0/device:GPU:0\"]()]]\n"
     ]
    }
   ],
   "source": [
    "# get the full CNN\n",
    "mnist_cnn = keras.models.load_model('../models/mnist_cnn.h5')"
   ]
  },
  {
   "cell_type": "code",
   "execution_count": null,
   "metadata": {},
   "outputs": [],
   "source": [
    "img_rows, img_cols = 28, 28\n",
    "if K.image_data_format() == 'channels_first':\n",
    "    mnist_test_full_reshape = mnist_test_full.reshape(xs_test_full.shape[0], 1, img_rows, img_cols)\n",
    "    input_shape = (1, img_rows, img_cols)\n",
    "else:\n",
    "    mnist_test_full_reshape = mnist_test_full.reshape(xs_test_full.shape[0], img_rows, img_cols, 1)\n",
    "    input_shape = (img_rows, img_cols, 1)\n",
    "    \n",
    "\n",
    "mnist_test_full_reshape = mnist_test_full_reshape.astype('float32')\n",
    "mnist_test_full_reshape /= 255"
   ]
  },
  {
   "cell_type": "code",
   "execution_count": null,
   "metadata": {},
   "outputs": [],
   "source": [
    "cnn_test_probs = mnist_cnn.predict_on_batch(mnist_test_full_reshape)\n",
    "cnn_predicted_classes = np.argmax(cnn_test_probs, axis=1)\n",
    "print(\"Num CNN incorrect:\", np.count_nonzero(cnn_predicted_classes != correct_classes))"
   ]
  },
  {
   "cell_type": "code",
   "execution_count": null,
   "metadata": {},
   "outputs": [],
   "source": [
    "print(np.count_nonzero(cnn_predicted_classes != correct_classes)/10000)"
   ]
  },
  {
   "cell_type": "code",
   "execution_count": null,
   "metadata": {},
   "outputs": [],
   "source": [
    "# Combined model\n",
    "\n",
    "\n",
    "\"\"\" \n",
    "params:\n",
    "    cnn_probs\n",
    "    gp_probs,\n",
    "    gp_vars,\n",
    "    verbose,\n",
    "    accept_cnn_stddev\n",
    "\"\"\"\n",
    "\n",
    "def combined_predict_efficient(cnn_probs_all, gp_mu, gp_var, verbose=False, accept_cnn_stddev = 1.0):\n",
    "    assert (cnn_probs_all.shape[0] == gp_mu.shape[0] == gp_var.shape[0])\n",
    "    decisions = []\n",
    "    decision_probs = []\n",
    "    decision_vars = []\n",
    "    for (mu, var, cnn_probs) in zip(gp_mu, gp_var, cnn_probs_all):\n",
    "        cnn_class = np.argmax(cnn_probs)\n",
    "        gp_class = np.argmax(mu)\n",
    "        \n",
    "        gp_pred_prob = mu[gp_class]\n",
    "        gp_pred_var = var[gp_class]\n",
    "        \n",
    "        cnn_pred_prob = cnn_probs[cnn_class]\n",
    "        \n",
    "        # both classes agree\n",
    "        if gp_class == cnn_class:\n",
    "            # we may have to accept the wrong decision but can't do anything about it\n",
    "            #if verbose:\n",
    "            #    print(\"Models agree on predicted class\")\n",
    "            decisions.append([0, gp_class, gp_pred_prob, gp_pred_var])\n",
    "            decision_probs.append(mu)\n",
    "            decision_vars.append(var)\n",
    "        else:\n",
    "            # disagreement! This is additional information\n",
    "            # From prior experiments we suspect that NN is more likely to be correct [non-adverserial examples tested]\n",
    "            # So, if we take the CNN prediction and check if it's the same as the _second_ highest GP prediction\n",
    "            # try using that?\n",
    "\n",
    "            # Revised:\n",
    "            #  Take the CNN prediction IF it's probability is within 1 stddev of the corresponding GP class probability\n",
    "\n",
    "            # core idea: if CNN is _too_ sure then we revert to GP prediction -- might be adverserial...?\n",
    "\n",
    "            gp_prob_for_cnn_pred = mu[cnn_class]\n",
    "            gp_stddev_for_cnn_pred = np.sqrt(var[cnn_class])\n",
    "\n",
    "            if verbose:\n",
    "                print(\"Models disagree on predicted class\")\n",
    "\n",
    "            if cnn_pred_prob < (gp_prob_for_cnn_pred + accept_cnn_stddev*gp_stddev_for_cnn_pred) \\\n",
    "               and cnn_pred_prob > (gp_pred_prob - accept_cnn_stddev*np.sqrt(gp_pred_var)):\n",
    "                if verbose:\n",
    "                    print(\"  Taking CNN prediction p=\", cnn_pred_prob, \", probability is within\", accept_cnn_stddev, \"stddev of GP probability p=\", gp_prob_for_cnn_pred)\n",
    "                decisions.append([1, cnn_class, cnn_pred_prob, -1])\n",
    "                decision_probs.append(cnn_probs)\n",
    "                decision_vars.append([-1 for x in range(mu.shape[-1])])\n",
    "\n",
    "            else:\n",
    "                if verbose:\n",
    "                    print(\"  Taking GP prediction\")\n",
    "                decisions.append([0, gp_class, gp_pred_prob, gp_pred_var])\n",
    "                decision_probs.append(mu)\n",
    "                decision_vars.append(var)\n",
    "    return (np.array(decisions), np.array(decision_probs), np.array(decision_vars))\n",
    "\n"
   ]
  },
  {
   "cell_type": "code",
   "execution_count": null,
   "metadata": {
    "scrolled": true
   },
   "outputs": [],
   "source": [
    "\n",
    "\n",
    "#combined_pred, combined_mus, combined_vars = combined_predict(cnn=mnist_cnn, gp=gp_model, images=mnist_test_full_reshape, accept_cnn_stddev=1.0)\n",
    "combined_pred, combined_mus, combined_vars = combined_predict_efficient(cnn_test_probs, mu, var, accept_cnn_stddev=1.0)\n",
    "combined_pred_classes = combined_pred[:, 1]\n",
    "combined_incorrect = combined_pred_classes != correct_classes\n",
    "print(\"Num Combined incorrect: \", np.count_nonzero(combined_incorrect))"
   ]
  },
  {
   "cell_type": "code",
   "execution_count": null,
   "metadata": {},
   "outputs": [],
   "source": [
    "# Have all 3 of MNIST CNN, trained GP, and combined model!"
   ]
  },
  {
   "cell_type": "code",
   "execution_count": null,
   "metadata": {},
   "outputs": [],
   "source": [
    "# Preprocess the N-MNIST data just like standard MNIST\n",
    "nmnist_noisy = scipy.io.loadmat('../data/raw/n-mnist/nmnist-awgn.mat')\n",
    "nmnist_blur = scipy.io.loadmat('../data/raw/n-mnist/nmnist-blur.mat')\n",
    "nmnist_noisy_lowcontrast = scipy.io.loadmat('../data/raw/n-mnist/nmnist-contrast.mat')"
   ]
  },
  {
   "cell_type": "code",
   "execution_count": null,
   "metadata": {
    "scrolled": true
   },
   "outputs": [],
   "source": [
    "from keras import backend as K\n",
    "import keras.utils\n",
    "\n",
    "def preprocess_mnist(xs, ys, one_hot_encode=-1):\n",
    "    img_rows, img_cols = 28, 28    \n",
    "    # reshape to inputs to correct shape\n",
    "    if K.image_data_format() == 'channels_first':\n",
    "        xs = xs.reshape(xs.shape[0], 1, img_rows, img_cols)\n",
    "        input_shape = (1, img_rows, img_cols)\n",
    "    else:\n",
    "        xs = xs.reshape(xs.shape[0], img_rows, img_cols, 1)\n",
    "        input_shape = (img_rows, img_cols, 1)\n",
    "    xs = xs.astype('float32')\n",
    "    xs /= 255\n",
    "    \n",
    "    if one_hot_encode != -1:\n",
    "        ys = keras.utils.to_categorical(ys, one_hot_encode) # one_hot_encode is the number of classes\n",
    "    \n",
    "    return (xs, ys)"
   ]
  },
  {
   "cell_type": "code",
   "execution_count": null,
   "metadata": {},
   "outputs": [],
   "source": [
    "feature_extractor = K.function([mnist_cnn.layers[0].input, K.learning_phase()],\n",
    "                               [mnist_cnn.layers[6].output])"
   ]
  },
  {
   "cell_type": "code",
   "execution_count": null,
   "metadata": {},
   "outputs": [],
   "source": [
    "# Process noisy mnist\n",
    "\n",
    "awgn_x_test, awgn_y_test = preprocess_mnist(nmnist_noisy['test_x'], nmnist_noisy['test_y'])\n",
    "awgn_features = feature_extractor([awgn_x_test, 0])[0]\n",
    "awgn_correct_classes = np.argmax(awgn_y_test, axis=1)\n",
    "\n",
    "awgn_gp_mu, awgn_gp_var = gp_model.predict_y(awgn_features)\n",
    "awgn_gp_preds = np.argmax(awgn_gp_mu, axis=1)\n",
    "awgn_gp_incorrect = awgn_gp_preds != awgn_correct_classes\n",
    "print(\"AWGN: gp incorrect: \", np.count_nonzero(awgn_gp_incorrect))\n",
    "\n",
    "awgn_cnn_probs = mnist_cnn.predict_on_batch(awgn_x_test)\n",
    "awgn_cnn_preds = np.argmax(awgn_cnn_probs, axis=1)\n",
    "awgn_cnn_incorrect = awgn_cnn_preds != awgn_correct_classes\n",
    "print(\"AWGN: cnn incorrect: \", np.count_nonzero(awgn_cnn_incorrect))\n",
    "\n",
    "awgn_combined_pred, awgn_combined_mus, awgn_combined_vars = combined_predict_efficient(awgn_cnn_probs, awgn_gp_mu, awgn_gp_var, accept_cnn_stddev=1.0)\n",
    "awgn_combined_pred_classes = awgn_combined_pred[:, 1]\n",
    "awgn_combined_incorrect = awgn_combined_pred_classes != awgn_correct_classes\n",
    "print(\"AWGN: combined incorrect: \", np.count_nonzero(awgn_combined_incorrect))"
   ]
  },
  {
   "cell_type": "code",
   "execution_count": null,
   "metadata": {
    "scrolled": true
   },
   "outputs": [],
   "source": [
    "# Process blurred mnist\n",
    "blur_x_test, blur_y_test = preprocess_mnist(nmnist_blur['test_x'], nmnist_blur['test_y'])\n",
    "blur_features = feature_extractor([blur_x_test, 0])[0]\n",
    "blur_correct_classes = np.argmax(blur_y_test, axis=1)\n",
    "\n",
    "blur_gp_mu, blur_gp_var = gp_model.predict_y(blur_features)\n",
    "blur_gp_preds = np.argmax(blur_gp_mu, axis=1)\n",
    "blur_gp_incorrect = blur_gp_preds != blur_correct_classes\n",
    "print(\"Blur: gp incorrect: \", np.count_nonzero(blur_gp_incorrect))\n",
    "\n",
    "blur_cnn_probs = mnist_cnn.predict_on_batch(blur_x_test)\n",
    "blur_cnn_preds = np.argmax(blur_cnn_probs, axis=1)\n",
    "blur_cnn_incorrect = blur_cnn_preds != blur_correct_classes\n",
    "print(\"Blur: cnn incorrect: \", np.count_nonzero(blur_cnn_incorrect))\n",
    "\n",
    "blur_combined_pred, blur_combined_mus, blur_combined_vars = combined_predict_efficient(blur_cnn_probs, blur_gp_mu, blur_gp_var, accept_cnn_stddev=1.0)\n",
    "blur_combined_pred_classes = blur_combined_pred[:, 1]\n",
    "blur_combined_incorrect = blur_combined_pred_classes != blur_correct_classes\n",
    "print(\"Blur: combined incorrect: \", np.count_nonzero(blur_combined_incorrect))"
   ]
  },
  {
   "cell_type": "code",
   "execution_count": null,
   "metadata": {},
   "outputs": [],
   "source": [
    "# Process low contrast mnist\n",
    "lcontrast_x_test, lcontrast_y_test = preprocess_mnist(nmnist_noisy_lowcontrast['test_x'], nmnist_noisy_lowcontrast['test_y'])\n",
    "lcontrast_features = feature_extractor([lcontrast_x_test, 0])[0]\n",
    "lcontrast_correct_classes = np.argmax(lcontrast_y_test, axis=1)\n",
    "\n",
    "lcontrast_gp_mu, lcontrast_gp_var = gp_model.predict_y(lcontrast_features)\n",
    "lcontrast_gp_preds = np.argmax(lcontrast_gp_mu, axis=1)\n",
    "lcontrast_gp_incorrect = lcontrast_gp_preds != lcontrast_correct_classes\n",
    "print(\"lcontrast: gp incorrect: \", np.count_nonzero(lcontrast_gp_incorrect))\n",
    "\n",
    "lcontrast_cnn_probs = mnist_cnn.predict_on_batch(lcontrast_x_test)\n",
    "lcontrast_cnn_preds = np.argmax(lcontrast_cnn_probs, axis=1)\n",
    "lcontrast_cnn_incorrect = lcontrast_cnn_preds != lcontrast_correct_classes\n",
    "print(\"lcontrast: cnn incorrect: \", np.count_nonzero(lcontrast_cnn_incorrect))\n"
   ]
  },
  {
   "cell_type": "code",
   "execution_count": null,
   "metadata": {
    "scrolled": false
   },
   "outputs": [],
   "source": [
    "lcontrast_combined_pred, lcontrast_combined_mus, lcontrast_combined_vars = combined_predict_efficient(lcontrast_cnn_probs, lcontrast_gp_mu, lcontrast_gp_var, accept_cnn_stddev=0.5, verbose=False)\n",
    "lcontrast_combined_pred_classes = lcontrast_combined_pred[:, 1]\n",
    "lcontrast_combined_incorrect = lcontrast_combined_pred_classes != lcontrast_correct_classes\n",
    "print(\"lcontrast: combined incorrect: \", np.count_nonzero(lcontrast_combined_incorrect))"
   ]
  },
  {
   "cell_type": "code",
   "execution_count": null,
   "metadata": {},
   "outputs": [],
   "source": []
  },
  {
   "cell_type": "code",
   "execution_count": null,
   "metadata": {},
   "outputs": [],
   "source": [
    "\"\"\"\n",
    "# best Matern12 results:\n",
    "AWGN: gp incorrect:  360\n",
    "AWGN: cnn incorrect:  462\n",
    "AWGN: combined incorrect:  424\n",
    "Blur: gp incorrect:  1254\n",
    "Blur: cnn incorrect:  542\n",
    "Blur: combined incorrect:  677\n",
    "lcontrast: gp incorrect:  2848\n",
    "lcontrast: cnn incorrect:  2285\n",
    "lcontrast: combined incorrect:  2880\n",
    "\n",
    "\n",
    "# best Matern32 results:\n",
    "AWGN: gp incorrect:  320\n",
    "AWGN: cnn incorrect:  462\n",
    "AWGN: combined incorrect:  382\n",
    "Blur: gp incorrect:  1280\n",
    "Blur: cnn incorrect:  542\n",
    "Blur: combined incorrect:  778\n",
    "lcontrast: gp incorrect:  4135\n",
    "lcontrast: cnn incorrect:  2285\n",
    "lcontrast: combined incorrect:  3058\n",
    "        \n",
    "# best Matern52 results:\n",
    "AWGN: gp incorrect:  388\n",
    "AWGN: cnn incorrect:  462\n",
    "AWGN: combined incorrect:  399\n",
    "Blur: gp incorrect:  1304\n",
    "Blur: cnn incorrect:  542\n",
    "Blur: combined incorrect:  856\n",
    "lcontrast: gp incorrect:  4809\n",
    "lcontrast: cnn incorrect:  2285\n",
    "lcontrast: combined incorrect:  3537\n",
    "\n",
    "# best Linear results:\n",
    "AWGN: gp incorrect:  482\n",
    "AWGN: cnn incorrect:  462\n",
    "AWGN: combined incorrect:  461\n",
    "Blur: gp incorrect:  644\n",
    "Blur: cnn incorrect:  542\n",
    "Blur: combined incorrect:  555\n",
    "lcontrast: gp incorrect:  2158\n",
    "lcontrast: cnn incorrect:  2285\n",
    "lcontrast: combined incorrect:  2154\n",
    "\"\"\""
   ]
  }
 ],
 "metadata": {
  "kernelspec": {
   "display_name": "py_36_env",
   "language": "python",
   "name": "py_36_env"
  },
  "language_info": {
   "codemirror_mode": {
    "name": "ipython",
    "version": 3
   },
   "file_extension": ".py",
   "mimetype": "text/x-python",
   "name": "python",
   "nbconvert_exporter": "python",
   "pygments_lexer": "ipython3",
   "version": "3.5.2"
  }
 },
 "nbformat": 4,
 "nbformat_minor": 2
}
